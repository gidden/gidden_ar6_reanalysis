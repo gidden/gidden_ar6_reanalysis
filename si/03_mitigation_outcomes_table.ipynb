{
 "cells": [
  {
   "cell_type": "code",
   "execution_count": 1,
   "id": "606243fc",
   "metadata": {},
   "outputs": [
    {
     "data": {
      "application/javascript": [
       "if (typeof IPython !== 'undefined') { IPython.OutputArea.prototype._should_scroll = function(lines){ return false; }}"
      ],
      "text/plain": [
       "<IPython.core.display.Javascript object>"
      ]
     },
     "metadata": {},
     "output_type": "display_data"
    }
   ],
   "source": [
    "import itertools\n",
    "import pathlib\n",
    "import pyam\n",
    "\n",
    "import numpy as np\n",
    "import pandas as pd"
   ]
  },
  {
   "cell_type": "markdown",
   "id": "6e886978",
   "metadata": {},
   "source": [
    "# Load Data"
   ]
  },
  {
   "cell_type": "code",
   "execution_count": 61,
   "id": "52fa04c4",
   "metadata": {},
   "outputs": [],
   "source": [
    "data_path = pathlib.Path('../data')"
   ]
  },
  {
   "cell_type": "code",
   "execution_count": 73,
   "id": "da227a66",
   "metadata": {},
   "outputs": [],
   "source": [
    "paper_data = pd.concat([\n",
    "    pd.read_csv(data_path / 'gidden_et_al_2022_ar6_reanalysis_data.csv'),\n",
    "    pd.read_csv(data_path / 'additional_analysis_data.csv'),\n",
    "])"
   ]
  },
  {
   "cell_type": "code",
   "execution_count": 75,
   "id": "0a36205b",
   "metadata": {},
   "outputs": [
    {
     "name": "stderr",
     "output_type": "stream",
     "text": [
      "pyam.core - INFO: Reading meta indicators for 914 out of 1871 scenarios\n"
     ]
    }
   ],
   "source": [
    "pyam_paper_data = pyam.IamDataFrame(paper_data)\n",
    "pyam_paper_data.load_meta(data_path / 'gidden_et_al_2022_ar6_reanalysis_meta.csv')\n",
    "pyam_paper_data.meta = pyam_paper_data.meta.drop(columns=['Category']) # this will come back when we load in AR6 data"
   ]
  },
  {
   "cell_type": "code",
   "execution_count": 64,
   "id": "bfd11e68",
   "metadata": {},
   "outputs": [],
   "source": [
    "ar6_data = pd.read_csv(data_path / 'AR6_Scenarios_Database_World_v1.0.csv')"
   ]
  },
  {
   "cell_type": "code",
   "execution_count": 99,
   "id": "7864e6d2",
   "metadata": {},
   "outputs": [
    {
     "name": "stderr",
     "output_type": "stream",
     "text": [
      "pyam.core - WARNING: Reading meta indicators, ignoring 433 scenarios from file\n"
     ]
    }
   ],
   "source": [
    "variables = {\n",
    "    'AR6 climate diagnostics|Infilled|Emissions|CO2': \n",
    "    'AR6 climate diagnostics|Infilled|Emissions|CO2', \n",
    "    'AR6 climate diagnostics|Native-with-Infilled|Emissions|Kyoto Gases (AR6-GWP100)': \n",
    "    'AR6 climate diagnostics|Infilled|Emissions|Kyoto Gases',\n",
    "}\n",
    "pyam_ar6 = pyam.IamDataFrame(ar6_data[ar6_data.Variable.isin(list(variables) + ['Emissions|CO2', 'Emissions|Kyoto Gases'])])\n",
    "pyam_ar6.load_meta(data_path / 'AR6_Scenarios_Database_metadata_indicators_v1.0.xlsx')\n",
    "pyam_ar6 = (\n",
    "    pyam_ar6\n",
    "    .filter(Category=['C1', 'C3'])\n",
    "    .rename(variable=variables)\n",
    ")\n",
    "columns = {\n",
    "    'Year of netzero CO2 emissions (Harm-Infilled) table': \n",
    "    'Interpolated Net-Zero Year for AR6 climate diagnostics|Infilled|Emissions|CO2',\n",
    "    'Year of netzero GHG emissions (Harm-Infilled) table': \n",
    "    'Interpolated Net-Zero Year for AR6 climate diagnostics|Infilled|Emissions|Kyoto Gases',\n",
    "}\n",
    "pyam_ar6.meta.rename(columns=columns, inplace=True)\n",
    "pyam_ar6.meta = pyam_ar6.meta[['Category'] + list(columns.values())]"
   ]
  },
  {
   "cell_type": "markdown",
   "id": "59b58342",
   "metadata": {},
   "source": [
    "### Combine data sets\n",
    "\n",
    "We expect to have different numbers of scenarios, since `paper_data` reports only those scenarios which can be run with OSCAR."
   ]
  },
  {
   "cell_type": "code",
   "execution_count": 100,
   "id": "f20bb945",
   "metadata": {},
   "outputs": [],
   "source": [
    "df = pyam.concat([pyam_paper_data, pyam_ar6])"
   ]
  },
  {
   "cell_type": "code",
   "execution_count": 101,
   "id": "fed4b93a",
   "metadata": {},
   "outputs": [
    {
     "data": {
      "text/plain": [
       "97"
      ]
     },
     "execution_count": 101,
     "metadata": {},
     "output_type": "execute_result"
    }
   ],
   "source": [
    "len(df.filter(variable='Cumulative AR6 climate diagnostics|Infilled|Emissions|CO2 from 2020').filter(Category='C1').index)"
   ]
  },
  {
   "cell_type": "code",
   "execution_count": 102,
   "id": "506ebb08",
   "metadata": {},
   "outputs": [
    {
     "data": {
      "text/plain": [
       "70"
      ]
     },
     "execution_count": 102,
     "metadata": {},
     "output_type": "execute_result"
    }
   ],
   "source": [
    "len(df.filter(variable='Cumulative AR6 Reanalysis|OSCARv3.2|Emissions|CO2 from 2020').filter(Category='C1').index)"
   ]
  },
  {
   "cell_type": "code",
   "execution_count": 110,
   "id": "4d51e236",
   "metadata": {},
   "outputs": [],
   "source": [
    "variable_templates = [\n",
    "    'AR6 climate diagnostics|Infilled|Emissions|{gas}', # as reported in AR6\n",
    "    'AR6 Reanalysis|OSCARv3.2|Emissions|{gas}|Direct Only', # reanalyzed by OSCAR\n",
    "    'AR6 Reanalysis|OSCARv3.2|Emissions|{gas}', # reanalyzed by OSCAR including NGHGI adjustment \n",
    "]"
   ]
  },
  {
   "cell_type": "markdown",
   "id": "e0f12523",
   "metadata": {},
   "source": [
    "# Compute Carbon Budgets"
   ]
  },
  {
   "cell_type": "code",
   "execution_count": 111,
   "id": "de3761db",
   "metadata": {},
   "outputs": [],
   "source": [
    "def make_carbon_budget(df, variable):\n",
    "    meta = (\n",
    "        df\n",
    "        .meta\n",
    "        .query(\"Category in ['C1', 'C3']\")\n",
    "        [f'Interpolated Net-Zero Year for {variable}']\n",
    "        .dropna()\n",
    "        .astype(int)\n",
    "        .reset_index()\n",
    "    ) \n",
    "    data = (\n",
    "        df\n",
    "        .filter(region='World', variable=f'Cumulative {variable} from 2020')\n",
    "        .convert_unit('Mt CO2/yr', to='Gt CO2', factor=1e-3)\n",
    "    )\n",
    "    budgets = [(\n",
    "        row['model'], \n",
    "        row['scenario'], \n",
    "        data.filter(\n",
    "            model=row['model'], scenario=row['scenario'], \n",
    "            year=row[f'Interpolated Net-Zero Year for {variable}']\n",
    "        ).timeseries().values[0][0]\n",
    "    )\n",
    "        for i, row in meta.iterrows()\n",
    "    ]\n",
    "    return pd.DataFrame(budgets, columns=['model', 'scenario', f'Carbon Budget for {variable}']).set_index(['model', 'scenario'])\n",
    "        "
   ]
  },
  {
   "cell_type": "code",
   "execution_count": 112,
   "id": "e59239f7",
   "metadata": {},
   "outputs": [
    {
     "data": {
      "text/html": [
       "<div>\n",
       "<style scoped>\n",
       "    .dataframe tbody tr th:only-of-type {\n",
       "        vertical-align: middle;\n",
       "    }\n",
       "\n",
       "    .dataframe tbody tr th {\n",
       "        vertical-align: top;\n",
       "    }\n",
       "\n",
       "    .dataframe thead th {\n",
       "        text-align: right;\n",
       "    }\n",
       "</style>\n",
       "<table border=\"1\" class=\"dataframe\">\n",
       "  <thead>\n",
       "    <tr style=\"text-align: right;\">\n",
       "      <th></th>\n",
       "      <th></th>\n",
       "      <th>Carbon Budget for AR6 climate diagnostics|Infilled|Emissions|CO2</th>\n",
       "      <th>Carbon Budget for AR6 Reanalysis|OSCARv3.2|Emissions|CO2|Direct Only</th>\n",
       "      <th>Carbon Budget for AR6 Reanalysis|OSCARv3.2|Emissions|CO2</th>\n",
       "    </tr>\n",
       "    <tr>\n",
       "      <th>model</th>\n",
       "      <th>scenario</th>\n",
       "      <th></th>\n",
       "      <th></th>\n",
       "      <th></th>\n",
       "    </tr>\n",
       "  </thead>\n",
       "  <tbody>\n",
       "    <tr>\n",
       "      <th rowspan=\"2\" valign=\"top\">AIM/CGE 2.0</th>\n",
       "      <th>SSP1-26</th>\n",
       "      <td>945.615367</td>\n",
       "      <td>862.102117</td>\n",
       "      <td>711.308853</td>\n",
       "    </tr>\n",
       "    <tr>\n",
       "      <th>SSP4-26</th>\n",
       "      <td>982.207779</td>\n",
       "      <td>1036.223839</td>\n",
       "      <td>876.356706</td>\n",
       "    </tr>\n",
       "    <tr>\n",
       "      <th rowspan=\"2\" valign=\"top\">AIM/CGE 2.1</th>\n",
       "      <th>CD-LINKS_NPi2020_1000</th>\n",
       "      <td>679.395766</td>\n",
       "      <td>493.573297</td>\n",
       "      <td>374.487241</td>\n",
       "    </tr>\n",
       "    <tr>\n",
       "      <th>CD-LINKS_NPi2020_400</th>\n",
       "      <td>508.452135</td>\n",
       "      <td>364.560104</td>\n",
       "      <td>298.821486</td>\n",
       "    </tr>\n",
       "    <tr>\n",
       "      <th>AIM/CGE 2.2</th>\n",
       "      <th>EN_INDCi2030_1000f</th>\n",
       "      <td>1160.102947</td>\n",
       "      <td>989.933137</td>\n",
       "      <td>820.869212</td>\n",
       "    </tr>\n",
       "  </tbody>\n",
       "</table>\n",
       "</div>"
      ],
      "text/plain": [
       "                                   Carbon Budget for AR6 climate diagnostics|Infilled|Emissions|CO2  \\\n",
       "model       scenario                                                                                  \n",
       "AIM/CGE 2.0 SSP1-26                                                       945.615367                  \n",
       "            SSP4-26                                                       982.207779                  \n",
       "AIM/CGE 2.1 CD-LINKS_NPi2020_1000                                         679.395766                  \n",
       "            CD-LINKS_NPi2020_400                                          508.452135                  \n",
       "AIM/CGE 2.2 EN_INDCi2030_1000f                                           1160.102947                  \n",
       "\n",
       "                                   Carbon Budget for AR6 Reanalysis|OSCARv3.2|Emissions|CO2|Direct Only  \\\n",
       "model       scenario                                                                                      \n",
       "AIM/CGE 2.0 SSP1-26                                                       862.102117                      \n",
       "            SSP4-26                                                      1036.223839                      \n",
       "AIM/CGE 2.1 CD-LINKS_NPi2020_1000                                         493.573297                      \n",
       "            CD-LINKS_NPi2020_400                                          364.560104                      \n",
       "AIM/CGE 2.2 EN_INDCi2030_1000f                                            989.933137                      \n",
       "\n",
       "                                   Carbon Budget for AR6 Reanalysis|OSCARv3.2|Emissions|CO2  \n",
       "model       scenario                                                                         \n",
       "AIM/CGE 2.0 SSP1-26                                                       711.308853         \n",
       "            SSP4-26                                                       876.356706         \n",
       "AIM/CGE 2.1 CD-LINKS_NPi2020_1000                                         374.487241         \n",
       "            CD-LINKS_NPi2020_400                                          298.821486         \n",
       "AIM/CGE 2.2 EN_INDCi2030_1000f                                            820.869212         "
      ]
     },
     "execution_count": 112,
     "metadata": {},
     "output_type": "execute_result"
    }
   ],
   "source": [
    "new_meta = pd.concat([\n",
    "    make_carbon_budget(df, template.format(gas='CO2')) for template in variable_templates\n",
    "], axis=1)\n",
    "df.set_meta(new_meta)\n",
    "new_meta.head()"
   ]
  },
  {
   "cell_type": "markdown",
   "id": "d0325829",
   "metadata": {},
   "source": [
    "# Emission Reductions"
   ]
  },
  {
   "cell_type": "code",
   "execution_count": 113,
   "id": "10a97013",
   "metadata": {},
   "outputs": [],
   "source": [
    "def compute_reduction(df, variable, fromyear=2020, toyear=2030):\n",
    "    data = (\n",
    "        df\n",
    "        .filter(variable=variable, year=[fromyear, toyear], region='World')\n",
    "        .timeseries()\n",
    "        .droplevel(['region', 'unit', 'variable'])\n",
    "    )\n",
    "    s = (data[fromyear] - data[toyear]) / data[fromyear] * 100\n",
    "    s.name = f'2030 Emission Reductions for {variable}'\n",
    "    return s"
   ]
  },
  {
   "cell_type": "code",
   "execution_count": 114,
   "id": "f5d2b3c6",
   "metadata": {},
   "outputs": [
    {
     "data": {
      "text/html": [
       "<div>\n",
       "<style scoped>\n",
       "    .dataframe tbody tr th:only-of-type {\n",
       "        vertical-align: middle;\n",
       "    }\n",
       "\n",
       "    .dataframe tbody tr th {\n",
       "        vertical-align: top;\n",
       "    }\n",
       "\n",
       "    .dataframe thead th {\n",
       "        text-align: right;\n",
       "    }\n",
       "</style>\n",
       "<table border=\"1\" class=\"dataframe\">\n",
       "  <thead>\n",
       "    <tr style=\"text-align: right;\">\n",
       "      <th></th>\n",
       "      <th></th>\n",
       "      <th>2030 Emission Reductions for AR6 climate diagnostics|Infilled|Emissions|CO2</th>\n",
       "      <th>2030 Emission Reductions for AR6 Reanalysis|OSCARv3.2|Emissions|CO2|Direct Only</th>\n",
       "      <th>2030 Emission Reductions for AR6 Reanalysis|OSCARv3.2|Emissions|CO2</th>\n",
       "      <th>2030 Emission Reductions for AR6 climate diagnostics|Infilled|Emissions|Kyoto Gases</th>\n",
       "      <th>2030 Emission Reductions for AR6 Reanalysis|OSCARv3.2|Emissions|Kyoto Gases|Direct Only</th>\n",
       "      <th>2030 Emission Reductions for AR6 Reanalysis|OSCARv3.2|Emissions|Kyoto Gases</th>\n",
       "    </tr>\n",
       "    <tr>\n",
       "      <th>model</th>\n",
       "      <th>scenario</th>\n",
       "      <th></th>\n",
       "      <th></th>\n",
       "      <th></th>\n",
       "      <th></th>\n",
       "      <th></th>\n",
       "      <th></th>\n",
       "    </tr>\n",
       "  </thead>\n",
       "  <tbody>\n",
       "    <tr>\n",
       "      <th rowspan=\"2\" valign=\"top\">AIM/CGE 2.0</th>\n",
       "      <th>SSP1-26</th>\n",
       "      <td>20.698212</td>\n",
       "      <td>20.690203</td>\n",
       "      <td>24.188745</td>\n",
       "      <td>24.976649</td>\n",
       "      <td>25.684139</td>\n",
       "      <td>28.421538</td>\n",
       "    </tr>\n",
       "    <tr>\n",
       "      <th>SSP4-26</th>\n",
       "      <td>23.080940</td>\n",
       "      <td>19.278438</td>\n",
       "      <td>22.529429</td>\n",
       "      <td>28.116878</td>\n",
       "      <td>26.476508</td>\n",
       "      <td>29.215934</td>\n",
       "    </tr>\n",
       "    <tr>\n",
       "      <th rowspan=\"3\" valign=\"top\">AIM/CGE 2.1</th>\n",
       "      <th>CD-LINKS_NPi2020_1000</th>\n",
       "      <td>39.680445</td>\n",
       "      <td>50.210320</td>\n",
       "      <td>56.662343</td>\n",
       "      <td>41.311850</td>\n",
       "      <td>49.059937</td>\n",
       "      <td>53.516130</td>\n",
       "    </tr>\n",
       "    <tr>\n",
       "      <th>CD-LINKS_NPi2020_400</th>\n",
       "      <td>44.295652</td>\n",
       "      <td>56.814615</td>\n",
       "      <td>63.605357</td>\n",
       "      <td>45.320361</td>\n",
       "      <td>54.422898</td>\n",
       "      <td>59.035644</td>\n",
       "    </tr>\n",
       "    <tr>\n",
       "      <th>CO_Bridge</th>\n",
       "      <td>22.553044</td>\n",
       "      <td>28.227574</td>\n",
       "      <td>33.335398</td>\n",
       "      <td>27.958333</td>\n",
       "      <td>32.206624</td>\n",
       "      <td>36.012106</td>\n",
       "    </tr>\n",
       "  </tbody>\n",
       "</table>\n",
       "</div>"
      ],
      "text/plain": [
       "                                   2030 Emission Reductions for AR6 climate diagnostics|Infilled|Emissions|CO2  \\\n",
       "model       scenario                                                                                             \n",
       "AIM/CGE 2.0 SSP1-26                                                        20.698212                             \n",
       "            SSP4-26                                                        23.080940                             \n",
       "AIM/CGE 2.1 CD-LINKS_NPi2020_1000                                          39.680445                             \n",
       "            CD-LINKS_NPi2020_400                                           44.295652                             \n",
       "            CO_Bridge                                                      22.553044                             \n",
       "\n",
       "                                   2030 Emission Reductions for AR6 Reanalysis|OSCARv3.2|Emissions|CO2|Direct Only  \\\n",
       "model       scenario                                                                                                 \n",
       "AIM/CGE 2.0 SSP1-26                                                        20.690203                                 \n",
       "            SSP4-26                                                        19.278438                                 \n",
       "AIM/CGE 2.1 CD-LINKS_NPi2020_1000                                          50.210320                                 \n",
       "            CD-LINKS_NPi2020_400                                           56.814615                                 \n",
       "            CO_Bridge                                                      28.227574                                 \n",
       "\n",
       "                                   2030 Emission Reductions for AR6 Reanalysis|OSCARv3.2|Emissions|CO2  \\\n",
       "model       scenario                                                                                     \n",
       "AIM/CGE 2.0 SSP1-26                                                        24.188745                     \n",
       "            SSP4-26                                                        22.529429                     \n",
       "AIM/CGE 2.1 CD-LINKS_NPi2020_1000                                          56.662343                     \n",
       "            CD-LINKS_NPi2020_400                                           63.605357                     \n",
       "            CO_Bridge                                                      33.335398                     \n",
       "\n",
       "                                   2030 Emission Reductions for AR6 climate diagnostics|Infilled|Emissions|Kyoto Gases  \\\n",
       "model       scenario                                                                                                     \n",
       "AIM/CGE 2.0 SSP1-26                                                        24.976649                                     \n",
       "            SSP4-26                                                        28.116878                                     \n",
       "AIM/CGE 2.1 CD-LINKS_NPi2020_1000                                          41.311850                                     \n",
       "            CD-LINKS_NPi2020_400                                           45.320361                                     \n",
       "            CO_Bridge                                                      27.958333                                     \n",
       "\n",
       "                                   2030 Emission Reductions for AR6 Reanalysis|OSCARv3.2|Emissions|Kyoto Gases|Direct Only  \\\n",
       "model       scenario                                                                                                         \n",
       "AIM/CGE 2.0 SSP1-26                                                        25.684139                                         \n",
       "            SSP4-26                                                        26.476508                                         \n",
       "AIM/CGE 2.1 CD-LINKS_NPi2020_1000                                          49.059937                                         \n",
       "            CD-LINKS_NPi2020_400                                           54.422898                                         \n",
       "            CO_Bridge                                                      32.206624                                         \n",
       "\n",
       "                                   2030 Emission Reductions for AR6 Reanalysis|OSCARv3.2|Emissions|Kyoto Gases  \n",
       "model       scenario                                                                                            \n",
       "AIM/CGE 2.0 SSP1-26                                                        28.421538                            \n",
       "            SSP4-26                                                        29.215934                            \n",
       "AIM/CGE 2.1 CD-LINKS_NPi2020_1000                                          53.516130                            \n",
       "            CD-LINKS_NPi2020_400                                           59.035644                            \n",
       "            CO_Bridge                                                      36.012106                            "
      ]
     },
     "execution_count": 114,
     "metadata": {},
     "output_type": "execute_result"
    }
   ],
   "source": [
    "gases = ['CO2', 'Kyoto Gases']\n",
    "new_meta = pd.concat([\n",
    "    compute_reduction(df, template.format(gas=gas))\n",
    "    for gas, template in itertools.product(gases, variable_templates)\n",
    "], axis=1)\n",
    "df.set_meta(new_meta)\n",
    "new_meta.head()"
   ]
  },
  {
   "cell_type": "code",
   "execution_count": 143,
   "id": "5cfd9ccc",
   "metadata": {},
   "outputs": [],
   "source": [
    "def summarize(data, variable_start, gas, name):\n",
    "    print(name)\n",
    "    cols = [variable_start + template.format(gas=gas) for template in variable_templates]\n",
    "    headers = ['AR6 Statistics', 'Pathways with OSCAR Direct Effects', 'Pathways with OSCAR Direct & Indirect Effects']\n",
    "    for col in cols:\n",
    "        if not col in data:\n",
    "            raise ValueError(f'{col} not in data columns')\n",
    "    return (\n",
    "        data\n",
    "        .query(\"Category in ['C1', 'C3']\")\n",
    "        .replace({'Category': {'C1': '1.5C', 'C3': '2C'}})\n",
    "        .rename(columns={c: h for c, h in zip(cols, headers)})\n",
    "        [headers + ['Category']]\n",
    "        .groupby('Category')\n",
    "        .describe(percentiles=(0.05, 0.5, 0.95))\n",
    "        .stack(level=-2)\n",
    "        [['50%', '5%', '95%']]\n",
    "        .fillna(2100)\n",
    "        .astype(int)\n",
    "        .apply(lambda col: f\"{col['50%']} ({col['5%']}-{col['95%']})\", axis=1)\n",
    "        .to_frame(name=name)\n",
    "        .loc[['1.5C', '2C'], headers, :]\n",
    "    )"
   ]
  },
  {
   "cell_type": "code",
   "execution_count": 144,
   "id": "afaf2e1a",
   "metadata": {},
   "outputs": [],
   "source": [
    "to_summarize = {\n",
    "    ('Carbon Budget for ', 'CO2'): 'Carbon Budget from 2020',\n",
    "    ('2030 Emission Reductions for ', 'CO2'): 'CO2 Emissions Reductions (2020-2030)',\n",
    "    ('Interpolated Net-Zero Year for ', 'CO2'): 'Net-zero CO2 Year',\n",
    "    ('Interpolated Net-Zero Year for ', 'Kyoto Gases'): 'Net-zero GHG Year',\n",
    "}"
   ]
  },
  {
   "cell_type": "code",
   "execution_count": 145,
   "id": "c3dd2751",
   "metadata": {},
   "outputs": [
    {
     "name": "stdout",
     "output_type": "stream",
     "text": [
      "Carbon Budget from 2020\n",
      "CO2 Emissions Reductions (2020-2030)\n",
      "Net-zero CO2 Year\n",
      "Net-zero GHG Year\n"
     ]
    },
    {
     "name": "stderr",
     "output_type": "stream",
     "text": [
      "C:\\Users\\gidden\\Miniconda3\\envs\\pyam\\lib\\site-packages\\numpy\\lib\\function_base.py:4527: RuntimeWarning: invalid value encountered in subtract\n",
      "  diff_b_a = subtract(b, a)\n",
      "C:\\Users\\gidden\\Miniconda3\\envs\\pyam\\lib\\site-packages\\numpy\\lib\\function_base.py:4527: RuntimeWarning: invalid value encountered in subtract\n",
      "  diff_b_a = subtract(b, a)\n"
     ]
    },
    {
     "data": {
      "text/html": [
       "<div>\n",
       "<style scoped>\n",
       "    .dataframe tbody tr th:only-of-type {\n",
       "        vertical-align: middle;\n",
       "    }\n",
       "\n",
       "    .dataframe tbody tr th {\n",
       "        vertical-align: top;\n",
       "    }\n",
       "\n",
       "    .dataframe thead tr th {\n",
       "        text-align: left;\n",
       "    }\n",
       "</style>\n",
       "<table border=\"1\" class=\"dataframe\">\n",
       "  <thead>\n",
       "    <tr>\n",
       "      <th>Category</th>\n",
       "      <th colspan=\"3\" halign=\"left\">1.5C</th>\n",
       "      <th colspan=\"3\" halign=\"left\">2C</th>\n",
       "    </tr>\n",
       "    <tr>\n",
       "      <th></th>\n",
       "      <th>AR6 Statistics</th>\n",
       "      <th>Pathways with OSCAR Direct Effects</th>\n",
       "      <th>Pathways with OSCAR Direct &amp; Indirect Effects</th>\n",
       "      <th>AR6 Statistics</th>\n",
       "      <th>Pathways with OSCAR Direct Effects</th>\n",
       "      <th>Pathways with OSCAR Direct &amp; Indirect Effects</th>\n",
       "    </tr>\n",
       "  </thead>\n",
       "  <tbody>\n",
       "    <tr>\n",
       "      <th>Carbon Budget from 2020</th>\n",
       "      <td>512 (328-708)</td>\n",
       "      <td>473 (319-620)</td>\n",
       "      <td>392 (262-528)</td>\n",
       "      <td>882 (635-1133)</td>\n",
       "      <td>838 (542-1100)</td>\n",
       "      <td>703 (445-936)</td>\n",
       "    </tr>\n",
       "    <tr>\n",
       "      <th>CO2 Emissions Reductions (2020-2030)</th>\n",
       "      <td>47 (36-69)</td>\n",
       "      <td>52 (35-67)</td>\n",
       "      <td>56 (39-73)</td>\n",
       "      <td>21 (1-43)</td>\n",
       "      <td>21 (1-50)</td>\n",
       "      <td>25 (4-55)</td>\n",
       "    </tr>\n",
       "    <tr>\n",
       "      <th>Net-zero CO2 Year</th>\n",
       "      <td>2052 (2037-2067)</td>\n",
       "      <td>2050 (2040-2060)</td>\n",
       "      <td>2047 (2037-2056)</td>\n",
       "      <td>2070 (2059-2093)</td>\n",
       "      <td>2068 (2052-2087)</td>\n",
       "      <td>2064 (2049-2083)</td>\n",
       "    </tr>\n",
       "    <tr>\n",
       "      <th>Net-zero GHG Year</th>\n",
       "      <td>2098 (2054-2100)</td>\n",
       "      <td>2066 (2051-2087)</td>\n",
       "      <td>2067 (2049-2087)</td>\n",
       "      <td>2100 (2078-2100)</td>\n",
       "      <td>2082 (2069-2096)</td>\n",
       "      <td>2082 (2066-2097)</td>\n",
       "    </tr>\n",
       "  </tbody>\n",
       "</table>\n",
       "</div>"
      ],
      "text/plain": [
       "Category                                          1.5C  \\\n",
       "                                        AR6 Statistics   \n",
       "Carbon Budget from 2020                  512 (328-708)   \n",
       "CO2 Emissions Reductions (2020-2030)        47 (36-69)   \n",
       "Net-zero CO2 Year                     2052 (2037-2067)   \n",
       "Net-zero GHG Year                     2098 (2054-2100)   \n",
       "\n",
       "Category                                                                 \\\n",
       "                                     Pathways with OSCAR Direct Effects   \n",
       "Carbon Budget from 2020                                   473 (319-620)   \n",
       "CO2 Emissions Reductions (2020-2030)                         52 (35-67)   \n",
       "Net-zero CO2 Year                                      2050 (2040-2060)   \n",
       "Net-zero GHG Year                                      2066 (2051-2087)   \n",
       "\n",
       "Category                                                                            \\\n",
       "                                     Pathways with OSCAR Direct & Indirect Effects   \n",
       "Carbon Budget from 2020                                              392 (262-528)   \n",
       "CO2 Emissions Reductions (2020-2030)                                    56 (39-73)   \n",
       "Net-zero CO2 Year                                                 2047 (2037-2056)   \n",
       "Net-zero GHG Year                                                 2067 (2049-2087)   \n",
       "\n",
       "Category                                            2C  \\\n",
       "                                        AR6 Statistics   \n",
       "Carbon Budget from 2020                 882 (635-1133)   \n",
       "CO2 Emissions Reductions (2020-2030)         21 (1-43)   \n",
       "Net-zero CO2 Year                     2070 (2059-2093)   \n",
       "Net-zero GHG Year                     2100 (2078-2100)   \n",
       "\n",
       "Category                                                                 \\\n",
       "                                     Pathways with OSCAR Direct Effects   \n",
       "Carbon Budget from 2020                                  838 (542-1100)   \n",
       "CO2 Emissions Reductions (2020-2030)                          21 (1-50)   \n",
       "Net-zero CO2 Year                                      2068 (2052-2087)   \n",
       "Net-zero GHG Year                                      2082 (2069-2096)   \n",
       "\n",
       "Category                                                                            \n",
       "                                     Pathways with OSCAR Direct & Indirect Effects  \n",
       "Carbon Budget from 2020                                              703 (445-936)  \n",
       "CO2 Emissions Reductions (2020-2030)                                     25 (4-55)  \n",
       "Net-zero CO2 Year                                                 2064 (2049-2083)  \n",
       "Net-zero GHG Year                                                 2082 (2066-2097)  "
      ]
     },
     "execution_count": 145,
     "metadata": {},
     "output_type": "execute_result"
    }
   ],
   "source": [
    "table = pd.concat([\n",
    "    summarize(df.meta, variable_start, gas, name)\n",
    "    for (variable_start, gas), name in to_summarize.items()\n",
    "], axis=1).T\n",
    "table.to_excel('mitigation_outcomes.xlsx')\n",
    "table"
   ]
  },
  {
   "cell_type": "markdown",
   "id": "e0a8a2be",
   "metadata": {},
   "source": [
    "# Net-zero timings compared to a constant offset of 3.7 Gt CO2\n",
    "\n",
    "Here we calculate the difference between net-zero timings between the dynamic estimation of indirect effects vs. applying a constant offset value\n"
   ]
  },
  {
   "cell_type": "code",
   "execution_count": 179,
   "id": "d4f31b0e",
   "metadata": {},
   "outputs": [],
   "source": [
    "def calc_nz(df, v):\n",
    "    data = (\n",
    "         df\n",
    "        .filter(region='World', variable=v)\n",
    "        .filter(year=range(2020, 2101))\n",
    "        .timeseries()\n",
    "        .T\n",
    "        .lt(1e-2)\n",
    "        .idxmax()\n",
    "        .reset_index(level=['region', 'variable', 'unit'], drop=True)\n",
    "    )\n",
    "    data[data == 2020] = pd.NA\n",
    "    return data    "
   ]
  },
  {
   "cell_type": "code",
   "execution_count": 180,
   "id": "d8ce863d",
   "metadata": {},
   "outputs": [],
   "source": [
    "v = 'CO2-constant offset'\n",
    "offsetdf = df.subtract('AR6 Reanalysis|OSCARv3.2|Emissions|CO2|Direct Only', 3.7e3, name=v, ignore_units='Mt CO2/yr')\n",
    "offsetdf.set_meta(calc_nz(offsetdf, v), name=f'Interpolated Net-Zero Year for {v}')"
   ]
  },
  {
   "cell_type": "code",
   "execution_count": 181,
   "id": "48870fa8",
   "metadata": {},
   "outputs": [],
   "source": [
    "offsetdf.meta['Offset Year Delta'] = (\n",
    "    offsetdf.meta['Interpolated Net-Zero Year for AR6 Reanalysis|OSCARv3.2|Emissions|CO2'] -\n",
    "    offsetdf.meta['Interpolated Net-Zero Year for CO2-constant offset']\n",
    ")"
   ]
  },
  {
   "cell_type": "code",
   "execution_count": 182,
   "id": "58e9793c",
   "metadata": {},
   "outputs": [
    {
     "data": {
      "text/plain": [
       "Category\n",
       "C1     70\n",
       "C3    194\n",
       "Name: Offset Year Delta, dtype: int64"
      ]
     },
     "execution_count": 182,
     "metadata": {},
     "output_type": "execute_result"
    }
   ],
   "source": [
    "offsetdf.meta.groupby('Category')['Offset Year Delta'].count()"
   ]
  },
  {
   "cell_type": "code",
   "execution_count": 183,
   "id": "8630953c",
   "metadata": {},
   "outputs": [
    {
     "data": {
      "text/html": [
       "<div>\n",
       "<style scoped>\n",
       "    .dataframe tbody tr th:only-of-type {\n",
       "        vertical-align: middle;\n",
       "    }\n",
       "\n",
       "    .dataframe tbody tr th {\n",
       "        vertical-align: top;\n",
       "    }\n",
       "\n",
       "    .dataframe thead th {\n",
       "        text-align: right;\n",
       "    }\n",
       "</style>\n",
       "<table border=\"1\" class=\"dataframe\">\n",
       "  <thead>\n",
       "    <tr style=\"text-align: right;\">\n",
       "      <th></th>\n",
       "      <th>50%</th>\n",
       "      <th>5%</th>\n",
       "      <th>95%</th>\n",
       "    </tr>\n",
       "    <tr>\n",
       "      <th>Category</th>\n",
       "      <th></th>\n",
       "      <th></th>\n",
       "      <th></th>\n",
       "    </tr>\n",
       "  </thead>\n",
       "  <tbody>\n",
       "    <tr>\n",
       "      <th>C1</th>\n",
       "      <td>2.0</td>\n",
       "      <td>0.0</td>\n",
       "      <td>7.0</td>\n",
       "    </tr>\n",
       "    <tr>\n",
       "      <th>C3</th>\n",
       "      <td>4.0</td>\n",
       "      <td>1.0</td>\n",
       "      <td>15.0</td>\n",
       "    </tr>\n",
       "  </tbody>\n",
       "</table>\n",
       "</div>"
      ],
      "text/plain": [
       "          50%   5%   95%\n",
       "Category                \n",
       "C1        2.0  0.0   7.0\n",
       "C3        4.0  1.0  15.0"
      ]
     },
     "execution_count": 183,
     "metadata": {},
     "output_type": "execute_result"
    }
   ],
   "source": [
    "(\n",
    "    offsetdf.meta\n",
    "    .groupby('Category')['Offset Year Delta']\n",
    "    .describe(percentiles=(0.05, 0.5, 0.95))\n",
    "    [['50%', '5%', '95%']]\n",
    ")"
   ]
  },
  {
   "cell_type": "code",
   "execution_count": null,
   "id": "4ee2c934",
   "metadata": {},
   "outputs": [],
   "source": []
  }
 ],
 "metadata": {
  "kernelspec": {
   "display_name": "Python 3 (ipykernel)",
   "language": "python",
   "name": "python3"
  },
  "language_info": {
   "codemirror_mode": {
    "name": "ipython",
    "version": 3
   },
   "file_extension": ".py",
   "mimetype": "text/x-python",
   "name": "python",
   "nbconvert_exporter": "python",
   "pygments_lexer": "ipython3",
   "version": "3.8.13"
  }
 },
 "nbformat": 4,
 "nbformat_minor": 5
}
