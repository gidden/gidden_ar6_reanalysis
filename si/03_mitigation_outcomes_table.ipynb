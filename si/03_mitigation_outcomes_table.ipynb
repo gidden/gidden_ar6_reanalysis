{
 "cells": [
  {
   "cell_type": "code",
   "execution_count": 1,
   "id": "606243fc",
   "metadata": {},
   "outputs": [
    {
     "data": {
      "application/javascript": [
       "if (typeof IPython !== 'undefined') { IPython.OutputArea.prototype._should_scroll = function(lines){ return false; }}"
      ],
      "text/plain": [
       "<IPython.core.display.Javascript object>"
      ]
     },
     "metadata": {},
     "output_type": "display_data"
    }
   ],
   "source": [
    "import itertools\n",
    "import pathlib\n",
    "import pyam\n",
    "\n",
    "import numpy as np\n",
    "import pandas as pd"
   ]
  },
  {
   "cell_type": "code",
   "execution_count": 2,
   "id": "52fa04c4",
   "metadata": {},
   "outputs": [],
   "source": [
    "data_path = pathlib.Path('../data')"
   ]
  },
  {
   "cell_type": "code",
   "execution_count": 3,
   "id": "a1afd4ee",
   "metadata": {},
   "outputs": [
    {
     "name": "stderr",
     "output_type": "stream",
     "text": [
      "pyam - INFO: Running in a notebook, setting up a basic logging at level INFO\n",
      "pyam.core - INFO: Reading meta indicators\n"
     ]
    }
   ],
   "source": [
    "LABEL = '2015_soft_grassi'\n",
    "pddata = pd.read_csv(data_path / f'analysis_{LABEL}_data.csv')\n",
    "df = pyam.IamDataFrame(pddata)\n",
    "df.load_meta(data_path / f'analysis_{LABEL}_meta.csv')"
   ]
  },
  {
   "cell_type": "markdown",
   "id": "e0f12523",
   "metadata": {},
   "source": [
    "# Computer Carbon Budgets"
   ]
  },
  {
   "cell_type": "code",
   "execution_count": 18,
   "id": "de3761db",
   "metadata": {},
   "outputs": [],
   "source": [
    "def make_carbon_budget(df, base, add):\n",
    "    meta = (\n",
    "        df\n",
    "        .meta\n",
    "        .query(\"Category in ['C1', 'C3']\")\n",
    "        [f'Interpolated Net-Zero Year for {base}{add}']\n",
    "        .dropna()\n",
    "        .astype(int)\n",
    "        .reset_index()\n",
    "    ) \n",
    "    data = (\n",
    "        df\n",
    "        .filter(region='World', variable=f'Cumulative {base} from 2020')\n",
    "        .convert_unit('Mt CO2/yr', to='Gt CO2', factor=1e-3)\n",
    "    )\n",
    "    budgets = [(\n",
    "        row['model'], \n",
    "        row['scenario'], \n",
    "        data.filter(\n",
    "            model=row['model'], scenario=row['scenario'], \n",
    "            year=row[f'Interpolated Net-Zero Year for {base}{add}']\n",
    "        ).timeseries().values[0][0]\n",
    "    )\n",
    "        for i, row in meta.iterrows()\n",
    "    ]\n",
    "    return pd.DataFrame(budgets, columns=['model', 'scenario', f'Carbon Budget for {base}{add}']).set_index(['model', 'scenario'])\n",
    "        "
   ]
  },
  {
   "cell_type": "code",
   "execution_count": 19,
   "id": "b18aa292",
   "metadata": {},
   "outputs": [],
   "source": [
    "adds = ['', ' - Reanalyzed', ' - Reanalyzed and Adjusted']\n",
    "new_meta = pd.concat([make_carbon_budget(df, 'Emissions|CO2', add) for add in adds], axis=1)\n",
    "df.set_meta(new_meta)"
   ]
  },
  {
   "cell_type": "markdown",
   "id": "d0325829",
   "metadata": {},
   "source": [
    "# Emission Reductions"
   ]
  },
  {
   "cell_type": "code",
   "execution_count": 6,
   "id": "10a97013",
   "metadata": {},
   "outputs": [],
   "source": [
    "def compute_reduction(df, variable, fromyear=2020, toyear=2030):\n",
    "    data = (\n",
    "        df\n",
    "        .filter(variable=variable, year=[fromyear, toyear], region='World')\n",
    "        .timeseries()\n",
    "        .droplevel(['region', 'unit', 'variable'])\n",
    "    )\n",
    "    s = (data[fromyear] - data[toyear]) / data[fromyear] * 100\n",
    "    s.name = f'2030 Emission Reductions for {variable}'\n",
    "    return s"
   ]
  },
  {
   "cell_type": "code",
   "execution_count": 9,
   "id": "96d6ae36",
   "metadata": {},
   "outputs": [],
   "source": [
    "adds = ['', ' - Reanalyzed', ' - Reanalyzed and Adjusted']\n",
    "gases = ['Emissions|CO2', 'Emissions|Kyoto Gases']\n",
    "new_meta = pd.concat([\n",
    "    compute_reduction(df, f'{gas}{add}')\n",
    "    for gas, add in itertools.product(gases, adds)\n",
    "], axis=1)\n",
    "df.set_meta(new_meta)"
   ]
  },
  {
   "cell_type": "code",
   "execution_count": 11,
   "id": "5cfd9ccc",
   "metadata": {},
   "outputs": [],
   "source": [
    "def summarize(data, base, name):\n",
    "    adds = ['', ' - Reanalyzed', ' - Reanalyzed and Adjusted']\n",
    "    cols = [f'{base}{add}' for add in adds]\n",
    "    headers = ['Original Pathways', 'Pathways with OSCAR Direct Effects', 'Pathways with OSCAR Direct & Indirect Effects']\n",
    "    return (\n",
    "        data\n",
    "        .query(\"Category in ['C1', 'C3']\")\n",
    "        .replace({'Category': {'C1': '1.5C', 'C3': '2C'}})\n",
    "        .rename(columns={c: h for c, h in zip(cols, headers)})\n",
    "        [headers + ['Category']]\n",
    "        .groupby('Category')\n",
    "        .describe(percentiles=(0.25, 0.5, 0.75))\n",
    "        .stack(level=-2)\n",
    "        [['50%', '25%', '75%']]\n",
    "        .astype(int)\n",
    "        .apply(lambda col: f\"{col['50%']} ({col['25%']}-{col['75%']})\", axis=1)\n",
    "        .to_frame(name=name)\n",
    "        .loc[['1.5C', '2C'], headers, :]\n",
    "    )"
   ]
  },
  {
   "cell_type": "code",
   "execution_count": 12,
   "id": "afaf2e1a",
   "metadata": {},
   "outputs": [],
   "source": [
    "to_summarize = {\n",
    "    'Carbon Budget for Emissions|CO2': 'Carbon Budget from 2020',\n",
    "    '2030 Emission Reductions for Emissions|CO2': 'CO2 Emissions Reductions (2020-2030)',\n",
    "    'Interpolated Net-Zero Year for Emissions|CO2': 'Net-zero CO2 Year',\n",
    "    'Interpolated Net-Zero Year for Emissions|Kyoto Gases': 'Net-zero GHG Year',\n",
    "}"
   ]
  },
  {
   "cell_type": "code",
   "execution_count": 22,
   "id": "c3dd2751",
   "metadata": {},
   "outputs": [
    {
     "data": {
      "text/html": [
       "<div>\n",
       "<style scoped>\n",
       "    .dataframe tbody tr th:only-of-type {\n",
       "        vertical-align: middle;\n",
       "    }\n",
       "\n",
       "    .dataframe tbody tr th {\n",
       "        vertical-align: top;\n",
       "    }\n",
       "\n",
       "    .dataframe thead tr th {\n",
       "        text-align: left;\n",
       "    }\n",
       "</style>\n",
       "<table border=\"1\" class=\"dataframe\">\n",
       "  <thead>\n",
       "    <tr>\n",
       "      <th>Category</th>\n",
       "      <th colspan=\"3\" halign=\"left\">1.5C</th>\n",
       "      <th colspan=\"3\" halign=\"left\">2C</th>\n",
       "    </tr>\n",
       "    <tr>\n",
       "      <th></th>\n",
       "      <th>Original Pathways</th>\n",
       "      <th>Pathways with OSCAR Direct Effects</th>\n",
       "      <th>Pathways with OSCAR Direct &amp; Indirect Effects</th>\n",
       "      <th>Original Pathways</th>\n",
       "      <th>Pathways with OSCAR Direct Effects</th>\n",
       "      <th>Pathways with OSCAR Direct &amp; Indirect Effects</th>\n",
       "    </tr>\n",
       "  </thead>\n",
       "  <tbody>\n",
       "    <tr>\n",
       "      <th>Carbon Budget from 2020</th>\n",
       "      <td>550 (470-572)</td>\n",
       "      <td>538 (463-564)</td>\n",
       "      <td>525 (461-555)</td>\n",
       "      <td>933 (776-999)</td>\n",
       "      <td>901 (754-989)</td>\n",
       "      <td>898 (745-979)</td>\n",
       "    </tr>\n",
       "    <tr>\n",
       "      <th>CO2 Emissions Reductions (2020-2030)</th>\n",
       "      <td>47 (41-57)</td>\n",
       "      <td>48 (37-56)</td>\n",
       "      <td>57 (49-62)</td>\n",
       "      <td>21 (6-30)</td>\n",
       "      <td>18 (7-29)</td>\n",
       "      <td>26 (12-36)</td>\n",
       "    </tr>\n",
       "    <tr>\n",
       "      <th>Net-zero CO2 Year</th>\n",
       "      <td>2055 (2049-2060)</td>\n",
       "      <td>2051 (2047-2054)</td>\n",
       "      <td>2046 (2043-2049)</td>\n",
       "      <td>2071 (2067-2079)</td>\n",
       "      <td>2068 (2063-2075)</td>\n",
       "      <td>2062 (2056-2069)</td>\n",
       "    </tr>\n",
       "    <tr>\n",
       "      <th>Net-zero GHG Year</th>\n",
       "      <td>2070 (2062-2076)</td>\n",
       "      <td>2067 (2059-2077)</td>\n",
       "      <td>2059 (2054-2073)</td>\n",
       "      <td>2082 (2078-2087)</td>\n",
       "      <td>2080 (2074-2085)</td>\n",
       "      <td>2080 (2071-2085)</td>\n",
       "    </tr>\n",
       "  </tbody>\n",
       "</table>\n",
       "</div>"
      ],
      "text/plain": [
       "Category                                          1.5C  \\\n",
       "                                     Original Pathways   \n",
       "Carbon Budget from 2020                  550 (470-572)   \n",
       "CO2 Emissions Reductions (2020-2030)        47 (41-57)   \n",
       "Net-zero CO2 Year                     2055 (2049-2060)   \n",
       "Net-zero GHG Year                     2070 (2062-2076)   \n",
       "\n",
       "Category                                                                 \\\n",
       "                                     Pathways with OSCAR Direct Effects   \n",
       "Carbon Budget from 2020                                   538 (463-564)   \n",
       "CO2 Emissions Reductions (2020-2030)                         48 (37-56)   \n",
       "Net-zero CO2 Year                                      2051 (2047-2054)   \n",
       "Net-zero GHG Year                                      2067 (2059-2077)   \n",
       "\n",
       "Category                                                                            \\\n",
       "                                     Pathways with OSCAR Direct & Indirect Effects   \n",
       "Carbon Budget from 2020                                              525 (461-555)   \n",
       "CO2 Emissions Reductions (2020-2030)                                    57 (49-62)   \n",
       "Net-zero CO2 Year                                                 2046 (2043-2049)   \n",
       "Net-zero GHG Year                                                 2059 (2054-2073)   \n",
       "\n",
       "Category                                            2C  \\\n",
       "                                     Original Pathways   \n",
       "Carbon Budget from 2020                  933 (776-999)   \n",
       "CO2 Emissions Reductions (2020-2030)         21 (6-30)   \n",
       "Net-zero CO2 Year                     2071 (2067-2079)   \n",
       "Net-zero GHG Year                     2082 (2078-2087)   \n",
       "\n",
       "Category                                                                 \\\n",
       "                                     Pathways with OSCAR Direct Effects   \n",
       "Carbon Budget from 2020                                   901 (754-989)   \n",
       "CO2 Emissions Reductions (2020-2030)                          18 (7-29)   \n",
       "Net-zero CO2 Year                                      2068 (2063-2075)   \n",
       "Net-zero GHG Year                                      2080 (2074-2085)   \n",
       "\n",
       "Category                                                                            \n",
       "                                     Pathways with OSCAR Direct & Indirect Effects  \n",
       "Carbon Budget from 2020                                              898 (745-979)  \n",
       "CO2 Emissions Reductions (2020-2030)                                    26 (12-36)  \n",
       "Net-zero CO2 Year                                                 2062 (2056-2069)  \n",
       "Net-zero GHG Year                                                 2080 (2071-2085)  "
      ]
     },
     "execution_count": 22,
     "metadata": {},
     "output_type": "execute_result"
    }
   ],
   "source": [
    "table = pd.concat([\n",
    "    summarize(df.meta, base, name)\n",
    "    for base, name in to_summarize.items()\n",
    "], axis=1).T\n",
    "table.to_excel('mitigation_outcomes.xlsx')\n",
    "table"
   ]
  },
  {
   "cell_type": "code",
   "execution_count": null,
   "id": "eca1d7e7",
   "metadata": {},
   "outputs": [],
   "source": []
  }
 ],
 "metadata": {
  "kernelspec": {
   "display_name": "Python 3 (ipykernel)",
   "language": "python",
   "name": "python3"
  },
  "language_info": {
   "codemirror_mode": {
    "name": "ipython",
    "version": 3
   },
   "file_extension": ".py",
   "mimetype": "text/x-python",
   "name": "python",
   "nbconvert_exporter": "python",
   "pygments_lexer": "ipython3",
   "version": "3.8.13"
  }
 },
 "nbformat": 4,
 "nbformat_minor": 5
}
