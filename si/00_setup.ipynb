{
 "cells": [
  {
   "cell_type": "markdown",
   "id": "b8d10232",
   "metadata": {},
   "source": [
    "# Label Scenarios based on Land-cover Variables"
   ]
  },
  {
   "cell_type": "code",
   "execution_count": 1,
   "id": "a5f106f5",
   "metadata": {},
   "outputs": [
    {
     "data": {
      "application/javascript": [
       "if (typeof IPython !== 'undefined') { IPython.OutputArea.prototype._should_scroll = function(lines){ return false; }}"
      ],
      "text/plain": [
       "<IPython.core.display.Javascript object>"
      ]
     },
     "metadata": {},
     "output_type": "display_data"
    }
   ],
   "source": [
    "import pyam\n",
    "import functools\n",
    "import operator\n",
    "import pathlib\n",
    "\n",
    "import pandas as pd\n",
    "import numpy as np"
   ]
  },
  {
   "cell_type": "markdown",
   "id": "9877f9e3",
   "metadata": {},
   "source": [
    "# Read in only minimal data for all regional datasets"
   ]
  },
  {
   "cell_type": "code",
   "execution_count": 2,
   "id": "e5f496ec",
   "metadata": {},
   "outputs": [],
   "source": [
    "data_path = pathlib.Path('../data')"
   ]
  },
  {
   "cell_type": "code",
   "execution_count": 3,
   "id": "30c036ee",
   "metadata": {},
   "outputs": [],
   "source": [
    "# we use this to catch all scenarios with a temperature outcome\n",
    "temp_variable = 'AR6 climate diagnostics|Surface Temperature (GSAT)|MAGICCv7.5.3|50.0th Percentile'\n",
    "variables_of_interest = [\n",
    "    # the rest we will check how many models report them\n",
    "    'Land Cover|Forest',\n",
    "    'Land Cover|Pasture',\n",
    "    'Land Cover|Cropland',\n",
    "]\n",
    "all_vars = [temp_variable] + variables_of_interest"
   ]
  },
  {
   "cell_type": "code",
   "execution_count": 4,
   "id": "efbfa6c1",
   "metadata": {},
   "outputs": [],
   "source": [
    "all_files = [\n",
    "    'AR6_Scenarios_Database_World_v1.0.csv',\n",
    "    'AR6_Scenarios_Database_R5_regions_v1.0.csv',\n",
    "    'AR6_Scenarios_Database_R10_regions_v1.0.csv',\n",
    "]"
   ]
  },
  {
   "cell_type": "code",
   "execution_count": 5,
   "id": "0e83a8ed",
   "metadata": {},
   "outputs": [
    {
     "name": "stdout",
     "output_type": "stream",
     "text": [
      "AR6_Scenarios_Database_World_v1.0.csv\n",
      "AR6_Scenarios_Database_R5_regions_v1.0.csv\n",
      "AR6_Scenarios_Database_R10_regions_v1.0.csv\n"
     ]
    }
   ],
   "source": [
    "dfs = []\n",
    "for fname in all_files:\n",
    "    print(fname)\n",
    "    df = pd.read_csv(data_path / fname)\n",
    "    df.columns = df.columns.str.lower()\n",
    "    dfs.append(df[df.variable.isin(all_vars)])"
   ]
  },
  {
   "cell_type": "code",
   "execution_count": 6,
   "id": "ddba44c7",
   "metadata": {},
   "outputs": [
    {
     "name": "stderr",
     "output_type": "stream",
     "text": [
      "pyam - INFO: Running in a notebook, setting up a basic logging at level INFO\n",
      "pyam.core - WARNING: Reading meta indicators for 1716 out of 1717 scenarios, ignoring 588 scenarios from file\n"
     ]
    }
   ],
   "source": [
    "df = pyam.concat([pyam.IamDataFrame(df) for df in dfs])\n",
    "df.load_meta(data_path / 'AR6_Scenarios_Database_metadata_indicators_v1.0.xlsx')"
   ]
  },
  {
   "cell_type": "markdown",
   "id": "fb4fdf5a",
   "metadata": {},
   "source": [
    "# Code each scenario with whether they have variables of interest"
   ]
  },
  {
   "cell_type": "code",
   "execution_count": 7,
   "id": "6b66b9a4",
   "metadata": {},
   "outputs": [
    {
     "name": "stderr",
     "output_type": "stream",
     "text": [
      "pyam.core - WARNING: Filtered IamDataFrame is empty!\n",
      "pyam.core - WARNING: Filtered IamDataFrame is empty!\n"
     ]
    }
   ],
   "source": [
    "region_list = [\n",
    "    ('World', 'Global '),\n",
    "    ('R5ASIA', 'R5 '),\n",
    "    ('R10AFRICA', 'R10 ')\n",
    "]\n",
    "\n",
    "region_variables = []\n",
    "for variable in all_vars:\n",
    "    for region, prepend in region_list:\n",
    "        name = prepend + variable\n",
    "        region_variables.append(name)\n",
    "        df.set_meta_from_data(\n",
    "            name=name, \n",
    "            method=lambda x: True,\n",
    "            variable=variable, \n",
    "            year=2100,\n",
    "            region=region,\n",
    "        )"
   ]
  },
  {
   "cell_type": "code",
   "execution_count": 8,
   "id": "2a30031b",
   "metadata": {},
   "outputs": [
    {
     "name": "stderr",
     "output_type": "stream",
     "text": [
      "C:\\Users\\gidden\\AppData\\Local\\Temp\\ipykernel_16752\\4230539601.py:4: SettingWithCopyWarning: \n",
      "A value is trying to be set on a copy of a slice from a DataFrame\n",
      "\n",
      "See the caveats in the documentation: https://pandas.pydata.org/pandas-docs/stable/user_guide/indexing.html#returning-a-view-versus-a-copy\n",
      "  df.meta[name][~df.meta[name]] = np.nan\n",
      "C:\\Users\\gidden\\AppData\\Local\\Temp\\ipykernel_16752\\4230539601.py:4: SettingWithCopyWarning: \n",
      "A value is trying to be set on a copy of a slice from a DataFrame\n",
      "\n",
      "See the caveats in the documentation: https://pandas.pydata.org/pandas-docs/stable/user_guide/indexing.html#returning-a-view-versus-a-copy\n",
      "  df.meta[name][~df.meta[name]] = np.nan\n",
      "C:\\Users\\gidden\\AppData\\Local\\Temp\\ipykernel_16752\\4230539601.py:4: SettingWithCopyWarning: \n",
      "A value is trying to be set on a copy of a slice from a DataFrame\n",
      "\n",
      "See the caveats in the documentation: https://pandas.pydata.org/pandas-docs/stable/user_guide/indexing.html#returning-a-view-versus-a-copy\n",
      "  df.meta[name][~df.meta[name]] = np.nan\n"
     ]
    }
   ],
   "source": [
    "for _, prepend in region_list: # do they have all variables we want together\n",
    "    name = prepend + 'all'\n",
    "    df.meta[name] = functools.reduce(operator.and_, [df.meta[prepend + v].fillna(False) for v in variables_of_interest])\n",
    "    df.meta[name][~df.meta[name]] = np.nan"
   ]
  },
  {
   "cell_type": "code",
   "execution_count": 9,
   "id": "77ff574e",
   "metadata": {},
   "outputs": [
    {
     "data": {
      "text/html": [
       "<div>\n",
       "<style scoped>\n",
       "    .dataframe tbody tr th:only-of-type {\n",
       "        vertical-align: middle;\n",
       "    }\n",
       "\n",
       "    .dataframe tbody tr th {\n",
       "        vertical-align: top;\n",
       "    }\n",
       "\n",
       "    .dataframe thead th {\n",
       "        text-align: right;\n",
       "    }\n",
       "</style>\n",
       "<table border=\"1\" class=\"dataframe\">\n",
       "  <thead>\n",
       "    <tr style=\"text-align: right;\">\n",
       "      <th>Category</th>\n",
       "      <th>C1</th>\n",
       "      <th>C2</th>\n",
       "      <th>C3</th>\n",
       "      <th>C4</th>\n",
       "      <th>C5</th>\n",
       "      <th>C6</th>\n",
       "      <th>C7</th>\n",
       "      <th>C8</th>\n",
       "    </tr>\n",
       "  </thead>\n",
       "  <tbody>\n",
       "    <tr>\n",
       "      <th>Global AR6 climate diagnostics|Surface Temperature (GSAT)|MAGICCv7.5.3|50.0th Percentile</th>\n",
       "      <td>97</td>\n",
       "      <td>133</td>\n",
       "      <td>311</td>\n",
       "      <td>159</td>\n",
       "      <td>212</td>\n",
       "      <td>97</td>\n",
       "      <td>164</td>\n",
       "      <td>29</td>\n",
       "    </tr>\n",
       "    <tr>\n",
       "      <th>Global Land Cover|Forest</th>\n",
       "      <td>75</td>\n",
       "      <td>107</td>\n",
       "      <td>238</td>\n",
       "      <td>140</td>\n",
       "      <td>188</td>\n",
       "      <td>81</td>\n",
       "      <td>100</td>\n",
       "      <td>9</td>\n",
       "    </tr>\n",
       "    <tr>\n",
       "      <th>R5 Land Cover|Forest</th>\n",
       "      <td>74</td>\n",
       "      <td>107</td>\n",
       "      <td>238</td>\n",
       "      <td>140</td>\n",
       "      <td>188</td>\n",
       "      <td>81</td>\n",
       "      <td>99</td>\n",
       "      <td>9</td>\n",
       "    </tr>\n",
       "    <tr>\n",
       "      <th>Global Land Cover|Pasture</th>\n",
       "      <td>72</td>\n",
       "      <td>106</td>\n",
       "      <td>232</td>\n",
       "      <td>138</td>\n",
       "      <td>186</td>\n",
       "      <td>81</td>\n",
       "      <td>99</td>\n",
       "      <td>9</td>\n",
       "    </tr>\n",
       "    <tr>\n",
       "      <th>Global Land Cover|Cropland</th>\n",
       "      <td>72</td>\n",
       "      <td>107</td>\n",
       "      <td>232</td>\n",
       "      <td>138</td>\n",
       "      <td>186</td>\n",
       "      <td>81</td>\n",
       "      <td>99</td>\n",
       "      <td>9</td>\n",
       "    </tr>\n",
       "    <tr>\n",
       "      <th>Global all</th>\n",
       "      <td>72</td>\n",
       "      <td>106</td>\n",
       "      <td>232</td>\n",
       "      <td>138</td>\n",
       "      <td>186</td>\n",
       "      <td>81</td>\n",
       "      <td>99</td>\n",
       "      <td>9</td>\n",
       "    </tr>\n",
       "    <tr>\n",
       "      <th>R5 Land Cover|Pasture</th>\n",
       "      <td>71</td>\n",
       "      <td>106</td>\n",
       "      <td>232</td>\n",
       "      <td>138</td>\n",
       "      <td>186</td>\n",
       "      <td>81</td>\n",
       "      <td>98</td>\n",
       "      <td>9</td>\n",
       "    </tr>\n",
       "    <tr>\n",
       "      <th>R5 Land Cover|Cropland</th>\n",
       "      <td>71</td>\n",
       "      <td>107</td>\n",
       "      <td>232</td>\n",
       "      <td>138</td>\n",
       "      <td>186</td>\n",
       "      <td>81</td>\n",
       "      <td>98</td>\n",
       "      <td>9</td>\n",
       "    </tr>\n",
       "    <tr>\n",
       "      <th>R5 all</th>\n",
       "      <td>71</td>\n",
       "      <td>106</td>\n",
       "      <td>232</td>\n",
       "      <td>138</td>\n",
       "      <td>186</td>\n",
       "      <td>81</td>\n",
       "      <td>98</td>\n",
       "      <td>9</td>\n",
       "    </tr>\n",
       "    <tr>\n",
       "      <th>R10 Land Cover|Forest</th>\n",
       "      <td>57</td>\n",
       "      <td>84</td>\n",
       "      <td>174</td>\n",
       "      <td>90</td>\n",
       "      <td>139</td>\n",
       "      <td>54</td>\n",
       "      <td>49</td>\n",
       "      <td>5</td>\n",
       "    </tr>\n",
       "    <tr>\n",
       "      <th>R10 Land Cover|Pasture</th>\n",
       "      <td>57</td>\n",
       "      <td>83</td>\n",
       "      <td>174</td>\n",
       "      <td>90</td>\n",
       "      <td>139</td>\n",
       "      <td>54</td>\n",
       "      <td>49</td>\n",
       "      <td>5</td>\n",
       "    </tr>\n",
       "    <tr>\n",
       "      <th>R10 Land Cover|Cropland</th>\n",
       "      <td>57</td>\n",
       "      <td>84</td>\n",
       "      <td>174</td>\n",
       "      <td>90</td>\n",
       "      <td>139</td>\n",
       "      <td>54</td>\n",
       "      <td>49</td>\n",
       "      <td>5</td>\n",
       "    </tr>\n",
       "    <tr>\n",
       "      <th>R10 all</th>\n",
       "      <td>57</td>\n",
       "      <td>83</td>\n",
       "      <td>174</td>\n",
       "      <td>90</td>\n",
       "      <td>139</td>\n",
       "      <td>54</td>\n",
       "      <td>49</td>\n",
       "      <td>5</td>\n",
       "    </tr>\n",
       "    <tr>\n",
       "      <th>R5 AR6 climate diagnostics|Surface Temperature (GSAT)|MAGICCv7.5.3|50.0th Percentile</th>\n",
       "      <td>0</td>\n",
       "      <td>0</td>\n",
       "      <td>0</td>\n",
       "      <td>0</td>\n",
       "      <td>0</td>\n",
       "      <td>0</td>\n",
       "      <td>0</td>\n",
       "      <td>0</td>\n",
       "    </tr>\n",
       "    <tr>\n",
       "      <th>R10 AR6 climate diagnostics|Surface Temperature (GSAT)|MAGICCv7.5.3|50.0th Percentile</th>\n",
       "      <td>0</td>\n",
       "      <td>0</td>\n",
       "      <td>0</td>\n",
       "      <td>0</td>\n",
       "      <td>0</td>\n",
       "      <td>0</td>\n",
       "      <td>0</td>\n",
       "      <td>0</td>\n",
       "    </tr>\n",
       "  </tbody>\n",
       "</table>\n",
       "</div>"
      ],
      "text/plain": [
       "Category                                            C1   C2   C3   C4   C5  \\\n",
       "Global AR6 climate diagnostics|Surface Temperat...  97  133  311  159  212   \n",
       "Global Land Cover|Forest                            75  107  238  140  188   \n",
       "R5 Land Cover|Forest                                74  107  238  140  188   \n",
       "Global Land Cover|Pasture                           72  106  232  138  186   \n",
       "Global Land Cover|Cropland                          72  107  232  138  186   \n",
       "Global all                                          72  106  232  138  186   \n",
       "R5 Land Cover|Pasture                               71  106  232  138  186   \n",
       "R5 Land Cover|Cropland                              71  107  232  138  186   \n",
       "R5 all                                              71  106  232  138  186   \n",
       "R10 Land Cover|Forest                               57   84  174   90  139   \n",
       "R10 Land Cover|Pasture                              57   83  174   90  139   \n",
       "R10 Land Cover|Cropland                             57   84  174   90  139   \n",
       "R10 all                                             57   83  174   90  139   \n",
       "R5 AR6 climate diagnostics|Surface Temperature ...   0    0    0    0    0   \n",
       "R10 AR6 climate diagnostics|Surface Temperature...   0    0    0    0    0   \n",
       "\n",
       "Category                                            C6   C7  C8  \n",
       "Global AR6 climate diagnostics|Surface Temperat...  97  164  29  \n",
       "Global Land Cover|Forest                            81  100   9  \n",
       "R5 Land Cover|Forest                                81   99   9  \n",
       "Global Land Cover|Pasture                           81   99   9  \n",
       "Global Land Cover|Cropland                          81   99   9  \n",
       "Global all                                          81   99   9  \n",
       "R5 Land Cover|Pasture                               81   98   9  \n",
       "R5 Land Cover|Cropland                              81   98   9  \n",
       "R5 all                                              81   98   9  \n",
       "R10 Land Cover|Forest                               54   49   5  \n",
       "R10 Land Cover|Pasture                              54   49   5  \n",
       "R10 Land Cover|Cropland                             54   49   5  \n",
       "R10 all                                             54   49   5  \n",
       "R5 AR6 climate diagnostics|Surface Temperature ...   0    0   0  \n",
       "R10 AR6 climate diagnostics|Surface Temperature...   0    0   0  "
      ]
     },
     "execution_count": 9,
     "metadata": {},
     "output_type": "execute_result"
    }
   ],
   "source": [
    "metadata_of_interest = region_variables + [prepend + 'all' for _, prepend in region_list]\n",
    "data = df.meta.groupby('Category')[metadata_of_interest].count()\n",
    "data.T.sort_values(by=\"C1\",ascending=False).round(decimals = 0) "
   ]
  },
  {
   "cell_type": "code",
   "execution_count": 34,
   "id": "f1ad3d5b",
   "metadata": {},
   "outputs": [
    {
     "data": {
      "text/html": [
       "<div>\n",
       "<style scoped>\n",
       "    .dataframe tbody tr th:only-of-type {\n",
       "        vertical-align: middle;\n",
       "    }\n",
       "\n",
       "    .dataframe tbody tr th {\n",
       "        vertical-align: top;\n",
       "    }\n",
       "\n",
       "    .dataframe thead th {\n",
       "        text-align: right;\n",
       "    }\n",
       "</style>\n",
       "<table border=\"1\" class=\"dataframe\">\n",
       "  <thead>\n",
       "    <tr style=\"text-align: right;\">\n",
       "      <th>Category</th>\n",
       "      <th>C1</th>\n",
       "      <th>C2</th>\n",
       "      <th>C3</th>\n",
       "      <th>C4</th>\n",
       "      <th>C5</th>\n",
       "      <th>C6</th>\n",
       "      <th>C7</th>\n",
       "      <th>C8</th>\n",
       "    </tr>\n",
       "  </thead>\n",
       "  <tbody>\n",
       "    <tr>\n",
       "      <th>Global AR6 climate diagnostics|Surface Temperature (GSAT)|MAGICCv7.5.3|50.0th Percentile</th>\n",
       "      <td>97</td>\n",
       "      <td>133</td>\n",
       "      <td>311</td>\n",
       "      <td>159</td>\n",
       "      <td>212</td>\n",
       "      <td>97</td>\n",
       "      <td>164</td>\n",
       "      <td>29</td>\n",
       "    </tr>\n",
       "    <tr>\n",
       "      <th>Global Land Cover|Forest</th>\n",
       "      <td>75</td>\n",
       "      <td>107</td>\n",
       "      <td>238</td>\n",
       "      <td>140</td>\n",
       "      <td>188</td>\n",
       "      <td>81</td>\n",
       "      <td>100</td>\n",
       "      <td>9</td>\n",
       "    </tr>\n",
       "    <tr>\n",
       "      <th>R5 Land Cover|Forest</th>\n",
       "      <td>74</td>\n",
       "      <td>107</td>\n",
       "      <td>238</td>\n",
       "      <td>140</td>\n",
       "      <td>188</td>\n",
       "      <td>81</td>\n",
       "      <td>99</td>\n",
       "      <td>9</td>\n",
       "    </tr>\n",
       "    <tr>\n",
       "      <th>Global Land Cover|Pasture</th>\n",
       "      <td>72</td>\n",
       "      <td>106</td>\n",
       "      <td>232</td>\n",
       "      <td>138</td>\n",
       "      <td>186</td>\n",
       "      <td>81</td>\n",
       "      <td>99</td>\n",
       "      <td>9</td>\n",
       "    </tr>\n",
       "    <tr>\n",
       "      <th>Global Land Cover|Cropland</th>\n",
       "      <td>72</td>\n",
       "      <td>107</td>\n",
       "      <td>232</td>\n",
       "      <td>138</td>\n",
       "      <td>186</td>\n",
       "      <td>81</td>\n",
       "      <td>99</td>\n",
       "      <td>9</td>\n",
       "    </tr>\n",
       "    <tr>\n",
       "      <th>Global all</th>\n",
       "      <td>72</td>\n",
       "      <td>106</td>\n",
       "      <td>232</td>\n",
       "      <td>138</td>\n",
       "      <td>186</td>\n",
       "      <td>81</td>\n",
       "      <td>99</td>\n",
       "      <td>9</td>\n",
       "    </tr>\n",
       "    <tr>\n",
       "      <th>R5 Land Cover|Pasture</th>\n",
       "      <td>71</td>\n",
       "      <td>106</td>\n",
       "      <td>232</td>\n",
       "      <td>138</td>\n",
       "      <td>186</td>\n",
       "      <td>81</td>\n",
       "      <td>98</td>\n",
       "      <td>9</td>\n",
       "    </tr>\n",
       "    <tr>\n",
       "      <th>R5 Land Cover|Cropland</th>\n",
       "      <td>71</td>\n",
       "      <td>107</td>\n",
       "      <td>232</td>\n",
       "      <td>138</td>\n",
       "      <td>186</td>\n",
       "      <td>81</td>\n",
       "      <td>98</td>\n",
       "      <td>9</td>\n",
       "    </tr>\n",
       "    <tr>\n",
       "      <th>R5 all</th>\n",
       "      <td>71</td>\n",
       "      <td>106</td>\n",
       "      <td>232</td>\n",
       "      <td>138</td>\n",
       "      <td>186</td>\n",
       "      <td>81</td>\n",
       "      <td>98</td>\n",
       "      <td>9</td>\n",
       "    </tr>\n",
       "    <tr>\n",
       "      <th>R10 Land Cover|Forest</th>\n",
       "      <td>57</td>\n",
       "      <td>84</td>\n",
       "      <td>174</td>\n",
       "      <td>90</td>\n",
       "      <td>139</td>\n",
       "      <td>54</td>\n",
       "      <td>49</td>\n",
       "      <td>5</td>\n",
       "    </tr>\n",
       "    <tr>\n",
       "      <th>R10 Land Cover|Pasture</th>\n",
       "      <td>57</td>\n",
       "      <td>83</td>\n",
       "      <td>174</td>\n",
       "      <td>90</td>\n",
       "      <td>139</td>\n",
       "      <td>54</td>\n",
       "      <td>49</td>\n",
       "      <td>5</td>\n",
       "    </tr>\n",
       "    <tr>\n",
       "      <th>R10 Land Cover|Cropland</th>\n",
       "      <td>57</td>\n",
       "      <td>84</td>\n",
       "      <td>174</td>\n",
       "      <td>90</td>\n",
       "      <td>139</td>\n",
       "      <td>54</td>\n",
       "      <td>49</td>\n",
       "      <td>5</td>\n",
       "    </tr>\n",
       "    <tr>\n",
       "      <th>R10 all</th>\n",
       "      <td>57</td>\n",
       "      <td>83</td>\n",
       "      <td>174</td>\n",
       "      <td>90</td>\n",
       "      <td>139</td>\n",
       "      <td>54</td>\n",
       "      <td>49</td>\n",
       "      <td>5</td>\n",
       "    </tr>\n",
       "    <tr>\n",
       "      <th>R5 AR6 climate diagnostics|Surface Temperature (GSAT)|MAGICCv7.5.3|50.0th Percentile</th>\n",
       "      <td>0</td>\n",
       "      <td>0</td>\n",
       "      <td>0</td>\n",
       "      <td>0</td>\n",
       "      <td>0</td>\n",
       "      <td>0</td>\n",
       "      <td>0</td>\n",
       "      <td>0</td>\n",
       "    </tr>\n",
       "    <tr>\n",
       "      <th>R10 AR6 climate diagnostics|Surface Temperature (GSAT)|MAGICCv7.5.3|50.0th Percentile</th>\n",
       "      <td>0</td>\n",
       "      <td>0</td>\n",
       "      <td>0</td>\n",
       "      <td>0</td>\n",
       "      <td>0</td>\n",
       "      <td>0</td>\n",
       "      <td>0</td>\n",
       "      <td>0</td>\n",
       "    </tr>\n",
       "  </tbody>\n",
       "</table>\n",
       "</div>"
      ],
      "text/plain": [
       "Category                                            C1   C2   C3   C4   C5  \\\n",
       "Global AR6 climate diagnostics|Surface Temperat...  97  133  311  159  212   \n",
       "Global Land Cover|Forest                            75  107  238  140  188   \n",
       "R5 Land Cover|Forest                                74  107  238  140  188   \n",
       "Global Land Cover|Pasture                           72  106  232  138  186   \n",
       "Global Land Cover|Cropland                          72  107  232  138  186   \n",
       "Global all                                          72  106  232  138  186   \n",
       "R5 Land Cover|Pasture                               71  106  232  138  186   \n",
       "R5 Land Cover|Cropland                              71  107  232  138  186   \n",
       "R5 all                                              71  106  232  138  186   \n",
       "R10 Land Cover|Forest                               57   84  174   90  139   \n",
       "R10 Land Cover|Pasture                              57   83  174   90  139   \n",
       "R10 Land Cover|Cropland                             57   84  174   90  139   \n",
       "R10 all                                             57   83  174   90  139   \n",
       "R5 AR6 climate diagnostics|Surface Temperature ...   0    0    0    0    0   \n",
       "R10 AR6 climate diagnostics|Surface Temperature...   0    0    0    0    0   \n",
       "\n",
       "Category                                            C6   C7  C8  \n",
       "Global AR6 climate diagnostics|Surface Temperat...  97  164  29  \n",
       "Global Land Cover|Forest                            81  100   9  \n",
       "R5 Land Cover|Forest                                81   99   9  \n",
       "Global Land Cover|Pasture                           81   99   9  \n",
       "Global Land Cover|Cropland                          81   99   9  \n",
       "Global all                                          81   99   9  \n",
       "R5 Land Cover|Pasture                               81   98   9  \n",
       "R5 Land Cover|Cropland                              81   98   9  \n",
       "R5 all                                              81   98   9  \n",
       "R10 Land Cover|Forest                               54   49   5  \n",
       "R10 Land Cover|Pasture                              54   49   5  \n",
       "R10 Land Cover|Cropland                             54   49   5  \n",
       "R10 all                                             54   49   5  \n",
       "R5 AR6 climate diagnostics|Surface Temperature ...   0    0   0  \n",
       "R10 AR6 climate diagnostics|Surface Temperature...   0    0   0  "
      ]
     },
     "execution_count": 34,
     "metadata": {},
     "output_type": "execute_result"
    }
   ],
   "source": [
    "data = df.meta.groupby('Category')[metadata_of_interest].count()\n",
    "data.T.sort_values(by=\"C1\",ascending=False).round(decimals = 0) \n",
    "#data = data.T / data['Global AR6 climate diagnostics|Surface Temperature (GSAT)|MAGICCv7.5.3|50.0th Percentile'] * 100\n",
    "#data.sort_values(by=\"C1\",ascending=False).round(decimals = 0) "
   ]
  },
  {
   "cell_type": "code",
   "execution_count": 24,
   "id": "64d4f52d",
   "metadata": {},
   "outputs": [
    {
     "data": {
      "text/plain": [
       "['Global AR6 climate diagnostics|Surface Temperature (GSAT)|MAGICCv7.5.3|50.0th Percentile',\n",
       " 'R5 Land Cover|Forest',\n",
       " 'R5 Land Cover|Pasture',\n",
       " 'R5 Land Cover|Cropland',\n",
       " 'R5 all']"
      ]
     },
     "execution_count": 24,
     "metadata": {},
     "output_type": "execute_result"
    }
   ],
   "source": [
    "idx = (\n",
    "    ['Global AR6 climate diagnostics|Surface Temperature (GSAT)|MAGICCv7.5.3|50.0th Percentile'] + \n",
    "    [x for x in data.index if 'R5' in x][1:]\n",
    ")\n",
    "idx"
   ]
  },
  {
   "cell_type": "code",
   "execution_count": 29,
   "id": "0eacba04",
   "metadata": {},
   "outputs": [
    {
     "data": {
      "text/html": [
       "<div>\n",
       "<style scoped>\n",
       "    .dataframe tbody tr th:only-of-type {\n",
       "        vertical-align: middle;\n",
       "    }\n",
       "\n",
       "    .dataframe tbody tr th {\n",
       "        vertical-align: top;\n",
       "    }\n",
       "\n",
       "    .dataframe thead th {\n",
       "        text-align: right;\n",
       "    }\n",
       "</style>\n",
       "<table border=\"1\" class=\"dataframe\">\n",
       "  <thead>\n",
       "    <tr style=\"text-align: right;\">\n",
       "      <th>Category</th>\n",
       "      <th>C1</th>\n",
       "      <th>C2</th>\n",
       "      <th>C3</th>\n",
       "    </tr>\n",
       "  </thead>\n",
       "  <tbody>\n",
       "    <tr>\n",
       "      <th>Surface Temperature</th>\n",
       "      <td>100.0</td>\n",
       "      <td>100.0</td>\n",
       "      <td>100.0</td>\n",
       "    </tr>\n",
       "    <tr>\n",
       "      <th>R5 Land Cover|Forest</th>\n",
       "      <td>76.0</td>\n",
       "      <td>80.0</td>\n",
       "      <td>77.0</td>\n",
       "    </tr>\n",
       "    <tr>\n",
       "      <th>R5 Land Cover|Pasture</th>\n",
       "      <td>73.0</td>\n",
       "      <td>80.0</td>\n",
       "      <td>75.0</td>\n",
       "    </tr>\n",
       "    <tr>\n",
       "      <th>R5 Land Cover|Cropland</th>\n",
       "      <td>73.0</td>\n",
       "      <td>80.0</td>\n",
       "      <td>75.0</td>\n",
       "    </tr>\n",
       "    <tr>\n",
       "      <th>R5 all</th>\n",
       "      <td>73.0</td>\n",
       "      <td>80.0</td>\n",
       "      <td>75.0</td>\n",
       "    </tr>\n",
       "  </tbody>\n",
       "</table>\n",
       "</div>"
      ],
      "text/plain": [
       "Category                   C1     C2     C3\n",
       "Surface Temperature     100.0  100.0  100.0\n",
       "R5 Land Cover|Forest     76.0   80.0   77.0\n",
       "R5 Land Cover|Pasture    73.0   80.0   75.0\n",
       "R5 Land Cover|Cropland   73.0   80.0   75.0\n",
       "R5 all                   73.0   80.0   75.0"
      ]
     },
     "execution_count": 29,
     "metadata": {},
     "output_type": "execute_result"
    }
   ],
   "source": [
    "table = (\n",
    "    data\n",
    "    .loc[idx]\n",
    "    .rename(index={'Global AR6 climate diagnostics|Surface Temperature (GSAT)|MAGICCv7.5.3|50.0th Percentile': \n",
    "                  'Surface Temperature'})\n",
    "    .sort_values(by=\"C1\",ascending=False)\n",
    "    .round(decimals = 0)\n",
    "    [['C1', 'C2', 'C3']]\n",
    ")\n",
    "table"
   ]
  },
  {
   "cell_type": "code",
   "execution_count": 40,
   "id": "a800cac1",
   "metadata": {},
   "outputs": [
    {
     "data": {
      "text/plain": [
       "1216"
      ]
     },
     "execution_count": 40,
     "metadata": {},
     "output_type": "execute_result"
    }
   ],
   "source": [
    "len(df.filter(**{'R5 all': True}).index)"
   ]
  },
  {
   "cell_type": "code",
   "execution_count": 44,
   "id": "7b212a34",
   "metadata": {},
   "outputs": [
    {
     "data": {
      "text/plain": [
       "model              scenario              \n",
       "AIM/CGE 2.0        ADVANCE_2020_1.5C-2100    Fail\n",
       "                   ADVANCE_2020_Med2C        Fail\n",
       "                   ADVANCE_2020_WB2C         Fail\n",
       "                   ADVANCE_2030_Med2C        Fail\n",
       "                   ADVANCE_2030_Price1.5C    Fail\n",
       "                                             ... \n",
       "WITCH-GLOBIOM 4.4  CD-LINKS_NPi2020_1000     Pass\n",
       "                   CD-LINKS_NPi2020_1600     Pass\n",
       "                   CD-LINKS_NPi2020_400      Pass\n",
       "                   CD-LINKS_NoPolicy         Pass\n",
       "POLES GECO2019     NDCMCS                     NaN\n",
       "Name: Vetting_historical, Length: 1717, dtype: object"
      ]
     },
     "execution_count": 44,
     "metadata": {},
     "output_type": "execute_result"
    }
   ],
   "source": [
    "df.meta['Vetting_historical']"
   ]
  },
  {
   "cell_type": "code",
   "execution_count": 49,
   "id": "aaa68ca5",
   "metadata": {},
   "outputs": [
    {
     "data": {
      "text/plain": [
       "1202"
      ]
     },
     "execution_count": 49,
     "metadata": {},
     "output_type": "execute_result"
    }
   ],
   "source": [
    "len(df.filter(Category=['C3', 'C5', 'C6', 'C7', 'C4', 'C1', 'C2', 'C8']).index)"
   ]
  },
  {
   "cell_type": "code",
   "execution_count": 32,
   "id": "e57acba8",
   "metadata": {},
   "outputs": [],
   "source": [
    "table.to_excel('~/Downloads/table.xlsx', index=True)"
   ]
  },
  {
   "cell_type": "markdown",
   "id": "0836313c",
   "metadata": {},
   "source": [
    "# Add cumulative CDR"
   ]
  },
  {
   "cell_type": "code",
   "execution_count": 11,
   "id": "00e238e0",
   "metadata": {},
   "outputs": [],
   "source": [
    "idf = pd.read_csv(data_path / 'AR6_Scenarios_Database_World_v1.0.csv')\n",
    "idf = pyam.IamDataFrame(idf[idf.Variable.isin(['Carbon Sequestration|CCS|Biomass'])])\n",
    "idf = idf.interpolate(range(2010, 2101))\n",
    "idf = idf.filter(year=range(1990, 2015), keep=False)\n",
    "idf.set_meta_from_data(\n",
    "    name='Cumulative BECCS', \n",
    "    method=np.sum,\n",
    "    variable='Carbon Sequestration|CCS|Biomass', \n",
    "    region='World',\n",
    ")\n",
    "df.meta['Cumulative BECCS'] = idf.meta['Cumulative BECCS']"
   ]
  },
  {
   "cell_type": "markdown",
   "id": "176224ec",
   "metadata": {},
   "source": [
    "# Export"
   ]
  },
  {
   "cell_type": "code",
   "execution_count": 12,
   "id": "f1723caf",
   "metadata": {},
   "outputs": [],
   "source": [
    "df.meta.to_excel(\n",
    "    data_path / 'AR6_Scenarios_Database_metadata_indicators_v1.0_variable_coverage.xlsx',\n",
    "    sheet_name='meta',\n",
    ")"
   ]
  },
  {
   "cell_type": "markdown",
   "id": "994eb12e",
   "metadata": {},
   "source": [
    "# Basic Stats"
   ]
  },
  {
   "cell_type": "code",
   "execution_count": 13,
   "id": "01b5cd64",
   "metadata": {},
   "outputs": [],
   "source": [
    "meta = pd.read_excel(data_path / 'AR6_Scenarios_Database_metadata_indicators_v1.0.xlsx', sheet_name='meta')"
   ]
  },
  {
   "cell_type": "code",
   "execution_count": 14,
   "id": "1bf2bfe0",
   "metadata": {},
   "outputs": [
    {
     "data": {
      "text/plain": [
       "2304"
      ]
     },
     "execution_count": 14,
     "metadata": {},
     "output_type": "execute_result"
    }
   ],
   "source": [
    "len(meta)"
   ]
  },
  {
   "cell_type": "code",
   "execution_count": 15,
   "id": "8ef1ab97",
   "metadata": {},
   "outputs": [
    {
     "data": {
      "text/plain": [
       "Category\n",
       "C1     97\n",
       "C2    133\n",
       "C3    311\n",
       "C4    159\n",
       "C5    212\n",
       "C6     97\n",
       "C7    164\n",
       "C8     29\n",
       "Name: Model, dtype: int64"
      ]
     },
     "execution_count": 15,
     "metadata": {},
     "output_type": "execute_result"
    }
   ],
   "source": [
    "meta.groupby('Category')['Model'].count()"
   ]
  },
  {
   "cell_type": "code",
   "execution_count": 16,
   "id": "700e7e9c",
   "metadata": {},
   "outputs": [
    {
     "data": {
      "text/plain": [
       "1202"
      ]
     },
     "execution_count": 16,
     "metadata": {},
     "output_type": "execute_result"
    }
   ],
   "source": [
    "meta.groupby('Category')['Model'].count().sum()"
   ]
  },
  {
   "cell_type": "code",
   "execution_count": null,
   "id": "39091d66",
   "metadata": {},
   "outputs": [],
   "source": []
  }
 ],
 "metadata": {
  "kernelspec": {
   "display_name": "Python 3 (ipykernel)",
   "language": "python",
   "name": "python3"
  },
  "language_info": {
   "codemirror_mode": {
    "name": "ipython",
    "version": 3
   },
   "file_extension": ".py",
   "mimetype": "text/x-python",
   "name": "python",
   "nbconvert_exporter": "python",
   "pygments_lexer": "ipython3",
   "version": "3.8.13"
  }
 },
 "nbformat": 4,
 "nbformat_minor": 5
}
