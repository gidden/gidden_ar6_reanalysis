{
 "cells": [
  {
   "cell_type": "code",
   "execution_count": 1,
   "id": "502a23d4",
   "metadata": {},
   "outputs": [],
   "source": [
    "import pandas as pd\n",
    "import pathlib"
   ]
  },
  {
   "cell_type": "code",
   "execution_count": 2,
   "id": "82d80880",
   "metadata": {},
   "outputs": [],
   "source": [
    "data_path = pathlib.Path('../data')"
   ]
  },
  {
   "cell_type": "code",
   "execution_count": 5,
   "id": "39a5b422",
   "metadata": {},
   "outputs": [],
   "source": [
    "def grassi_correction(fname):\n",
    "    df = pd.read_csv(fname)\n",
    "    variable = 'AR6 Reanalysis|OSCARv3.2|Carbon Removal|Land|Indirect'\n",
    "    x = df.query(f\"Region == 'World' & Variable == '{variable}'\")\n",
    "    return x.iloc[0][pd.Series(range(2005, 2016)).astype(str)]"
   ]
  },
  {
   "cell_type": "code",
   "execution_count": 6,
   "id": "7b73d0ed",
   "metadata": {},
   "outputs": [],
   "source": [
    "fname = data_path / 'gidden_et_al_2022_ar6_reanalysis_data.csv'\n",
    "result = grassi_correction(fname)"
   ]
  },
  {
   "cell_type": "code",
   "execution_count": 7,
   "id": "d86a846c",
   "metadata": {},
   "outputs": [
    {
     "data": {
      "text/plain": [
       "4580.124589999999"
      ]
     },
     "execution_count": 7,
     "metadata": {},
     "output_type": "execute_result"
    }
   ],
   "source": [
    "result.mean()"
   ]
  },
  {
   "cell_type": "code",
   "execution_count": null,
   "id": "2d5f84ba",
   "metadata": {},
   "outputs": [],
   "source": []
  }
 ],
 "metadata": {
  "kernelspec": {
   "display_name": "Python 3 (ipykernel)",
   "language": "python",
   "name": "python3"
  },
  "language_info": {
   "codemirror_mode": {
    "name": "ipython",
    "version": 3
   },
   "file_extension": ".py",
   "mimetype": "text/x-python",
   "name": "python",
   "nbconvert_exporter": "python",
   "pygments_lexer": "ipython3",
   "version": "3.8.13"
  }
 },
 "nbformat": 4,
 "nbformat_minor": 5
}
