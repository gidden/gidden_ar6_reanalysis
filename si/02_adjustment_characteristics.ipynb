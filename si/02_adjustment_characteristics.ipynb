{
 "cells": [
  {
   "cell_type": "code",
   "execution_count": 1,
   "id": "502a23d4",
   "metadata": {},
   "outputs": [],
   "source": [
    "import pandas as pd\n",
    "import pathlib"
   ]
  },
  {
   "cell_type": "code",
   "execution_count": 2,
   "id": "82d80880",
   "metadata": {},
   "outputs": [],
   "source": [
    "data_path = pathlib.Path('../data')"
   ]
  },
  {
   "cell_type": "code",
   "execution_count": 3,
   "id": "39a5b422",
   "metadata": {},
   "outputs": [],
   "source": [
    "def grassi_correction(label):\n",
    "    df = pd.read_csv(data_path / f'analysis_{label}_data.csv')\n",
    "    variable = 'Non-intact Forest Sink - NGHGI Correction'\n",
    "    x = df.query(f\"Region == 'World' & Variable == '{variable}'\")\n",
    "    return x.iloc[0][pd.Series(range(2005, 2016)).astype(str)]"
   ]
  },
  {
   "cell_type": "code",
   "execution_count": 4,
   "id": "7b73d0ed",
   "metadata": {},
   "outputs": [],
   "source": [
    "result = grassi_correction('2015_soft_grassi')"
   ]
  },
  {
   "cell_type": "code",
   "execution_count": 6,
   "id": "d86a846c",
   "metadata": {},
   "outputs": [
    {
     "data": {
      "text/plain": [
       "5062.7600063636355"
      ]
     },
     "execution_count": 6,
     "metadata": {},
     "output_type": "execute_result"
    }
   ],
   "source": [
    "result.mean()"
   ]
  },
  {
   "cell_type": "code",
   "execution_count": null,
   "id": "2d5f84ba",
   "metadata": {},
   "outputs": [],
   "source": []
  }
 ],
 "metadata": {
  "kernelspec": {
   "display_name": "Python 3 (ipykernel)",
   "language": "python",
   "name": "python3"
  },
  "language_info": {
   "codemirror_mode": {
    "name": "ipython",
    "version": 3
   },
   "file_extension": ".py",
   "mimetype": "text/x-python",
   "name": "python",
   "nbconvert_exporter": "python",
   "pygments_lexer": "ipython3",
   "version": "3.8.13"
  }
 },
 "nbformat": 4,
 "nbformat_minor": 5
}
