{
 "cells": [
  {
   "cell_type": "code",
   "execution_count": 1,
   "id": "c888ffda",
   "metadata": {},
   "outputs": [
    {
     "name": "stderr",
     "output_type": "stream",
     "text": [
      "C:\\Users\\gidden\\Miniconda3\\envs\\pyam\\Lib\\site-packages\\xarray\\backends\\cfgrib_.py:27: UserWarning: Failed to load cfgrib - most likely there is a problem accessing the ecCodes library. Try `import cfgrib` to get the full error message\n",
      "  warnings.warn(\n"
     ]
    },
    {
     "data": {
      "application/javascript": [
       "if (typeof IPython !== 'undefined') { IPython.OutputArea.prototype._should_scroll = function(lines){ return false; }}"
      ],
      "text/plain": [
       "<IPython.core.display.Javascript object>"
      ]
     },
     "metadata": {},
     "output_type": "display_data"
    }
   ],
   "source": [
    "import itertools\n",
    "import pathlib\n",
    "import pyam # version: 1.4.1.dev15+g3563b43\n",
    "\n",
    "import numpy as np\n",
    "import pandas as pd\n",
    "import seaborn as sns\n",
    "import matplotlib.pyplot as plt\n",
    "\n",
    "sns.set_style('whitegrid')"
   ]
  },
  {
   "cell_type": "markdown",
   "id": "dedf6226",
   "metadata": {},
   "source": [
    "# Load Data"
   ]
  },
  {
   "cell_type": "code",
   "execution_count": 2,
   "id": "1c4849a8",
   "metadata": {},
   "outputs": [],
   "source": [
    "data_path = pathlib.Path('../data')"
   ]
  },
  {
   "cell_type": "code",
   "execution_count": 3,
   "id": "789e4403",
   "metadata": {},
   "outputs": [
    {
     "name": "stderr",
     "output_type": "stream",
     "text": [
      "pyam - INFO: Running in a notebook, setting up a basic logging at level INFO\n",
      "pyam.core - INFO: Reading meta indicators for 914 out of 1871 scenarios\n"
     ]
    }
   ],
   "source": [
    "paper_data = pd.concat([\n",
    "    pd.read_csv(data_path / 'gidden_et_al_2022_ar6_reanalysis_data.csv'),\n",
    "    pd.read_csv(data_path / 'additional_analysis_data.csv'),\n",
    "])\n",
    "df = pyam.IamDataFrame(paper_data)\n",
    "df.load_meta(data_path / 'gidden_et_al_2022_ar6_reanalysis_meta.csv')"
   ]
  },
  {
   "cell_type": "code",
   "execution_count": 4,
   "id": "ab36b236",
   "metadata": {},
   "outputs": [],
   "source": [
    "categories_to_temp = {'C1': '1.5C', 'C3': '2C'}\n",
    "df.meta['Temperature'] = df.meta['Category'].replace(categories_to_temp)"
   ]
  },
  {
   "cell_type": "code",
   "execution_count": 5,
   "id": "3a431a0c",
   "metadata": {},
   "outputs": [],
   "source": [
    "kyoto_gases_variable = 'AR6 Reanalysis|OSCARv3.2|Emissions|Kyoto Gases'"
   ]
  },
  {
   "cell_type": "markdown",
   "id": "87958a1a",
   "metadata": {},
   "source": [
    "# Figure 2A"
   ]
  },
  {
   "cell_type": "code",
   "execution_count": null,
   "id": "da1cde3d",
   "metadata": {},
   "outputs": [],
   "source": [
    "variables = [\n",
    "    kyoto_gases_variable,\n",
    "]\n",
    "quantiles = (0.1, 0.25, 0.5, 0.75, 0.9)\n",
    "year_start, year_end = 2010, 2100\n",
    "\n",
    "data = pyam.concat([\n",
    "    (\n",
    "        df\n",
    "        .filter(region='World', variable=variable, year=range(year_start, year_end + 1))\n",
    "        .filter(Category=category)\n",
    "        .convert_unit('Mt CO2-equiv/yr', to='Gt CO2-equiv/yr', factor=1e-3)\n",
    "        .compute.quantiles(quantiles)\n",
    "        .rename(model={'Quantiles': temp})\n",
    "    ) for (category, temp), variable in itertools.product(categories_to_temp.items(), variables)\n",
    "])\n",
    "\n",
    "for variable in variables:\n",
    "    data.append(\n",
    "        df\n",
    "        .filter(region='World', variable=variable, year=range(year_start, year_end + 1))\n",
    "        .filter(Policy_category_name='P1b: Current policies')\n",
    "        .convert_unit('Mt CO2-equiv/yr', to='Gt CO2-equiv/yr', factor=1e-3)\n",
    "        .compute.quantiles(quantiles)\n",
    "        .rename(model={'Quantiles': 'Current Policies'}),\n",
    "        inplace=True\n",
    "    )"
   ]
  },
  {
   "cell_type": "code",
   "execution_count": null,
   "id": "3193abfd",
   "metadata": {},
   "outputs": [],
   "source": [
    "# taken from p17, row 'Global emissions, including the impact of overachievement of NDCs *' of den Elzen 2022 SI\n",
    "targets = pd.DataFrame([\n",
    "    ('Current Policies (den Elzen 2022, adj.)', 56.826, 52.592, 59.552, 'dimgrey', 0),\n",
    "    ('Conditional NDCs (den Elzen 2022, adj.)', 50.700, 48.542, 52.202, 'plum', -0.35),\n",
    "    ('Unconditional NDCs (den Elzen 2022, adj.)', 52.284, 50.059, 54.136, 'thistle', 0.35),\n",
    "], columns=['label', 'med', 'min', 'max', 'color', 'jitter'])\n",
    "\n",
    "target_2015_value = 51.181 # to adjust for differences in LULUCF definitions, we take an offset of values used in den Elzen per conversations with Niklas Forsell\n",
    "this_study_2015_value = (\n",
    "    data\n",
    "    .filter(variable=kyoto_gases_variable, year=2015, scenario='0.5')\n",
    "    .timeseries()\n",
    "    .mean()\n",
    "    .iloc[0]\n",
    ")\n",
    "target_offset = target_2015_value - this_study_2015_value\n",
    "target_2015_value, this_study_2015_value, target_offset"
   ]
  },
  {
   "cell_type": "code",
   "execution_count": null,
   "id": "33766941",
   "metadata": {},
   "outputs": [],
   "source": [
    "color_map = {\n",
    "    'Current Policies': pyam.plotting.PYAM_COLORS[\"AR6-IP-CurPol\"],\n",
    "    '2C': pyam.plotting.PYAM_COLORS[\"AR6-C1\"],\n",
    "    '1.5C': pyam.plotting.PYAM_COLORS[\"AR6-C3\"], \n",
    "}\n",
    "rc = pyam.run_control()\n",
    "#rc.store['color']['model'] = {}\n",
    "rc.update({'color': {'model': color_map}})"
   ]
  },
  {
   "cell_type": "code",
   "execution_count": null,
   "id": "c23f6ed6",
   "metadata": {},
   "outputs": [],
   "source": [
    "fig, ax = plt.subplots(figsize=(10, 5))\n",
    "(\n",
    "    data\n",
    "    .filter(variable=kyoto_gases_variable, year=range(2015, 2051))\n",
    "    .filter(scenario=['*0.25*', '*0.75*'])\n",
    "    .plot\n",
    "    .line(color='model', fill_between={'alpha': 0.5}, ax=ax, alpha=0.1)\n",
    ")\n",
    "(\n",
    "    data\n",
    "    .filter(variable=kyoto_gases_variable, year=range(2015, 2051))\n",
    "    .filter(scenario='0.5')\n",
    "    .plot\n",
    "    .line(color='model', ax=ax, cmap='Set2')\n",
    ")\n",
    "for i, row in targets.iterrows():\n",
    "    ax.scatter(2030 + row['jitter'], row['med'] - target_offset, label=row['label'], c=row['color'])\n",
    "    ax.errorbar(2030 + row['jitter'], row['med'] - target_offset, \n",
    "                yerr=np.array([[row['med'] - row['min'], row['max'] - row['med']],]).reshape(2, 1), \n",
    "                color=row['color'])\n",
    "handles, labels = ax.get_legend_handles_labels()\n",
    "ax.legend(handles[6:], labels[6:])\n",
    "ax.set_title('Total GHGs adjusted to NGHGIs compared with NDCs')\n",
    "ax.set_xlabel('')\n",
    "ax.set_ylim(0, 70)\n",
    "\n",
    "fig.savefig('./files/fig3a.pdf', bbox_inches='tight')\n",
    "fig.savefig('./files/fig3a.jpg', bbox_inches='tight')"
   ]
  },
  {
   "cell_type": "code",
   "execution_count": null,
   "id": "7229a0d6",
   "metadata": {},
   "outputs": [],
   "source": [
    "fig, ax = plt.subplots(figsize=(10, 5))\n",
    "(\n",
    "    data\n",
    "    .filter(variable=kyoto_gases_variable, year=range(2015, 2101))\n",
    "    .filter(scenario=['*0.25*', '*0.75*'])\n",
    "    .plot\n",
    "    .line(color='model', fill_between=True, ax=ax, alpha=0.5)\n",
    ")\n",
    "(\n",
    "    data\n",
    "    .filter(variable=kyoto_gases_variable, year=range(2015, 2101))\n",
    "    .filter(scenario='0.5')\n",
    "    .plot\n",
    "    .line(color='model', ax=ax, cmap='Set2')\n",
    ")\n",
    "for i, row in targets.iterrows():\n",
    "    ax.scatter(2030 + row['jitter'], row['med'] - target_offset, label=row['label'], c=row['color'])\n",
    "    ax.errorbar(2030 + row['jitter'], row['med'] - target_offset, \n",
    "                yerr=np.array([[row['med'] - row['min'], row['max'] - row['med']],]).reshape(2, 1), \n",
    "                color=row['color'])\n",
    "handles, labels = ax.get_legend_handles_labels()\n",
    "ax.legend(handles[6:], labels[6:])\n",
    "ax.set_title('Total GHGs adjusted to NGHGIs compared with NDCs')\n",
    "ax.set_xlabel('')\n",
    "ax.set_ylim(-10, 80)"
   ]
  },
  {
   "cell_type": "markdown",
   "id": "89e87180",
   "metadata": {},
   "source": [
    "## Gap quantification"
   ]
  },
  {
   "cell_type": "code",
   "execution_count": null,
   "id": "5c407d9b",
   "metadata": {},
   "outputs": [],
   "source": [
    "med_target = targets.set_index('label')['med'] - target_offset\n",
    "med_target"
   ]
  },
  {
   "cell_type": "code",
   "execution_count": null,
   "id": "510a7c9c",
   "metadata": {},
   "outputs": [],
   "source": [
    "pathways = (\n",
    "    data\n",
    "    .filter(variable=kyoto_gases_variable, year=2030, scenario=['*0.5*'])\n",
    "    .timeseries()\n",
    "    [2030]\n",
    "    .unstack('model')\n",
    "    .reset_index(drop=True)\n",
    ")\n",
    "pathways"
   ]
  },
  {
   "cell_type": "code",
   "execution_count": null,
   "id": "f4ea8908",
   "metadata": {},
   "outputs": [],
   "source": [
    "gap = pd.DataFrame({c: med_target - float(pathways[c]) for c in pathways})\n",
    "# gap.loc[-2:, 'Current Policies'] = np.nan\n",
    "gap"
   ]
  },
  {
   "cell_type": "code",
   "execution_count": null,
   "id": "d1fc5eab",
   "metadata": {},
   "outputs": [],
   "source": [
    "# values in 2030\n",
    "estimates_den_elzen = {\n",
    "    '2C': 41.5, # 66% chance\n",
    "    '1.5C': 24.7,\n",
    "}\n",
    "for key, value in estimates_den_elzen.items():\n",
    "    gap[f'{key} (den Elzen 2022, adj.)'] = med_target - (value - target_offset)"
   ]
  },
  {
   "cell_type": "code",
   "execution_count": null,
   "id": "c8371b7c",
   "metadata": {},
   "outputs": [],
   "source": [
    "gap"
   ]
  },
  {
   "cell_type": "code",
   "execution_count": null,
   "id": "e88ca02f",
   "metadata": {},
   "outputs": [],
   "source": [
    "gap.columns"
   ]
  },
  {
   "cell_type": "code",
   "execution_count": null,
   "id": "dc273610",
   "metadata": {},
   "outputs": [],
   "source": [
    "gap = gap.rename(columns= {\n",
    "    '1.5C': '1.5C (this study)',\n",
    "    '2C': '2C (this study)',\n",
    "})"
   ]
  },
  {
   "cell_type": "code",
   "execution_count": null,
   "id": "b6479f11",
   "metadata": {},
   "outputs": [],
   "source": [
    "fig, ax = plt.subplots(figsize=(7, 5))\n",
    "order = ['2C (this study)', '2C (den Elzen 2022, adj.)', '1.5C (this study)', '1.5C (den Elzen 2022, adj.)']\n",
    "gap[order].loc[gap.index[::-1]].plot.barh(cmap='Paired', ax=ax)\n",
    "ax.legend(**pyam.plotting.OUTSIDE_LEGEND['right'])\n",
    "ax.set_ylabel('')\n",
    "ax.set_xlabel('Gt CO2/yr')\n",
    "ax.set_title('Emission gap between targets, current policies, and pledges')"
   ]
  },
  {
   "cell_type": "code",
   "execution_count": null,
   "id": "36e171c7",
   "metadata": {},
   "outputs": [],
   "source": [
    "(12.7 - 10.8) / 10.8 # 2C"
   ]
  },
  {
   "cell_type": "code",
   "execution_count": null,
   "id": "073ac0ad",
   "metadata": {},
   "outputs": [],
   "source": [
    "(26.4 - 27.6) / 27.6"
   ]
  },
  {
   "cell_type": "markdown",
   "id": "25699dda",
   "metadata": {},
   "source": [
    "# Figure 2B"
   ]
  },
  {
   "cell_type": "code",
   "execution_count": null,
   "id": "30cdbb5c",
   "metadata": {},
   "outputs": [],
   "source": [
    "def make_gap_data(df, v, categories_to_temp):\n",
    "    x = (\n",
    "        df\n",
    "        .filter(variable=v, year=[2030])\n",
    "        .filter(Category=categories_to_temp.keys())\n",
    "        .as_pandas()\n",
    "        .replace({'Category': categories_to_temp})\n",
    "    )\n",
    "    idx = ['model', 'scenario', 'region', 'year', 'Category']\n",
    "    x = x.set_index(idx)['value'] \n",
    "    return x\n",
    "\n",
    "def make_gap_plot(data, drop={}, ax=None, palette=None):\n",
    "    data = data.reset_index().dropna()\n",
    "    for col, value in drop.items():\n",
    "        data = data[data[col] != value]\n",
    "    if ax is None:\n",
    "        fig, ax = plt.subplots(figsize=(7, 5))\n",
    "    ax.axhline(0, c='k', ls='--', alpha=0.5)\n",
    "    palette = palette or {\"2C\": \"#fc8d59\", \"1.5C\":\"#91bfdb\"}\n",
    "    sns.boxplot(\n",
    "        x=\"region\", y=\"value\", hue=\"Category\",\n",
    "        data=data, \n",
    "        palette=palette, ax=ax, showfliers=False, whis=0,\n",
    "    )\n",
    "    return ax"
   ]
  },
  {
   "cell_type": "code",
   "execution_count": null,
   "id": "3a5c4d9b",
   "metadata": {},
   "outputs": [],
   "source": [
    "# change in emissions in negative, gap is positive\n",
    "a = 'Change in AR6 Reanalysis|OSCARv3.2|Emissions|Kyoto Gases from 2020'\n",
    "b = 'Change in AR6 Reanalysis|OSCARv3.2|Emissions|Kyoto Gases|Direct Only from 2020'\n",
    "adj = -1 * make_gap_data(df, a, categories_to_temp)\n",
    "orig = -1 * make_gap_data(df, b, categories_to_temp)"
   ]
  },
  {
   "cell_type": "code",
   "execution_count": null,
   "id": "b397a18c",
   "metadata": {},
   "outputs": [],
   "source": [
    "(\n",
    "    df\n",
    "    .filter(variable=[a, b], year=range(2020, 2031, 5))\n",
    "    .subtract(a, b, name='Change in Indirect Component of Flux', ignore_units='Mt CO2-equiv/yr')\n",
    "    .filter(Category=['C1', 'C3'])\n",
    "    .filter(region='World')\n",
    "    .plot.line(color='Category')\n",
    ")"
   ]
  },
  {
   "cell_type": "code",
   "execution_count": null,
   "id": "f1c10a10",
   "metadata": {},
   "outputs": [],
   "source": [
    "fig, ax = plt.subplots(figsize=(5, 6))\n",
    "\n",
    "make_gap_plot(adj-orig, ax=ax, palette=color_map)#, drop={'region': 'World'}) # World values distort plot\n",
    "ax.set_xlabel('')\n",
    "ax.set_ylabel(r\"$\\Delta_{NGHGI} - \\Delta_{Model}$ (Mt CO2-equiv/yr)\", fontsize=16)\n",
    "ax.set_title(\n",
    "    'Change in 2030 regional emission reductions between \\n'\n",
    "    'pathways with and without the NGHGI correction',\n",
    "    fontsize=16,\n",
    ")\n",
    "plt.xticks(rotation=45, fontsize=14)\n"
   ]
  },
  {
   "cell_type": "markdown",
   "id": "ee672c73",
   "metadata": {},
   "source": [
    "Note that this calculation differs from that in Figure 2. Here we look at the relative change in emission reductions between both frameworks.\n",
    "\n",
    "$$\\Delta_{model} = E^{GHG}_{model, 2030} - E^{GHG}_{model, 2020}$$\n",
    "$$\\Delta_{NGHGI} = E^{GHG}_{NGHGI, 2030} - E^{GHG}_{NGHGI, 2020}$$\n",
    "\n",
    "$$metric = 1 - \\frac{\\Delta^{2030-2020}_{NGHGI}}{\\Delta^{2030-2020}_{Model}}$$"
   ]
  },
  {
   "cell_type": "code",
   "execution_count": null,
   "id": "4d4ec6f2",
   "metadata": {},
   "outputs": [],
   "source": [
    "fig, ax = plt.subplots(figsize=(5, 6))\n",
    "\n",
    "make_gap_plot(100 * ((adj / orig) - 1), ax=ax, palette=color_map)\n",
    "ax.set_xlabel('')\n",
    "ax.set_ylabel(r\"$\\Delta_{NGHGI} / \\Delta_{Model} - 1$ (%)\", fontsize=16)\n",
    "\n",
    "ax.set_title(\n",
    "    'Change in 2020-2030 emissions reductions using\\n'\n",
    "    'NGHGI conventions compared with model conventions',\n",
    "    fontsize=16,\n",
    ")\n",
    "plt.xticks(rotation=45, fontsize=14)\n",
    "\n",
    "fig.savefig('./files/fig3b.pdf', bbox_inches='tight')"
   ]
  }
 ],
 "metadata": {
  "kernelspec": {
   "display_name": "Python 3 (ipykernel)",
   "language": "python",
   "name": "python3"
  },
  "language_info": {
   "codemirror_mode": {
    "name": "ipython",
    "version": 3
   },
   "file_extension": ".py",
   "mimetype": "text/x-python",
   "name": "python",
   "nbconvert_exporter": "python",
   "pygments_lexer": "ipython3",
   "version": "3.11.4"
  }
 },
 "nbformat": 4,
 "nbformat_minor": 5
}
