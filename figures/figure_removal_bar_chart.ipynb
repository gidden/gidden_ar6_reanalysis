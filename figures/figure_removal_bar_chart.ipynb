{
 "cells": [
  {
   "cell_type": "code",
   "execution_count": 1,
   "id": "0d9f0ed0",
   "metadata": {},
   "outputs": [
    {
     "data": {
      "application/javascript": [
       "if (typeof IPython !== 'undefined') { IPython.OutputArea.prototype._should_scroll = function(lines){ return false; }}"
      ],
      "text/plain": [
       "<IPython.core.display.Javascript object>"
      ]
     },
     "metadata": {},
     "output_type": "display_data"
    }
   ],
   "source": [
    "import itertools\n",
    "import pathlib\n",
    "import pyam\n",
    "\n",
    "import numpy as np\n",
    "import pandas as pd\n",
    "import seaborn as sns\n",
    "import matplotlib.pyplot as plt\n",
    "\n",
    "# these functions can be found in utils.py in this same directory\n",
    "from utils import (\n",
    "    make_quantiles,\n",
    "    make_sequestration_plot_data,\n",
    "    sequestration_plot,\n",
    "    share_of_cdr_data,\n",
    ")\n",
    "\n",
    "sns.set_style('whitegrid')"
   ]
  },
  {
   "cell_type": "markdown",
   "id": "4bc5e2ec",
   "metadata": {},
   "source": [
    "# Load Data"
   ]
  },
  {
   "cell_type": "code",
   "execution_count": 14,
   "id": "d716969c",
   "metadata": {},
   "outputs": [
    {
     "name": "stderr",
     "output_type": "stream",
     "text": [
      "pyam.core - INFO: Reading meta indicators for 914 out of 1871 scenarios\n"
     ]
    }
   ],
   "source": [
    "data_path = pathlib.Path('../data')\n",
    "\n",
    "paper_data = pd.concat([\n",
    "    pd.read_csv(data_path / 'gidden_et_al_2022_ar6_reanalysis_data.csv'),\n",
    "    pd.read_csv(data_path / 'additional_analysis_data.csv'),\n",
    "])\n",
    "\n",
    "df = pyam.IamDataFrame(paper_data)\n",
    "df.load_meta(data_path / 'gidden_et_al_2022_ar6_reanalysis_meta.csv')"
   ]
  },
  {
   "cell_type": "code",
   "execution_count": 15,
   "id": "db05bb3e",
   "metadata": {},
   "outputs": [
    {
     "data": {
      "text/plain": [
       "Category                                                                                     NaN\n",
       "Category_name                                                                                NaN\n",
       "Category_subset                                                                              NaN\n",
       "Subset_Ch4                                                                                   NaN\n",
       "Category_Vetting_historical                                                                  NaN\n",
       "                                                                                            ... \n",
       "Interpolated Net-Zero Year for AR6 Reanalysis|OSCARv3.2|Emissions|Kyoto Gases|Direct Only    NaN\n",
       "Interpolated Net-Zero Year for AR6 Reanalysis|OSCARv3.2|Emissions|Kyoto Gases                NaN\n",
       "Interpolated Net-Zero Year for Emissions|CO2                                                 NaN\n",
       "Interpolated Net-Zero Year for AR6 Reanalysis|OSCARv3.2|Emissions|CO2|Direct Only            NaN\n",
       "Interpolated Net-Zero Year for AR6 Reanalysis|OSCARv3.2|Emissions|CO2                        NaN\n",
       "Name: (GCAM 5.2, NGFS1_Current policies (Hot house world, Rep)), Length: 95, dtype: object"
      ]
     },
     "execution_count": 15,
     "metadata": {},
     "output_type": "execute_result"
    }
   ],
   "source": [
    "df.meta.loc['GCAM 5.2', 'NGFS1_Current policies (Hot house world, Rep)']"
   ]
  },
  {
   "cell_type": "code",
   "execution_count": null,
   "id": "f80603b8",
   "metadata": {},
   "outputs": [],
   "source": []
  },
  {
   "cell_type": "code",
   "execution_count": 3,
   "id": "c62cb05a",
   "metadata": {},
   "outputs": [
    {
     "data": {
      "text/plain": [
       "array(['C7', 'C6', 'C5'], dtype=object)"
      ]
     },
     "execution_count": 3,
     "metadata": {},
     "output_type": "execute_result"
    }
   ],
   "source": [
    "# Confirm there are no C1-C3 in current policies\n",
    "meta = df.meta.copy()\n",
    "meta.query(\"Policy_category_name == 'P1b: Current policies'\").Category.unique()"
   ]
  },
  {
   "cell_type": "code",
   "execution_count": 4,
   "id": "94bd5a7b",
   "metadata": {},
   "outputs": [],
   "source": [
    "categories_to_temp = {'C1': '1.5C', 'C3': '2C', 'Current Policies': 'Current Policies'}\n",
    "df.meta['Temperature'] = df.meta['Category'].replace(categories_to_temp)\n",
    "df.set_meta(\n",
    "    'Current Policies', name='Temperature',\n",
    "    index=df.meta.query(\"Policy_category_name == 'P1b: Current policies'\").index\n",
    ")"
   ]
  },
  {
   "cell_type": "code",
   "execution_count": 11,
   "id": "16077ec1",
   "metadata": {},
   "outputs": [],
   "source": [
    "df.meta.query(\"Policy_category_name == 'P1b: Current policies'\").index.to_series().to_csv('C:/Users/gidden/Downloads/current_policies.csv', index=True)"
   ]
  },
  {
   "cell_type": "code",
   "execution_count": 5,
   "id": "bdcd9cbe",
   "metadata": {},
   "outputs": [],
   "source": [
    "variable_rename = {\n",
    "    'AR6 Reanalysis|OSCARv3.2|Carbon Removal|Land': 'Total',\n",
    "    'AR6 Reanalysis|OSCARv3.2|Carbon Removal|Land|Direct': 'Direct',\n",
    "    'AR6 Reanalysis|OSCARv3.2|Carbon Removal|Land|Indirect': 'Indirect',\n",
    "}\n",
    "df.rename(variable=variable_rename, inplace=True)\n",
    "variables = list(variable_rename.values())\n",
    "data = df.filter(region='World', variable=variables, year=[2020, 2030, 2050])"
   ]
  },
  {
   "cell_type": "code",
   "execution_count": 25,
   "id": "e0cc5916",
   "metadata": {},
   "outputs": [],
   "source": [
    "data = data.offset(year=2020).filter(year=2020, keep=False)"
   ]
  },
  {
   "cell_type": "code",
   "execution_count": 26,
   "id": "16f8fa61",
   "metadata": {},
   "outputs": [],
   "source": [
    "def make_removal_plot_data(df, variables, temps, years=[2030, 2050]):\n",
    "    # pyam version of quantile data\n",
    "    data = pyam.concat([\n",
    "        (\n",
    "            df\n",
    "            .filter(region='World', variable=variable)\n",
    "            .filter(Temperature=temp)\n",
    "            .compute.quantiles((0.25, 0.5, 0.75))\n",
    "            .rename(model={'Quantiles': temp})\n",
    "        ) for temp, variable in itertools.product(temps, variables)\n",
    "    ])\n",
    "    \n",
    "    # data ready for plotting\n",
    "    pdata = (\n",
    "        data\n",
    "        .filter(year=years)\n",
    "        .as_pandas(meta_cols=False)\n",
    "        .drop(columns=['region', 'unit'])\n",
    "        .set_index(['year', 'model', 'scenario', 'variable'])\n",
    "        ['value']\n",
    "        .unstack(['scenario', 'variable'])\n",
    "        / 1e3\n",
    "    )\n",
    "    pdata = pdata.reindex(index=pdata.index[::-1]) # reverse ordering so plots are in correct order\n",
    "    return data, pdata\n",
    "\n",
    "_data, pdata = make_removal_plot_data(data, variables, list(categories_to_temp.values()), years=[2030, 2050])"
   ]
  },
  {
   "cell_type": "code",
   "execution_count": 27,
   "id": "d6294dd6",
   "metadata": {
    "scrolled": false
   },
   "outputs": [
    {
     "data": {
      "text/html": [
       "<div>\n",
       "<style scoped>\n",
       "    .dataframe tbody tr th:only-of-type {\n",
       "        vertical-align: middle;\n",
       "    }\n",
       "\n",
       "    .dataframe tbody tr th {\n",
       "        vertical-align: top;\n",
       "    }\n",
       "\n",
       "    .dataframe thead tr th {\n",
       "        text-align: left;\n",
       "    }\n",
       "\n",
       "    .dataframe thead tr:last-of-type th {\n",
       "        text-align: right;\n",
       "    }\n",
       "</style>\n",
       "<table border=\"1\" class=\"dataframe\">\n",
       "  <thead>\n",
       "    <tr>\n",
       "      <th></th>\n",
       "      <th>scenario</th>\n",
       "      <th colspan=\"3\" halign=\"left\">0.25</th>\n",
       "      <th colspan=\"3\" halign=\"left\">0.5</th>\n",
       "      <th colspan=\"3\" halign=\"left\">0.75</th>\n",
       "    </tr>\n",
       "    <tr>\n",
       "      <th></th>\n",
       "      <th>variable</th>\n",
       "      <th>Direct</th>\n",
       "      <th>Indirect</th>\n",
       "      <th>Total</th>\n",
       "      <th>Direct</th>\n",
       "      <th>Indirect</th>\n",
       "      <th>Total</th>\n",
       "      <th>Direct</th>\n",
       "      <th>Indirect</th>\n",
       "      <th>Total</th>\n",
       "    </tr>\n",
       "    <tr>\n",
       "      <th>year</th>\n",
       "      <th>model</th>\n",
       "      <th></th>\n",
       "      <th></th>\n",
       "      <th></th>\n",
       "      <th></th>\n",
       "      <th></th>\n",
       "      <th></th>\n",
       "      <th></th>\n",
       "      <th></th>\n",
       "      <th></th>\n",
       "    </tr>\n",
       "  </thead>\n",
       "  <tbody>\n",
       "    <tr>\n",
       "      <th rowspan=\"3\" valign=\"top\">2050</th>\n",
       "      <th>Current Policies</th>\n",
       "      <td>-0.438711</td>\n",
       "      <td>1.794372</td>\n",
       "      <td>1.490679</td>\n",
       "      <td>-0.338451</td>\n",
       "      <td>2.208418</td>\n",
       "      <td>2.025546</td>\n",
       "      <td>-0.040622</td>\n",
       "      <td>2.497194</td>\n",
       "      <td>2.419194</td>\n",
       "    </tr>\n",
       "    <tr>\n",
       "      <th>2C</th>\n",
       "      <td>0.191154</td>\n",
       "      <td>-0.805870</td>\n",
       "      <td>-0.651755</td>\n",
       "      <td>1.325935</td>\n",
       "      <td>-0.511882</td>\n",
       "      <td>1.021435</td>\n",
       "      <td>2.996143</td>\n",
       "      <td>-0.164083</td>\n",
       "      <td>2.546991</td>\n",
       "    </tr>\n",
       "    <tr>\n",
       "      <th>1.5C</th>\n",
       "      <td>1.083450</td>\n",
       "      <td>-2.182859</td>\n",
       "      <td>-0.557077</td>\n",
       "      <td>2.902627</td>\n",
       "      <td>-1.921897</td>\n",
       "      <td>1.167449</td>\n",
       "      <td>3.942813</td>\n",
       "      <td>-1.472434</td>\n",
       "      <td>2.017276</td>\n",
       "    </tr>\n",
       "    <tr>\n",
       "      <th rowspan=\"3\" valign=\"top\">2030</th>\n",
       "      <th>Current Policies</th>\n",
       "      <td>0.000150</td>\n",
       "      <td>0.948341</td>\n",
       "      <td>1.009756</td>\n",
       "      <td>0.053021</td>\n",
       "      <td>1.065740</td>\n",
       "      <td>1.141913</td>\n",
       "      <td>0.189638</td>\n",
       "      <td>1.151833</td>\n",
       "      <td>1.249932</td>\n",
       "    </tr>\n",
       "    <tr>\n",
       "      <th>2C</th>\n",
       "      <td>0.079269</td>\n",
       "      <td>0.323443</td>\n",
       "      <td>0.849952</td>\n",
       "      <td>0.698637</td>\n",
       "      <td>0.691594</td>\n",
       "      <td>1.134412</td>\n",
       "      <td>1.986356</td>\n",
       "      <td>0.903315</td>\n",
       "      <td>2.830674</td>\n",
       "    </tr>\n",
       "    <tr>\n",
       "      <th>1.5C</th>\n",
       "      <td>0.889132</td>\n",
       "      <td>-0.338238</td>\n",
       "      <td>0.942907</td>\n",
       "      <td>1.569740</td>\n",
       "      <td>0.178360</td>\n",
       "      <td>1.755680</td>\n",
       "      <td>2.570618</td>\n",
       "      <td>0.404256</td>\n",
       "      <td>2.954663</td>\n",
       "    </tr>\n",
       "  </tbody>\n",
       "</table>\n",
       "</div>"
      ],
      "text/plain": [
       "scenario                   0.25                           0.5            \\\n",
       "variable                 Direct  Indirect     Total    Direct  Indirect   \n",
       "year model                                                                \n",
       "2050 Current Policies -0.438711  1.794372  1.490679 -0.338451  2.208418   \n",
       "     2C                0.191154 -0.805870 -0.651755  1.325935 -0.511882   \n",
       "     1.5C              1.083450 -2.182859 -0.557077  2.902627 -1.921897   \n",
       "2030 Current Policies  0.000150  0.948341  1.009756  0.053021  1.065740   \n",
       "     2C                0.079269  0.323443  0.849952  0.698637  0.691594   \n",
       "     1.5C              0.889132 -0.338238  0.942907  1.569740  0.178360   \n",
       "\n",
       "scenario                             0.75                      \n",
       "variable                  Total    Direct  Indirect     Total  \n",
       "year model                                                     \n",
       "2050 Current Policies  2.025546 -0.040622  2.497194  2.419194  \n",
       "     2C                1.021435  2.996143 -0.164083  2.546991  \n",
       "     1.5C              1.167449  3.942813 -1.472434  2.017276  \n",
       "2030 Current Policies  1.141913  0.189638  1.151833  1.249932  \n",
       "     2C                1.134412  1.986356  0.903315  2.830674  \n",
       "     1.5C              1.755680  2.570618  0.404256  2.954663  "
      ]
     },
     "execution_count": 27,
     "metadata": {},
     "output_type": "execute_result"
    }
   ],
   "source": [
    "pdata"
   ]
  },
  {
   "cell_type": "code",
   "execution_count": 28,
   "id": "de4953c0",
   "metadata": {},
   "outputs": [],
   "source": [
    "line_colors = {\n",
    "    'Current Policies': '#F9C8B7',\n",
    "    '1.5C': '#97CEE4',\n",
    "    '2C': '#6F7899', \n",
    "}\n",
    "\n",
    "\n",
    "def removal_plot(pdata, order=None, hlines=True, stacked=True, cmap='PiYG', ax=None, legend=pyam.plotting.OUTSIDE_LEGEND['bottom']):\n",
    "    if ax is None:\n",
    "        fig, ax = plt.subplots(figsize=(7, 5))\n",
    "    \n",
    "    base, mins, maxs = pdata['0.5'], pdata['0.25'], pdata['0.75']\n",
    "    if order:\n",
    "        base = base.loc[order]\n",
    "    errors = [[base[c] - mins[c], maxs[c] - base[c]] for c in base.columns]\n",
    "    \n",
    "    if hlines:\n",
    "        for (idx, hline) in base['Total'].items():\n",
    "            ax.axhline(hline, c=line_colors[idx], label=idx)    \n",
    "    base.plot.bar(yerr=errors, capsize=4, rot=0, stacked=stacked, ax=ax, cmap=cmap, alpha=0.7, legend=False)\n",
    "\n",
    "    if legend:\n",
    "        ax.legend(**legend)\n",
    "    return ax"
   ]
  },
  {
   "cell_type": "code",
   "execution_count": 29,
   "id": "074ac1b8",
   "metadata": {},
   "outputs": [],
   "source": [
    "order = ['1.5C', '2C', 'Current Policies']"
   ]
  },
  {
   "cell_type": "code",
   "execution_count": 34,
   "id": "4e23bb57",
   "metadata": {},
   "outputs": [
    {
     "data": {
      "text/plain": [
       "(-2.5, 4.5)"
      ]
     },
     "execution_count": 34,
     "metadata": {},
     "output_type": "execute_result"
    },
    {
     "data": {
      "image/png": "[encoded data removed]",
      "text/plain": [
       "<Figure size 288x360 with 1 Axes>"
      ]
     },
     "metadata": {},
     "output_type": "display_data"
    }
   ],
   "source": [
    "year = 2030\n",
    "\n",
    "size = 4\n",
    "fig, ax = plt.subplots(figsize=(1 * size, 1.25 * size))\n",
    "legend = False\n",
    "removal_plot(pdata.loc[year], stacked=False, hlines=True, cmap='Accent', ax=ax, order=order, legend=legend)\n",
    "ax.set_title(f'Additional Carbon Removal 2020-{year}')\n",
    "ax.set_ylabel('Gt CO2 per year') \n",
    "ax.set_xlabel('')\n",
    "ax.set_ylim(-2.5, 4.5)"
   ]
  },
  {
   "cell_type": "code",
   "execution_count": 35,
   "id": "3faa7de7",
   "metadata": {},
   "outputs": [
    {
     "data": {
      "text/plain": [
       "(-2.5, 4.5)"
      ]
     },
     "execution_count": 35,
     "metadata": {},
     "output_type": "execute_result"
    },
    {
     "data": {
      "image/png": "[encoded data removed]",
      "text/plain": [
       "<Figure size 288x360 with 1 Axes>"
      ]
     },
     "metadata": {},
     "output_type": "display_data"
    }
   ],
   "source": [
    "year = 2050\n",
    "\n",
    "size = 4\n",
    "fig, ax = plt.subplots(figsize=(1 * size, 1.25 * size))\n",
    "legend = pyam.plotting.OUTSIDE_LEGEND['right'].copy()\n",
    "legend.update(ncol= 2)\n",
    "removal_plot(pdata.loc[year], stacked=False, hlines=True, cmap='Accent', ax=ax, order=order, legend=legend)\n",
    "ax.set_title(f'Additional Carbon Removal 2020-{year}')\n",
    "ax.set_xlabel('')\n",
    "ax.set_ylim(-2.5, 4.5)"
   ]
  },
  {
   "cell_type": "code",
   "execution_count": null,
   "id": "8e73c07a",
   "metadata": {},
   "outputs": [],
   "source": []
  }
 ],
 "metadata": {
  "kernelspec": {
   "display_name": "Python 3 (ipykernel)",
   "language": "python",
   "name": "python3"
  },
  "language_info": {
   "codemirror_mode": {
    "name": "ipython",
    "version": 3
   },
   "file_extension": ".py",
   "mimetype": "text/x-python",
   "name": "python",
   "nbconvert_exporter": "python",
   "pygments_lexer": "ipython3",
   "version": "3.8.13"
  }
 },
 "nbformat": 4,
 "nbformat_minor": 5
}
