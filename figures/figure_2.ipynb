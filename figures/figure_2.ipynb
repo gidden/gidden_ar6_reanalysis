{
 "cells": [
  {
   "cell_type": "code",
   "execution_count": 1,
   "id": "c888ffda",
   "metadata": {},
   "outputs": [
    {
     "data": {
      "application/javascript": [
       "if (typeof IPython !== 'undefined') { IPython.OutputArea.prototype._should_scroll = function(lines){ return false; }}"
      ],
      "text/plain": [
       "<IPython.core.display.Javascript object>"
      ]
     },
     "metadata": {},
     "output_type": "display_data"
    }
   ],
   "source": [
    "import itertools\n",
    "import pathlib\n",
    "import pyam # version: 1.4.1.dev15+g3563b43\n",
    "\n",
    "import numpy as np\n",
    "import pandas as pd\n",
    "import seaborn as sns\n",
    "import matplotlib.pyplot as plt\n",
    "\n",
    "sns.set_style('whitegrid')"
   ]
  },
  {
   "cell_type": "code",
   "execution_count": 2,
   "id": "e129924f",
   "metadata": {},
   "outputs": [],
   "source": [
    "# utils.py\n",
    "def make_gap_data(df, v):\n",
    "    x = (\n",
    "        df\n",
    "        .filter(variable=v, year=[2030])\n",
    "        .filter(Category=categories_to_temp.keys())\n",
    "        .as_pandas()\n",
    "        .replace({'Category': categories_to_temp})\n",
    "    )\n",
    "    idx = ['model', 'scenario', 'region', 'year', 'Category']\n",
    "    x = x.set_index(idx)['value'] \n",
    "    return x\n",
    "\n",
    "def make_gap_plot(data, drop={}, ax=None):\n",
    "    data = data.reset_index().dropna()\n",
    "    for col, value in drop.items():\n",
    "        data = data[data[col] != value]\n",
    "    if ax is None:\n",
    "        fig, ax = plt.subplots(figsize=(7, 5))\n",
    "    ax.axhline(0, c='k', ls='--', alpha=0.5)\n",
    "    palette = {\"2C\": \"#fc8d59\", \"1.5C\":\"#91bfdb\"}\n",
    "    sns.boxplot(\n",
    "        x=\"region\", y=\"value\", hue=\"Category\",\n",
    "        data=data, \n",
    "        palette=\"Set2_r\", ax=ax, showfliers=False, whis=0,\n",
    "#        palette=palette, ax=ax, showfliers=False, whis=0,\n",
    "    )\n",
    "    return ax"
   ]
  },
  {
   "cell_type": "markdown",
   "id": "dedf6226",
   "metadata": {},
   "source": [
    "# Load Data"
   ]
  },
  {
   "cell_type": "code",
   "execution_count": 3,
   "id": "1c4849a8",
   "metadata": {},
   "outputs": [],
   "source": [
    "data_path = pathlib.Path('../data')"
   ]
  },
  {
   "cell_type": "code",
   "execution_count": 4,
   "id": "789e4403",
   "metadata": {},
   "outputs": [],
   "source": [
    "LABEL = '2015_soft_grassi'"
   ]
  },
  {
   "cell_type": "code",
   "execution_count": 5,
   "id": "b443a378",
   "metadata": {},
   "outputs": [],
   "source": [
    "pddata = pd.read_csv(data_path / f'analysis_{LABEL}_data.csv')"
   ]
  },
  {
   "cell_type": "code",
   "execution_count": 6,
   "id": "6d0df3e4",
   "metadata": {},
   "outputs": [
    {
     "name": "stderr",
     "output_type": "stream",
     "text": [
      "pyam - INFO: Running in a notebook, setting up a basic logging at level INFO\n",
      "pyam.core - INFO: Reading meta indicators\n"
     ]
    }
   ],
   "source": [
    "df = pyam.IamDataFrame(pddata)\n",
    "df.load_meta(data_path / f'analysis_{LABEL}_meta.csv')"
   ]
  },
  {
   "cell_type": "code",
   "execution_count": 7,
   "id": "ab36b236",
   "metadata": {},
   "outputs": [],
   "source": [
    "categories_to_temp = {'C1': '1.5C', 'C3': '2C'}\n",
    "df.meta['Temperature'] = df.meta['Category'].replace(categories_to_temp)"
   ]
  },
  {
   "cell_type": "markdown",
   "id": "87958a1a",
   "metadata": {},
   "source": [
    "# Figure 2A"
   ]
  },
  {
   "cell_type": "code",
   "execution_count": 8,
   "id": "da1cde3d",
   "metadata": {},
   "outputs": [],
   "source": [
    "variables = [\n",
    "    'Emissions|Kyoto Gases - Reanalyzed and Adjusted',\n",
    "]\n",
    "quantiles = (0.1, 0.25, 0.5, 0.75, 0.9)\n",
    "year_start, year_end = 2010, 2100\n",
    "\n",
    "data = pyam.concat([\n",
    "    (\n",
    "        df\n",
    "        .filter(region='World', variable=variable, year=range(year_start, year_end + 1))\n",
    "        .filter(Category=category)\n",
    "        .convert_unit('Mt CO2-equiv/yr', to='Gt CO2-equiv/yr', factor=1e-3)\n",
    "        .quantiles(quantiles)\n",
    "        .rename(model={'unweighted': temp})\n",
    "    ) for (category, temp), variable in itertools.product(categories_to_temp.items(), variables)\n",
    "])\n",
    "\n",
    "for variable in variables:\n",
    "    data.append(\n",
    "        df\n",
    "        .filter(region='World', variable=variable, year=range(year_start, year_end + 1))\n",
    "        .filter(Policy_category_name='P1b: Current policies')\n",
    "        .convert_unit('Mt CO2-equiv/yr', to='Gt CO2-equiv/yr', factor=1e-3)\n",
    "        .quantiles(quantiles)\n",
    "        .rename(model={'unweighted': 'Current Policies'}),\n",
    "        inplace=True\n",
    "    )"
   ]
  },
  {
   "cell_type": "code",
   "execution_count": 9,
   "id": "3193abfd",
   "metadata": {},
   "outputs": [
    {
     "data": {
      "text/plain": [
       "(51.181, 49.37857481147904, 1.8024251885209566)"
      ]
     },
     "execution_count": 9,
     "metadata": {},
     "output_type": "execute_result"
    }
   ],
   "source": [
    "targets = pd.DataFrame([\n",
    "    ('Current Policies (den Elzen 2022, adj.)', 56.826, 52.592, 59.552, 'dimgrey', 0),\n",
    "    ('Conditional NDCs (den Elzen 2022, adj.)', 50.700, 48.542, 52.202, 'plum', -0.35),\n",
    "    ('Unconditional NDCs (den Elzen 2022, adj.)', 52.284, 50.059, 54.136, 'thistle', 0.35),\n",
    "], columns=['label', 'med', 'min', 'max', 'color', 'jitter'])\n",
    "\n",
    "target_2015_value = 51.181\n",
    "this_study_2015_value = (\n",
    "    data\n",
    "    .filter(variable='Emissions|Kyoto Gases - Reanalyzed and Adjusted', year=2015, scenario='quantile_0.5')\n",
    "    .timeseries()\n",
    "    .mean()\n",
    "    .iloc[0]\n",
    ")\n",
    "target_offset = target_2015_value - this_study_2015_value\n",
    "target_2015_value, this_study_2015_value, target_offset"
   ]
  },
  {
   "cell_type": "code",
   "execution_count": 24,
   "id": "96c95c0c",
   "metadata": {},
   "outputs": [
    {
     "data": {
      "text/plain": [
       "array([[0.4       , 0.76078431, 0.64705882, 1.        ],\n",
       "       [0.98823529, 0.55294118, 0.38431373, 1.        ],\n",
       "       [0.55294118, 0.62745098, 0.79607843, 1.        ],\n",
       "       [0.90588235, 0.54117647, 0.76470588, 1.        ],\n",
       "       [0.65098039, 0.84705882, 0.32941176, 1.        ],\n",
       "       [1.        , 0.85098039, 0.18431373, 1.        ],\n",
       "       [0.89803922, 0.76862745, 0.58039216, 1.        ],\n",
       "       [0.70196078, 0.70196078, 0.70196078, 1.        ]])"
      ]
     },
     "execution_count": 24,
     "metadata": {},
     "output_type": "execute_result"
    }
   ],
   "source": [
    "plt.cm.Set2(np.linspace(0.0,1.0,8))"
   ]
  },
  {
   "cell_type": "code",
   "execution_count": 44,
   "id": "33766941",
   "metadata": {},
   "outputs": [],
   "source": [
    "color_map = {\n",
    "    'Current Policies': '#' + 'a' * 6,\n",
    "    '2C': [1.        , 0.85098039, 0.18431373, 1.        ],\n",
    "    '1.5C': [0.55294118, 0.62745098, 0.79607843, 1.        ], \n",
    "}\n",
    "rc = pyam.run_control()\n",
    "#rc.store['color']['model'] = {}\n",
    "rc.update({'color': {'model': color_map}})"
   ]
  },
  {
   "cell_type": "code",
   "execution_count": 46,
   "id": "c23f6ed6",
   "metadata": {},
   "outputs": [
    {
     "name": "stderr",
     "output_type": "stream",
     "text": [
      "C:\\Users\\gidden\\Miniconda3\\envs\\pyam\\lib\\site-packages\\numpy\\lib\\arraysetops.py:590: VisibleDeprecationWarning: Creating an ndarray from ragged nested sequences (which is a list-or-tuple of lists-or-tuples-or ndarrays with different lengths or shapes) is deprecated. If you meant to do this, you must specify 'dtype=object' when creating the ndarray.\n",
      "  ar1 = np.asarray(ar1).ravel()\n",
      "C:\\Users\\gidden\\Miniconda3\\envs\\pyam\\lib\\site-packages\\numpy\\lib\\arraysetops.py:590: VisibleDeprecationWarning: Creating an ndarray from ragged nested sequences (which is a list-or-tuple of lists-or-tuples-or ndarrays with different lengths or shapes) is deprecated. If you meant to do this, you must specify 'dtype=object' when creating the ndarray.\n",
      "  ar1 = np.asarray(ar1).ravel()\n"
     ]
    },
    {
     "data": {
      "text/plain": [
       "Text(0.5, 0, '')"
      ]
     },
     "execution_count": 46,
     "metadata": {},
     "output_type": "execute_result"
    },
    {
     "data": {
      "image/png": "[encoded data removed]",
      "text/plain": [
       "<Figure size 720x360 with 1 Axes>"
      ]
     },
     "metadata": {
      "needs_background": "light"
     },
     "output_type": "display_data"
    }
   ],
   "source": [
    "variable = 'Emissions|Kyoto Gases - Reanalyzed and Adjusted'\n",
    "fig, ax = plt.subplots(figsize=(10, 5))\n",
    "(\n",
    "    data\n",
    "    .filter(variable=variable, year=range(2015, 2051))\n",
    "    .filter(scenario=['*0.25*', '*0.75*'])\n",
    "    .plot\n",
    "    .line(color='model', fill_between=True, ax=ax, alpha=0.1)\n",
    ")\n",
    "(\n",
    "    data\n",
    "    .filter(variable=variable, year=range(2015, 2051))\n",
    "    .filter(scenario='quantile_0.5')\n",
    "    .plot\n",
    "    .line(color='model', ax=ax, cmap='Set2')\n",
    ")\n",
    "for i, row in targets.iterrows():\n",
    "    ax.scatter(2030 + row['jitter'], row['med'] - target_offset, label=row['label'], c=row['color'])\n",
    "    ax.errorbar(2030 + row['jitter'], row['med'] - target_offset, \n",
    "                yerr=np.array([[row['med'] - row['min'], row['max'] - row['med']],]).reshape(2, 1), \n",
    "                color=row['color'])\n",
    "handles, labels = ax.get_legend_handles_labels()\n",
    "ax.legend(handles[6:], labels[6:])\n",
    "ax.set_title('Total GHGs adjusted to NGHGIs compared with NDCs')\n",
    "ax.set_xlabel('')"
   ]
  },
  {
   "cell_type": "markdown",
   "id": "89e87180",
   "metadata": {},
   "source": [
    "## Gap quantification"
   ]
  },
  {
   "cell_type": "code",
   "execution_count": 11,
   "id": "5c407d9b",
   "metadata": {},
   "outputs": [
    {
     "data": {
      "text/plain": [
       "label\n",
       "Current Policies (den Elzen 2022, adj.)      55.023575\n",
       "Conditional NDCs (den Elzen 2022, adj.)      48.897575\n",
       "Unconditional NDCs (den Elzen 2022, adj.)    50.481575\n",
       "Name: med, dtype: float64"
      ]
     },
     "execution_count": 11,
     "metadata": {},
     "output_type": "execute_result"
    }
   ],
   "source": [
    "med_target = targets.set_index('label')['med'] - target_offset\n",
    "med_target"
   ]
  },
  {
   "cell_type": "code",
   "execution_count": 12,
   "id": "510a7c9c",
   "metadata": {},
   "outputs": [
    {
     "data": {
      "text/html": [
       "<div>\n",
       "<style scoped>\n",
       "    .dataframe tbody tr th:only-of-type {\n",
       "        vertical-align: middle;\n",
       "    }\n",
       "\n",
       "    .dataframe tbody tr th {\n",
       "        vertical-align: top;\n",
       "    }\n",
       "\n",
       "    .dataframe thead th {\n",
       "        text-align: right;\n",
       "    }\n",
       "</style>\n",
       "<table border=\"1\" class=\"dataframe\">\n",
       "  <thead>\n",
       "    <tr style=\"text-align: right;\">\n",
       "      <th>model</th>\n",
       "      <th>1.5C</th>\n",
       "      <th>2C</th>\n",
       "      <th>Current Policies</th>\n",
       "    </tr>\n",
       "  </thead>\n",
       "  <tbody>\n",
       "    <tr>\n",
       "      <th>0</th>\n",
       "      <td>25.087212</td>\n",
       "      <td>37.771626</td>\n",
       "      <td>52.518611</td>\n",
       "    </tr>\n",
       "  </tbody>\n",
       "</table>\n",
       "</div>"
      ],
      "text/plain": [
       "model       1.5C         2C  Current Policies\n",
       "0      25.087212  37.771626         52.518611"
      ]
     },
     "execution_count": 12,
     "metadata": {},
     "output_type": "execute_result"
    }
   ],
   "source": [
    "variable = 'Emissions|Kyoto Gases - Reanalyzed and Adjusted'\n",
    "pathways = (\n",
    "    data\n",
    "    .filter(variable=variable, year=2030, scenario=['*0.5*'])\n",
    "    .timeseries()\n",
    "    [2030]\n",
    "    .unstack('model')\n",
    "    .reset_index(drop=True)\n",
    ")\n",
    "pathways"
   ]
  },
  {
   "cell_type": "code",
   "execution_count": 13,
   "id": "f4ea8908",
   "metadata": {},
   "outputs": [
    {
     "data": {
      "text/html": [
       "<div>\n",
       "<style scoped>\n",
       "    .dataframe tbody tr th:only-of-type {\n",
       "        vertical-align: middle;\n",
       "    }\n",
       "\n",
       "    .dataframe tbody tr th {\n",
       "        vertical-align: top;\n",
       "    }\n",
       "\n",
       "    .dataframe thead th {\n",
       "        text-align: right;\n",
       "    }\n",
       "</style>\n",
       "<table border=\"1\" class=\"dataframe\">\n",
       "  <thead>\n",
       "    <tr style=\"text-align: right;\">\n",
       "      <th></th>\n",
       "      <th>1.5C</th>\n",
       "      <th>2C</th>\n",
       "      <th>Current Policies</th>\n",
       "    </tr>\n",
       "    <tr>\n",
       "      <th>label</th>\n",
       "      <th></th>\n",
       "      <th></th>\n",
       "      <th></th>\n",
       "    </tr>\n",
       "  </thead>\n",
       "  <tbody>\n",
       "    <tr>\n",
       "      <th>Current Policies (den Elzen 2022, adj.)</th>\n",
       "      <td>29.936362</td>\n",
       "      <td>17.251949</td>\n",
       "      <td>2.504964</td>\n",
       "    </tr>\n",
       "    <tr>\n",
       "      <th>Conditional NDCs (den Elzen 2022, adj.)</th>\n",
       "      <td>23.810362</td>\n",
       "      <td>11.125949</td>\n",
       "      <td>-3.621036</td>\n",
       "    </tr>\n",
       "    <tr>\n",
       "      <th>Unconditional NDCs (den Elzen 2022, adj.)</th>\n",
       "      <td>25.394362</td>\n",
       "      <td>12.709949</td>\n",
       "      <td>-2.037036</td>\n",
       "    </tr>\n",
       "  </tbody>\n",
       "</table>\n",
       "</div>"
      ],
      "text/plain": [
       "                                                1.5C         2C  \\\n",
       "label                                                             \n",
       "Current Policies (den Elzen 2022, adj.)    29.936362  17.251949   \n",
       "Conditional NDCs (den Elzen 2022, adj.)    23.810362  11.125949   \n",
       "Unconditional NDCs (den Elzen 2022, adj.)  25.394362  12.709949   \n",
       "\n",
       "                                           Current Policies  \n",
       "label                                                        \n",
       "Current Policies (den Elzen 2022, adj.)            2.504964  \n",
       "Conditional NDCs (den Elzen 2022, adj.)           -3.621036  \n",
       "Unconditional NDCs (den Elzen 2022, adj.)         -2.037036  "
      ]
     },
     "execution_count": 13,
     "metadata": {},
     "output_type": "execute_result"
    }
   ],
   "source": [
    "gap = pd.DataFrame({c: med_target - float(pathways[c]) for c in pathways})\n",
    "gap"
   ]
  },
  {
   "cell_type": "code",
   "execution_count": 14,
   "id": "36e171c7",
   "metadata": {},
   "outputs": [
    {
     "data": {
      "text/plain": [
       "0.1759259259259258"
      ]
     },
     "execution_count": 14,
     "metadata": {},
     "output_type": "execute_result"
    }
   ],
   "source": [
    "(12.7 - 10.8) / 10.8 # 2C"
   ]
  },
  {
   "cell_type": "code",
   "execution_count": 15,
   "id": "073ac0ad",
   "metadata": {},
   "outputs": [
    {
     "data": {
      "text/plain": [
       "-0.07971014492753634"
      ]
     },
     "execution_count": 15,
     "metadata": {},
     "output_type": "execute_result"
    }
   ],
   "source": [
    "(25.4 - 27.6) / 27.6"
   ]
  },
  {
   "cell_type": "markdown",
   "id": "25699dda",
   "metadata": {},
   "source": [
    "# Figure 2B"
   ]
  },
  {
   "cell_type": "code",
   "execution_count": 16,
   "id": "3a5c4d9b",
   "metadata": {},
   "outputs": [],
   "source": [
    "# change in emissions in negative, gap is positive\n",
    "adj = make_gap_data(df, 'Change in Emissions|Kyoto Gases - Reanalyzed and Adjusted from 2020') * -1 \n",
    "orig = make_gap_data(df, 'Change in Emissions|Kyoto Gases - Reanalyzed from 2020') * -1"
   ]
  },
  {
   "cell_type": "code",
   "execution_count": 17,
   "id": "7764bcc0",
   "metadata": {},
   "outputs": [
    {
     "data": {
      "text/plain": [
       "Text(0.5, 1.0, 'Change in 2030 regional emission reductions between \\npathways with and without the NGHGI correction')"
      ]
     },
     "execution_count": 17,
     "metadata": {},
     "output_type": "execute_result"
    },
    {
     "data": {
      "image/png": "[encoded data removed]",
      "text/plain": [
       "<Figure size 360x288 with 1 Axes>"
      ]
     },
     "metadata": {
      "needs_background": "light"
     },
     "output_type": "display_data"
    }
   ],
   "source": [
    "fig, ax = plt.subplots(figsize=(5, 4))\n",
    "\n",
    "make_gap_plot(adj-orig, drop={'region': 'World'}, ax=ax)\n",
    "ax.set_xlabel('')\n",
    "ax.set_ylabel('Mt CO2/yr')\n",
    "\n",
    "\n",
    "\n",
    "ax.set_title(\n",
    "    'Change in 2030 regional emission reductions between \\n'\n",
    "    'pathways with and without the NGHGI correction'\n",
    ")"
   ]
  },
  {
   "cell_type": "markdown",
   "id": "1f5b9311",
   "metadata": {},
   "source": [
    "## Figure for SI"
   ]
  },
  {
   "cell_type": "code",
   "execution_count": 18,
   "id": "4d4ec6f2",
   "metadata": {},
   "outputs": [
    {
     "data": {
      "text/plain": [
       "Text(0.5, 1.0, 'Change in 2030 regional emission reductions required \\nto limit warming relative to the reductions not aligned to NGHGIs')"
      ]
     },
     "execution_count": 18,
     "metadata": {},
     "output_type": "execute_result"
    },
    {
     "data": {
      "image/png": "[encoded data removed]",
      "text/plain": [
       "<Figure size 360x288 with 1 Axes>"
      ]
     },
     "metadata": {
      "needs_background": "light"
     },
     "output_type": "display_data"
    }
   ],
   "source": [
    "fig, ax = plt.subplots(figsize=(5, 4))\n",
    "\n",
    "make_gap_plot(100 * ((adj / orig) - 1), ax=ax)\n",
    "ax.set_xlabel('')\n",
    "ax.set_ylabel('%')\n",
    "\n",
    "ax.set_title(\n",
    "    'Change in 2030 regional emission reductions required \\n'\n",
    "    'to limit warming relative to the reductions not aligned to NGHGIs'\n",
    ")"
   ]
  },
  {
   "cell_type": "code",
   "execution_count": null,
   "id": "85475adc",
   "metadata": {},
   "outputs": [],
   "source": []
  }
 ],
 "metadata": {
  "kernelspec": {
   "display_name": "Python 3 (ipykernel)",
   "language": "python",
   "name": "python3"
  },
  "language_info": {
   "codemirror_mode": {
    "name": "ipython",
    "version": 3
   },
   "file_extension": ".py",
   "mimetype": "text/x-python",
   "name": "python",
   "nbconvert_exporter": "python",
   "pygments_lexer": "ipython3",
   "version": "3.8.13"
  }
 },
 "nbformat": 4,
 "nbformat_minor": 5
}
