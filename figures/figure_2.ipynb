{
 "cells": [
  {
   "cell_type": "code",
   "execution_count": 1,
   "id": "64d650d6",
   "metadata": {},
   "outputs": [],
   "source": [
    "%load_ext autoreload\n",
    "%autoreload 2"
   ]
  },
  {
   "cell_type": "code",
   "execution_count": 2,
   "id": "794994e4",
   "metadata": {},
   "outputs": [],
   "source": [
    "import itertools\n",
    "import pathlib\n",
    "import pyam\n",
    "\n",
    "import numpy as np\n",
    "import pandas as pd\n",
    "import seaborn as sns\n",
    "import matplotlib.pyplot as plt\n",
    "\n",
    "# these functions can be found in utils.py in this same directory\n",
    "from utils import make_quantiles\n",
    "\n",
    "sns.set_style('whitegrid')"
   ]
  },
  {
   "cell_type": "code",
   "execution_count": 3,
   "id": "0a3e414b",
   "metadata": {},
   "outputs": [],
   "source": [
    "plt.rcParams[\"pdf.fonttype\"] = 42"
   ]
  },
  {
   "cell_type": "markdown",
   "id": "5cf92f92",
   "metadata": {},
   "source": [
    "# Load Data"
   ]
  },
  {
   "cell_type": "code",
   "execution_count": 4,
   "id": "9b575db7",
   "metadata": {},
   "outputs": [],
   "source": [
    "data_path = pathlib.Path('../data')"
   ]
  },
  {
   "cell_type": "code",
   "execution_count": 5,
   "id": "f79884b2",
   "metadata": {},
   "outputs": [],
   "source": [
    "paper_data = pd.concat([\n",
    "    pd.read_csv(data_path / 'gidden_et_al_2022_ar6_reanalysis_data.csv'),\n",
    "    pd.read_csv(data_path / 'additional_analysis_data.csv'),\n",
    "])"
   ]
  },
  {
   "cell_type": "code",
   "execution_count": 6,
   "id": "819f19d1",
   "metadata": {},
   "outputs": [],
   "source": [
    "ar6_data = pd.read_csv(data_path / 'AR6_Scenarios_Database_World_v1.0.csv')\n",
    "ar6_data = ar6_data[ar6_data.Variable.isin(['Emissions|CO2|AFOLU'])]"
   ]
  },
  {
   "cell_type": "code",
   "execution_count": 7,
   "id": "cd540e42",
   "metadata": {},
   "outputs": [],
   "source": [
    "df = pyam.IamDataFrame(pd.concat([paper_data, ar6_data]))\n",
    "df.load_meta(data_path / 'gidden_et_al_2022_ar6_reanalysis_meta.csv')"
   ]
  },
  {
   "cell_type": "code",
   "execution_count": 8,
   "id": "13493f21",
   "metadata": {},
   "outputs": [],
   "source": [
    "categories_to_temp = {'C1': '1.5C', 'C3': '2C'}\n",
    "df.meta['Temperature'] = df.meta['Category'].replace(categories_to_temp)"
   ]
  },
  {
   "cell_type": "code",
   "execution_count": 9,
   "id": "de168983",
   "metadata": {},
   "outputs": [],
   "source": [
    "df.variable"
   ]
  },
  {
   "cell_type": "markdown",
   "id": "b1cdbb4e",
   "metadata": {},
   "source": [
    "# Panel 1A"
   ]
  },
  {
   "cell_type": "code",
   "execution_count": 10,
   "id": "dd1efe5c",
   "metadata": {},
   "outputs": [],
   "source": [
    "variables = [\n",
    "    'Emissions|CO2|AFOLU',\n",
    "    'AR6 Reanalysis|OSCARv3.2|Emissions|CO2|AFOLU', \n",
    "    'AR6 Reanalysis|OSCARv3.2|Emissions|CO2|AFOLU|Direct', \n",
    "]\n",
    "\n",
    "data = pyam.concat([\n",
    "    make_quantiles(df, v, cat)\n",
    "    for v, cat in itertools.product(variables, categories_to_temp.keys())\n",
    "])"
   ]
  },
  {
   "cell_type": "code",
   "execution_count": 11,
   "id": "3c2bb2c7",
   "metadata": {},
   "outputs": [],
   "source": [
    "def afolu_line_plot(data, variables, cat, ax=None, years=range(1990, 2051), color='variable'):\n",
    "    if ax is None:\n",
    "        fig, ax = plt.subplots(figsize=(10, 6))\n",
    "    (\n",
    "        data\n",
    "        .filter(variable=variables, year=years, model=cat)\n",
    "        .filter(scenario=['*0.25*', '*0.75*'])\n",
    "        .convert_unit('Mt CO2/yr', to='Gt CO2/yr', factor=1e-3)\n",
    "        .plot\n",
    "        .line(color=color, fill_between=True, ax=ax, alpha=0.1, legend=False) #  cmap='PiYG_r',\n",
    "    )\n",
    "    (\n",
    "        data\n",
    "        .filter(variable=variables, year=years, model=cat)\n",
    "        .filter(scenario=['*0.5*'])\n",
    "        .convert_unit('Mt CO2/yr', to='Gt CO2/yr', factor=1e-3)\n",
    "        .plot\n",
    "        .line(color=color, ax=ax)  # cmap='PiYG_r',\n",
    "    )\n",
    "    h, l = ax.get_legend_handles_labels()\n",
    "    ax.legend(h[-len(variables):], l[-len(variables):])\n",
    "    return ax"
   ]
  },
  {
   "cell_type": "code",
   "execution_count": 12,
   "id": "55456f91",
   "metadata": {},
   "outputs": [],
   "source": [
    "color_map = {\n",
    "    'Emissions|CO2|AFOLU': '#' + 'c' * 6,\n",
    "    'LULUCF Emissions - Model Reporting Convensions': '#a23247',\n",
    "    'LULUCF Emissions - NGHGI Reporting Conventions': '#628C79', \n",
    "}\n",
    "pyam.run_control().update({'color': {'variable': color_map}})"
   ]
  },
  {
   "cell_type": "code",
   "execution_count": 13,
   "id": "90ad21e2",
   "metadata": {},
   "outputs": [],
   "source": [
    "error = pd.read_excel(data_path / 'LUC_uncertainty_AR6_reanalysis.xlsx', sheet_name='Fig2AB')"
   ]
  },
  {
   "cell_type": "code",
   "execution_count": 14,
   "id": "c40c8aef",
   "metadata": {},
   "outputs": [],
   "source": [
    "def add_eluc_history(error, ax=None):\n",
    "    if ax is None:\n",
    "        fig, ax = plt.subplots(figsize=(10, 6))\n",
    "    colors = {\n",
    "        'Model': '#a23247',\n",
    "        'NGHGI': '#628C79', \n",
    "    }\n",
    "    markers = {\n",
    "        '2002-2011': 's',\n",
    "        '2012-2021': 'o', \n",
    "        '2000-2020': 'd',\n",
    "    }\n",
    "    for i, row in error.iterrows():\n",
    "        label = ' '.join((row['label'], row['emissions'], row['period']))\n",
    "        ax.scatter(row['plot_year'], row['mean'], marker=markers[row['period']],  label=label, \n",
    "                   color=colors[row['emissions']], s=100, edgecolor='k', linewidths=2)\n",
    "        ax.errorbar(row['plot_year'], row['mean'], row['std'], color=colors[row['emissions']])\n",
    "    ax.legend()\n",
    "    return ax\n",
    "\n",
    "add_eluc_history(error)"
   ]
  },
  {
   "cell_type": "code",
   "execution_count": 15,
   "id": "17b458c7",
   "metadata": {
    "scrolled": true
   },
   "outputs": [],
   "source": [
    "cat = 'C1'\n",
    "\n",
    "variables = {\n",
    "    'AR6 Reanalysis|OSCARv3.2|Emissions|CO2|AFOLU|Direct': 'LULUCF Emissions - Model Reporting Convensions',\n",
    "    'AR6 Reanalysis|OSCARv3.2|Emissions|CO2|AFOLU': 'LULUCF Emissions - NGHGI Reporting Conventions', \n",
    "}\n",
    "fig, ax = plt.subplots(figsize=(9, 4))\n",
    "afolu_line_plot(data.rename(variable=variables), variables.values(), cat, years=range(1990, 2101), ax=ax)\n",
    "add_eluc_history(error, ax=ax)\n",
    "ax.axhline(0, c='k', alpha=0.25)\n",
    "ax.set_ylim([-8, 8])\n",
    "\n",
    "ax.set_title(f'Interquartile Range of LULUCF CO2 Emissions in {categories_to_temp[cat]} Pathways')\n",
    "ax.set_xlabel('')\n",
    "h, l = ax.get_legend_handles_labels()\n",
    "ax.legend(h[-7:], l[-7:], **pyam.plotting.OUTSIDE_LEGEND['right'])\n",
    "\n",
    "fig.savefig('./files/fig2a1.pdf', dpi=1200, bbox_inches='tight')"
   ]
  },
  {
   "cell_type": "code",
   "execution_count": 16,
   "id": "420be973",
   "metadata": {},
   "outputs": [],
   "source": [
    "cat = 'C3'\n",
    "\n",
    "variables = {\n",
    "    'AR6 Reanalysis|OSCARv3.2|Emissions|CO2|AFOLU|Direct': 'LULUCF Emissions - Model Reporting Convensions',\n",
    "    'AR6 Reanalysis|OSCARv3.2|Emissions|CO2|AFOLU': 'LULUCF Emissions - NGHGI Reporting Conventions', \n",
    "}\n",
    "fig, ax = plt.subplots(figsize=(9, 4))\n",
    "afolu_line_plot(data.rename(variable=variables), variables.values(), cat, years=range(1990, 2101), ax=ax)\n",
    "add_eluc_history(error, ax=ax)\n",
    "ax.axhline(0, c='k', alpha=0.25)\n",
    "ax.set_ylim([-8, 8])\n",
    "\n",
    "\n",
    "ax.set_title(f'Interquartile Range of LULUCF CO2 Emissions in {categories_to_temp[cat]} Pathways')\n",
    "ax.set_xlabel('')\n",
    "ax.legend().remove()\n",
    "\n",
    "fig.savefig('./files/fig2a2.pdf', dpi=1200, bbox_inches='tight')"
   ]
  },
  {
   "cell_type": "markdown",
   "id": "a0325455",
   "metadata": {},
   "source": [
    "# Panel 1B"
   ]
  },
  {
   "cell_type": "code",
   "execution_count": 17,
   "id": "23a107bb",
   "metadata": {},
   "outputs": [],
   "source": [
    "error = pd.read_excel(data_path / 'LUC_uncertainty_AR6_reanalysis.xlsx', sheet_name='Fig2C')\n",
    "error"
   ]
  },
  {
   "cell_type": "code",
   "execution_count": 18,
   "id": "89d135bd",
   "metadata": {},
   "outputs": [],
   "source": [
    "fig, ax = plt.subplots(figsize=(1.5, 8))\n",
    "markers = {\n",
    "    '2000-2020': 's',\n",
    "    '2000-2010': 'd',\n",
    "    '2005-2015': 'o', \n",
    "    '2010-2020': '*',\n",
    "}\n",
    "colors = {\n",
    "    'GCB (2022)': 'slategrey',\n",
    "    'Grassi (2021)': 'royalblue', \n",
    "    'Grassi (2023)': 'cornflowerblue',\n",
    "    'OSCAR (this study)': 'midnightblue',\n",
    "}\n",
    "for i, row in error.iterrows():\n",
    "    label = ' '.join((row['label'], row['period']))\n",
    "    ax.scatter(-1 + i, row['mean'], marker=markers[row['period']],  label=label, color=colors[row['label']], s=100)\n",
    "    ax.errorbar(-1 + i, row['mean'], row['std'], color=colors[row['label']])\n",
    "\n",
    "# set xticks\n",
    "ax.set_xlim((-2, 2))\n",
    "ax.set_xticks([])\n",
    "ax.set_xlabel('2000-2020')\n",
    "\n",
    "# conform with below plot\n",
    "ax.set_ylabel('Gt CO2/yr')\n",
    "plt.grid(axis='x', visible=False)\n",
    "\n",
    "## This block should be commented/uncommented to get adobe-ready versions\n",
    "#ax.legend(**pyam.plotting.OUTSIDE_LEGEND['right'])\n",
    "\n",
    "# harmonize ylim\n",
    "ax.set_ylim(-4.5, 9.5)\n",
    "\n",
    "fig.savefig('./files/fig2b1.pdf', bbox_inches='tight')"
   ]
  },
  {
   "cell_type": "code",
   "execution_count": 19,
   "id": "f790422e",
   "metadata": {},
   "outputs": [],
   "source": [
    "color_map = {\n",
    "    '1.5C': pyam.plotting.PYAM_COLORS[\"AR6-C1\"],\n",
    "    '1.5C-OS': pyam.plotting.PYAM_COLORS[\"AR6-C2\"],\n",
    "    '2C': pyam.plotting.PYAM_COLORS[\"AR6-C3\"],\n",
    "}\n",
    "pyam.run_control().update({'color': {'Temperature': color_map}})"
   ]
  },
  {
   "cell_type": "code",
   "execution_count": 20,
   "id": "ec43df37",
   "metadata": {},
   "outputs": [],
   "source": [
    "variables = [\n",
    "    'AR6 Reanalysis|OSCARv3.2|Emissions|CO2|AFOLU|Direct', \n",
    "    'AR6 Reanalysis|OSCARv3.2|Emissions|CO2|AFOLU', \n",
    "]\n",
    "name = 'NGHGI LULUCF Gap'\n",
    "fig, ax = plt.subplots(figsize=(2, 8))\n",
    "(\n",
    "    df\n",
    "    .filter(region='World', variable=variables)\n",
    "    .filter(Temperature=['1.5C', '2C'])\n",
    "    .filter(year=range(2025, 2101, 25))\n",
    "    .subtract(variables[0], variables[1], name=name, ignore_units='Mt CO2/yr')\n",
    "    .convert_unit('Mt CO2/yr', to='Gt CO2/yr', factor=1e-3)\n",
    "    .plot\n",
    "#    .box(color='thistle', by='Temperature', ax=ax, showfliers=False)\n",
    "    .box(by='Temperature', ax=ax, showfliers=False)\n",
    ")\n",
    "ax.set_xlabel('')\n",
    "\n",
    "## This block should be commented/uncommented to get adobe-ready versions\n",
    "#ax.set_title(name)\n",
    "ax.legend(**pyam.plotting.OUTSIDE_LEGEND['right'])\n",
    "#ax.legend().remove()\n",
    "\n",
    "# conform with previous plot\n",
    "ax.set_ylabel('')\n",
    "\n",
    "# harmonize ylim\n",
    "ax.set_ylim(-4.5, 9.5)\n",
    "\n",
    "fig.savefig('./files/fig2b2.pdf', bbox_inches='tight')"
   ]
  },
  {
   "cell_type": "code",
   "execution_count": 21,
   "id": "b9f2eb94",
   "metadata": {},
   "outputs": [],
   "source": [
    "variables = [\n",
    "    'AR6 Reanalysis|OSCARv3.2|Emissions|CO2|AFOLU|Direct', \n",
    "    'Emissions|CO2|AFOLU', \n",
    "]\n",
    "name = 'OSCAR LULUCF Gap'\n",
    "fig, ax = plt.subplots(figsize=(3, 9))\n",
    "(\n",
    "    df\n",
    "    .filter(region='World', variable=variables)\n",
    "    .filter(Temperature=categories_to_temp.values())\n",
    "    .filter(year=range(2025, 2101, 25))\n",
    "    .subtract(variables[0], variables[1], name=name, ignore_units='Mt CO2/yr')\n",
    "    .convert_unit('Mt CO2/yr', to='Gt CO2/yr', factor=1e-3)\n",
    "    .plot\n",
    "    .box(color='thistle', by='Temperature', ax=ax, showfliers=False)\n",
    ")\n",
    "ax.set_title(name)\n",
    "ax.set_ylim(None, 6)\n",
    "ax.set_xlabel('')"
   ]
  },
  {
   "cell_type": "markdown",
   "id": "2dcb0a3c",
   "metadata": {},
   "source": [
    "# SI Table of Indirect Flux"
   ]
  },
  {
   "cell_type": "code",
   "execution_count": 22,
   "id": "cdd2112b",
   "metadata": {},
   "outputs": [],
   "source": [
    "def data_range(df, region, category, year, variable='AR6 Reanalysis|OSCARv3.2|Emissions|CO2|AFOLU|Indirect'):\n",
    "    category_kwarg = {'Category': category} if category.startswith('C') else {'Policy_category_name': category}\n",
    "    data = (\n",
    "        df\n",
    "        .filter(region=region, variable=variable, year=year)\n",
    "        .filter(**category_kwarg)\n",
    "        .convert_unit('Mt CO2/yr', to='Gt CO2/yr', factor=1e-3)\n",
    "        .compute.quantiles([0.25, 0.5, 0.75])\n",
    "        ['value']\n",
    "    )\n",
    "    return data[1], data[0], data[2] # 0.5, 0.25, 0.75\n",
    "\n",
    "regions = df.region\n",
    "years = [2025, 2050, 2075, 2100]\n",
    "categories = ['C1', 'C2', 'C3']\n",
    "\n",
    "idx = pd.MultiIndex.from_product([regions, categories, years], names=[\"Region\", \"Category\",  \"Year\"])\n",
    "table = (\n",
    "    pd.Series([\n",
    "        '{:.2f} [{:.2f}, {:.2f}]'.format(*data_range(df, region, category, year)) for region, category, year in idx\n",
    "    ], index=idx)\n",
    "    .unstack(level=['Category', 'Year'])\n",
    ")\n",
    "table.head()"
   ]
  },
  {
   "cell_type": "code",
   "execution_count": 23,
   "id": "025bed6d",
   "metadata": {},
   "outputs": [],
   "source": [
    "table.T.to_excel('./files/indirect_flux_values_test.xlsx', index=True)"
   ]
  },
  {
   "cell_type": "markdown",
   "id": "698b8f56",
   "metadata": {},
   "source": [
    "# Table of median removals and emissions"
   ]
  },
  {
   "cell_type": "code",
   "execution_count": 24,
   "id": "1d430d07",
   "metadata": {},
   "outputs": [],
   "source": [
    "categories = ['C1', 'P1b: Current policies']\n",
    "regions = ['World']\n",
    "years = [2050]\n",
    "idx = pd.MultiIndex.from_product([regions, categories, years], names=[\"Region\", \"Category\",  \"Year\"])"
   ]
  },
  {
   "cell_type": "code",
   "execution_count": 25,
   "id": "ad92aa5e",
   "metadata": {},
   "outputs": [],
   "source": [
    "variables = [\n",
    "    'AR6 Reanalysis|OSCARv3.2|Carbon Removal|Land|Direct',\n",
    "    'AR6 Reanalysis|OSCARv3.2|Carbon Removal|Land|Indirect',\n",
    "    'AR6 Reanalysis|OSCARv3.2|Emissions|CO2|AFOLU|Direct',\n",
    "    'AR6 Reanalysis|OSCARv3.2|Emissions|CO2|AFOLU|Indirect',\n",
    "]\n",
    "for variable in variables:\n",
    "    table = (\n",
    "        pd.Series([\n",
    "            '{:.2f} [{:.2f}, {:.2f}]'.format(*data_range(df, region, category, year, variable=variable)) for region, category, year in idx\n",
    "        ], index=idx)\n",
    "        .unstack(level=['Category', 'Year'])\n",
    "    )\n",
    "    print(variable)\n",
    "    print(table)"
   ]
  }
 ],
 "metadata": {
  "kernelspec": {
   "display_name": "Python 3 (ipykernel)",
   "language": "python",
   "name": "python3"
  },
  "language_info": {
   "codemirror_mode": {
    "name": "ipython",
    "version": 3
   },
   "file_extension": ".py",
   "mimetype": "text/x-python",
   "name": "python",
   "nbconvert_exporter": "python",
   "pygments_lexer": "ipython3",
   "version": "3.11.4"
  }
 },
 "nbformat": 4,
 "nbformat_minor": 5
}
