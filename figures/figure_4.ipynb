{
 "cells": [
  {
   "cell_type": "code",
   "execution_count": 66,
   "id": "94327b71",
   "metadata": {},
   "outputs": [],
   "source": [
    "import itertools\n",
    "import pathlib\n",
    "import pyam\n",
    "\n",
    "import numpy as np\n",
    "import pandas as pd\n",
    "import seaborn as sns\n",
    "import matplotlib.pyplot as plt\n",
    "\n",
    "# these functions can be found in utils.py in this same directory\n",
    "from utils import (\n",
    "    make_quantiles,\n",
    "    make_sequestration_plot_data,\n",
    "    sequestration_plot,\n",
    "    share_of_cdr_data,\n",
    ")\n",
    "\n",
    "sns.set_style('whitegrid')"
   ]
  },
  {
   "cell_type": "code",
   "execution_count": 67,
   "id": "e0f6488c",
   "metadata": {},
   "outputs": [],
   "source": [
    "color_map = {\n",
    "    '1.5C': 'AR6-C1',\n",
    "    '2C': 'AR6-C3',\n",
    "    'Current Policies': 'AR6-IP-CurPol',\n",
    "}\n",
    "pyam.run_control().update({'color': {'model': color_map}})"
   ]
  },
  {
   "cell_type": "markdown",
   "id": "e62f4692",
   "metadata": {},
   "source": [
    "# Load Data"
   ]
  },
  {
   "cell_type": "code",
   "execution_count": 68,
   "id": "ff6c778b",
   "metadata": {},
   "outputs": [],
   "source": [
    "data_path = pathlib.Path('../data')"
   ]
  },
  {
   "cell_type": "code",
   "execution_count": 69,
   "id": "ee80e124",
   "metadata": {},
   "outputs": [],
   "source": [
    "df = pyam.IamDataFrame(pd.concat([\n",
    "    pd.read_csv(data_path / 'gidden_et_al_2022_ar6_reanalysis_data.csv'),\n",
    "    pd.read_csv(data_path / 'additional_analysis_data.csv'),\n",
    "]))"
   ]
  },
  {
   "cell_type": "code",
   "execution_count": 70,
   "id": "c6b5a553",
   "metadata": {},
   "outputs": [
    {
     "name": "stderr",
     "output_type": "stream",
     "text": [
      "pyam.core - INFO: Reading meta indicators for 914 out of 1871 scenarios\n"
     ]
    }
   ],
   "source": [
    "df.load_meta(data_path / 'gidden_et_al_2022_ar6_reanalysis_meta.csv')"
   ]
  },
  {
   "cell_type": "raw",
   "id": "e59da4ba",
   "metadata": {},
   "source": [
    "categories_to_temp = {'C1': '1.5C', 'C3': '2C'}\n",
    "df.meta['Temperature'] = df.meta['Category'].replace(categories_to_temp)"
   ]
  },
  {
   "cell_type": "code",
   "execution_count": 71,
   "id": "a679ce13",
   "metadata": {},
   "outputs": [],
   "source": [
    "categories_to_temp = {'C1': '1.5C', 'C3': '2C', 'Current Policies': 'Current Policies'}\n",
    "df.meta['Temperature'] = df.meta['Category'].replace(categories_to_temp)\n",
    "df.set_meta(\n",
    "    'Current Policies', name='Temperature',\n",
    "    index=df.meta.query(\"Policy_category_name == 'P1b: Current policies'\").index\n",
    ")"
   ]
  },
  {
   "cell_type": "markdown",
   "id": "5dd175eb",
   "metadata": {},
   "source": [
    "# CDR Bar Chart"
   ]
  },
  {
   "cell_type": "code",
   "execution_count": 72,
   "id": "aa1be2c7",
   "metadata": {},
   "outputs": [],
   "source": [
    "variables = {\n",
    "    'AR6 Reanalysis|OSCARv3.2|Carbon Removal': 'Total CDR', \n",
    "    'AR6 Reanalysis|OSCARv3.2|Carbon Removal|Land': 'Land CDR',\n",
    "    'AR6 Reanalysis|OSCARv3.2|Carbon Removal|Non-Land': 'Non-Land CDR',\n",
    "}\n",
    "hist = [2015, 2020]\n",
    "hist = [2020]\n",
    "future = [2030, 2050]\n",
    "future = [2030, 2050, 2100]\n",
    "data, pdata = make_sequestration_plot_data(\n",
    "    df.filter(variable=variables.keys(), region='World').rename({'variable': variables}), \n",
    "    variables.values(), \n",
    "    {'C1': '1.5C', 'C3': '2C'}, years=hist + future\n",
    ")\n",
    "for year in hist:\n",
    "    pdata = pdata.drop(f'{year} 1.5C').rename(index={f'{year} 2C': str(year)})"
   ]
  },
  {
   "cell_type": "code",
   "execution_count": 73,
   "id": "fc73c330",
   "metadata": {},
   "outputs": [
    {
     "data": {
      "image/png": "[encoded data removed]",
      "text/plain": [
       "<Figure size 540x324 with 1 Axes>"
      ]
     },
     "metadata": {},
     "output_type": "display_data"
    }
   ],
   "source": [
    "color = {\n",
    "    'Land CDR': '#a3176d',\n",
    "    'Non-Land CDR': 'sienna',\n",
    "    'Total CDR': 'darkslategrey',\n",
    "}\n",
    "size = 3\n",
    "fig, ax = plt.subplots(figsize=(2.5 * size, 1.5 * size))\n",
    "sequestration_plot(\n",
    "    pdata, \n",
    "    medians=False, stacked=False, order=variables.values(), color=color,\n",
    "    legend={'loc': 'best'}, ax=ax,\n",
    ")\n",
    "ax.set_title('Carbon Removal Levels')\n",
    "ax.set_xlabel('Gt CO2/yr') \n",
    "ax.set_ylabel('')\n",
    "\n",
    "fig.savefig('./files/fig4a.pdf', bbox_inches='tight')"
   ]
  },
  {
   "cell_type": "markdown",
   "id": "59b62a47",
   "metadata": {},
   "source": [
    "# Share of CDR"
   ]
  },
  {
   "cell_type": "code",
   "execution_count": 74,
   "id": "dd7931d9",
   "metadata": {},
   "outputs": [
    {
     "data": {
      "text/html": [
       "<div>\n",
       "<style scoped>\n",
       "    .dataframe tbody tr th:only-of-type {\n",
       "        vertical-align: middle;\n",
       "    }\n",
       "\n",
       "    .dataframe tbody tr th {\n",
       "        vertical-align: top;\n",
       "    }\n",
       "\n",
       "    .dataframe thead th {\n",
       "        text-align: right;\n",
       "    }\n",
       "</style>\n",
       "<table border=\"1\" class=\"dataframe\">\n",
       "  <thead>\n",
       "    <tr style=\"text-align: right;\">\n",
       "      <th></th>\n",
       "      <th></th>\n",
       "      <th></th>\n",
       "      <th></th>\n",
       "      <th></th>\n",
       "      <th>2020</th>\n",
       "      <th>2030</th>\n",
       "      <th>2040</th>\n",
       "      <th>2050</th>\n",
       "      <th>2060</th>\n",
       "      <th>2070</th>\n",
       "      <th>2080</th>\n",
       "      <th>2090</th>\n",
       "      <th>2100</th>\n",
       "    </tr>\n",
       "    <tr>\n",
       "      <th>model</th>\n",
       "      <th>scenario</th>\n",
       "      <th>region</th>\n",
       "      <th>variable</th>\n",
       "      <th>unit</th>\n",
       "      <th></th>\n",
       "      <th></th>\n",
       "      <th></th>\n",
       "      <th></th>\n",
       "      <th></th>\n",
       "      <th></th>\n",
       "      <th></th>\n",
       "      <th></th>\n",
       "      <th></th>\n",
       "    </tr>\n",
       "  </thead>\n",
       "  <tbody>\n",
       "    <tr>\n",
       "      <th rowspan=\"5\" valign=\"top\">1.5C</th>\n",
       "      <th>0.1</th>\n",
       "      <th>World</th>\n",
       "      <th>Land Share of Total CDR</th>\n",
       "      <th>fraction</th>\n",
       "      <td>1.0</td>\n",
       "      <td>0.84</td>\n",
       "      <td>0.50</td>\n",
       "      <td>0.25</td>\n",
       "      <td>0.17</td>\n",
       "      <td>0.10</td>\n",
       "      <td>0.06</td>\n",
       "      <td>0.04</td>\n",
       "      <td>-0.00</td>\n",
       "    </tr>\n",
       "    <tr>\n",
       "      <th>0.25</th>\n",
       "      <th>World</th>\n",
       "      <th>Land Share of Total CDR</th>\n",
       "      <th>fraction</th>\n",
       "      <td>1.0</td>\n",
       "      <td>0.92</td>\n",
       "      <td>0.69</td>\n",
       "      <td>0.49</td>\n",
       "      <td>0.34</td>\n",
       "      <td>0.25</td>\n",
       "      <td>0.19</td>\n",
       "      <td>0.11</td>\n",
       "      <td>0.06</td>\n",
       "    </tr>\n",
       "    <tr>\n",
       "      <th>0.5</th>\n",
       "      <th>World</th>\n",
       "      <th>Land Share of Total CDR</th>\n",
       "      <th>fraction</th>\n",
       "      <td>1.0</td>\n",
       "      <td>0.96</td>\n",
       "      <td>0.82</td>\n",
       "      <td>0.65</td>\n",
       "      <td>0.53</td>\n",
       "      <td>0.39</td>\n",
       "      <td>0.31</td>\n",
       "      <td>0.24</td>\n",
       "      <td>0.19</td>\n",
       "    </tr>\n",
       "    <tr>\n",
       "      <th>0.75</th>\n",
       "      <th>World</th>\n",
       "      <th>Land Share of Total CDR</th>\n",
       "      <th>fraction</th>\n",
       "      <td>1.0</td>\n",
       "      <td>0.99</td>\n",
       "      <td>0.93</td>\n",
       "      <td>0.79</td>\n",
       "      <td>0.66</td>\n",
       "      <td>0.53</td>\n",
       "      <td>0.44</td>\n",
       "      <td>0.38</td>\n",
       "      <td>0.36</td>\n",
       "    </tr>\n",
       "    <tr>\n",
       "      <th>0.9</th>\n",
       "      <th>World</th>\n",
       "      <th>Land Share of Total CDR</th>\n",
       "      <th>fraction</th>\n",
       "      <td>1.0</td>\n",
       "      <td>0.99</td>\n",
       "      <td>0.96</td>\n",
       "      <td>0.87</td>\n",
       "      <td>0.73</td>\n",
       "      <td>0.65</td>\n",
       "      <td>0.64</td>\n",
       "      <td>0.63</td>\n",
       "      <td>0.66</td>\n",
       "    </tr>\n",
       "    <tr>\n",
       "      <th rowspan=\"5\" valign=\"top\">2C</th>\n",
       "      <th>0.1</th>\n",
       "      <th>World</th>\n",
       "      <th>Land Share of Total CDR</th>\n",
       "      <th>fraction</th>\n",
       "      <td>1.0</td>\n",
       "      <td>0.94</td>\n",
       "      <td>0.65</td>\n",
       "      <td>0.39</td>\n",
       "      <td>0.24</td>\n",
       "      <td>0.18</td>\n",
       "      <td>0.10</td>\n",
       "      <td>0.06</td>\n",
       "      <td>0.03</td>\n",
       "    </tr>\n",
       "    <tr>\n",
       "      <th>0.25</th>\n",
       "      <th>World</th>\n",
       "      <th>Land Share of Total CDR</th>\n",
       "      <th>fraction</th>\n",
       "      <td>1.0</td>\n",
       "      <td>0.98</td>\n",
       "      <td>0.83</td>\n",
       "      <td>0.56</td>\n",
       "      <td>0.36</td>\n",
       "      <td>0.27</td>\n",
       "      <td>0.21</td>\n",
       "      <td>0.18</td>\n",
       "      <td>0.14</td>\n",
       "    </tr>\n",
       "    <tr>\n",
       "      <th>0.5</th>\n",
       "      <th>World</th>\n",
       "      <th>Land Share of Total CDR</th>\n",
       "      <th>fraction</th>\n",
       "      <td>1.0</td>\n",
       "      <td>0.99</td>\n",
       "      <td>0.93</td>\n",
       "      <td>0.77</td>\n",
       "      <td>0.60</td>\n",
       "      <td>0.44</td>\n",
       "      <td>0.33</td>\n",
       "      <td>0.26</td>\n",
       "      <td>0.20</td>\n",
       "    </tr>\n",
       "    <tr>\n",
       "      <th>0.75</th>\n",
       "      <th>World</th>\n",
       "      <th>Land Share of Total CDR</th>\n",
       "      <th>fraction</th>\n",
       "      <td>1.0</td>\n",
       "      <td>1.00</td>\n",
       "      <td>0.97</td>\n",
       "      <td>0.90</td>\n",
       "      <td>0.76</td>\n",
       "      <td>0.59</td>\n",
       "      <td>0.45</td>\n",
       "      <td>0.35</td>\n",
       "      <td>0.29</td>\n",
       "    </tr>\n",
       "    <tr>\n",
       "      <th>0.9</th>\n",
       "      <th>World</th>\n",
       "      <th>Land Share of Total CDR</th>\n",
       "      <th>fraction</th>\n",
       "      <td>1.0</td>\n",
       "      <td>1.00</td>\n",
       "      <td>0.98</td>\n",
       "      <td>0.94</td>\n",
       "      <td>0.83</td>\n",
       "      <td>0.65</td>\n",
       "      <td>0.51</td>\n",
       "      <td>0.44</td>\n",
       "      <td>0.40</td>\n",
       "    </tr>\n",
       "  </tbody>\n",
       "</table>\n",
       "</div>"
      ],
      "text/plain": [
       "                                                        2020  2030  2040  \\\n",
       "model scenario region variable                unit                         \n",
       "1.5C  0.1      World  Land Share of Total CDR fraction   1.0  0.84  0.50   \n",
       "      0.25     World  Land Share of Total CDR fraction   1.0  0.92  0.69   \n",
       "      0.5      World  Land Share of Total CDR fraction   1.0  0.96  0.82   \n",
       "      0.75     World  Land Share of Total CDR fraction   1.0  0.99  0.93   \n",
       "      0.9      World  Land Share of Total CDR fraction   1.0  0.99  0.96   \n",
       "2C    0.1      World  Land Share of Total CDR fraction   1.0  0.94  0.65   \n",
       "      0.25     World  Land Share of Total CDR fraction   1.0  0.98  0.83   \n",
       "      0.5      World  Land Share of Total CDR fraction   1.0  0.99  0.93   \n",
       "      0.75     World  Land Share of Total CDR fraction   1.0  1.00  0.97   \n",
       "      0.9      World  Land Share of Total CDR fraction   1.0  1.00  0.98   \n",
       "\n",
       "                                                        2050  2060  2070  \\\n",
       "model scenario region variable                unit                         \n",
       "1.5C  0.1      World  Land Share of Total CDR fraction  0.25  0.17  0.10   \n",
       "      0.25     World  Land Share of Total CDR fraction  0.49  0.34  0.25   \n",
       "      0.5      World  Land Share of Total CDR fraction  0.65  0.53  0.39   \n",
       "      0.75     World  Land Share of Total CDR fraction  0.79  0.66  0.53   \n",
       "      0.9      World  Land Share of Total CDR fraction  0.87  0.73  0.65   \n",
       "2C    0.1      World  Land Share of Total CDR fraction  0.39  0.24  0.18   \n",
       "      0.25     World  Land Share of Total CDR fraction  0.56  0.36  0.27   \n",
       "      0.5      World  Land Share of Total CDR fraction  0.77  0.60  0.44   \n",
       "      0.75     World  Land Share of Total CDR fraction  0.90  0.76  0.59   \n",
       "      0.9      World  Land Share of Total CDR fraction  0.94  0.83  0.65   \n",
       "\n",
       "                                                        2080  2090  2100  \n",
       "model scenario region variable                unit                        \n",
       "1.5C  0.1      World  Land Share of Total CDR fraction  0.06  0.04 -0.00  \n",
       "      0.25     World  Land Share of Total CDR fraction  0.19  0.11  0.06  \n",
       "      0.5      World  Land Share of Total CDR fraction  0.31  0.24  0.19  \n",
       "      0.75     World  Land Share of Total CDR fraction  0.44  0.38  0.36  \n",
       "      0.9      World  Land Share of Total CDR fraction  0.64  0.63  0.66  \n",
       "2C    0.1      World  Land Share of Total CDR fraction  0.10  0.06  0.03  \n",
       "      0.25     World  Land Share of Total CDR fraction  0.21  0.18  0.14  \n",
       "      0.5      World  Land Share of Total CDR fraction  0.33  0.26  0.20  \n",
       "      0.75     World  Land Share of Total CDR fraction  0.45  0.35  0.29  \n",
       "      0.9      World  Land Share of Total CDR fraction  0.51  0.44  0.40  "
      ]
     },
     "execution_count": 74,
     "metadata": {},
     "output_type": "execute_result"
    }
   ],
   "source": [
    "# fraction of total cdr\n",
    "total_share = share_of_cdr_data(df, {'C1': '1.5C', 'C3': '2C'}, quantiles=(0.1, 0.25, 0.5, 0.75, 0.9))\n",
    "total_share.round(decimals=2)"
   ]
  },
  {
   "cell_type": "code",
   "execution_count": 76,
   "id": "8a34ff5b",
   "metadata": {},
   "outputs": [
    {
     "name": "stderr",
     "output_type": "stream",
     "text": [
      "c:\\users\\gidden\\onedrive - iiasa\\work\\iiasa\\pyam\\pyam\\plotting.py:1073: FutureWarning: iteritems is deprecated and will be removed in a future version. Use .items instead.\n",
      "  for col, data in df.iteritems():\n",
      "c:\\users\\gidden\\onedrive - iiasa\\work\\iiasa\\pyam\\pyam\\plotting.py:1073: FutureWarning: iteritems is deprecated and will be removed in a future version. Use .items instead.\n",
      "  for col, data in df.iteritems():\n"
     ]
    },
    {
     "data": {
      "image/png": "[encoded data removed]",
      "text/plain": [
       "<Figure size 432x288 with 1 Axes>"
      ]
     },
     "metadata": {},
     "output_type": "display_data"
    }
   ],
   "source": [
    "fig, ax = plt.subplots()\n",
    "data = pyam.IamDataFrame(total_share.round(decimals=2))\n",
    "(\n",
    "        data\n",
    "        .filter(scenario='*0.5*')\n",
    "        .plot\n",
    "        .line(color='model', ax=ax, legend=True)\n",
    ")\n",
    "(\n",
    "        data\n",
    "        .filter(scenario=['*0.25*', '*0.75*'], keep=False)\n",
    "        .plot\n",
    "        .line(color='model', fill_between=True, ax=ax, alpha=0.1)\n",
    ")\n",
    "ax.set_title('Share of Total Annual CDR from Land')\n",
    "ax.set_ylabel('Fraction of Total CDR')\n",
    "ax.set_xlabel('')\n",
    "\n",
    "fig.savefig('./files/fig4b.pdf', bbox_inches='tight')"
   ]
  },
  {
   "cell_type": "markdown",
   "id": "ea36916f",
   "metadata": {},
   "source": [
    "# Bar Plots of Removals\n",
    "\n",
    "## Make Data"
   ]
  },
  {
   "cell_type": "code",
   "execution_count": 77,
   "id": "5d23df4b",
   "metadata": {},
   "outputs": [
    {
     "data": {
      "text/plain": [
       "array(['C7', 'C6', 'C5'], dtype=object)"
      ]
     },
     "execution_count": 77,
     "metadata": {},
     "output_type": "execute_result"
    }
   ],
   "source": [
    "# Confirm there are no C1-C3 in current policies\n",
    "meta = df.meta.copy()\n",
    "meta.query(\"Policy_category_name == 'P1b: Current policies'\").Category.unique()"
   ]
  },
  {
   "cell_type": "code",
   "execution_count": 78,
   "id": "ceaa60b1",
   "metadata": {},
   "outputs": [],
   "source": [
    "variable_rename = {\n",
    "    'AR6 Reanalysis|OSCARv3.2|Carbon Removal|Land': 'Total',\n",
    "    'AR6 Reanalysis|OSCARv3.2|Carbon Removal|Land|Direct': 'Direct',\n",
    "    'AR6 Reanalysis|OSCARv3.2|Carbon Removal|Land|Indirect': 'Indirect',\n",
    "}\n",
    "variables = list(variable_rename.values())\n",
    "data = df.rename(variable=variable_rename).filter(region='World', variable=variables, year=[2020, 2030, 2050])"
   ]
  },
  {
   "cell_type": "code",
   "execution_count": 79,
   "id": "44b0dacd",
   "metadata": {},
   "outputs": [],
   "source": [
    "data = data.offset(year=2020).filter(year=2020, keep=False)"
   ]
  },
  {
   "cell_type": "code",
   "execution_count": 80,
   "id": "5906c925",
   "metadata": {},
   "outputs": [],
   "source": [
    "def make_removal_plot_data(df, variables, temps, years=[2030, 2050]):\n",
    "    # pyam version of quantile data\n",
    "    data = pyam.concat([\n",
    "        (\n",
    "            df\n",
    "            .filter(region='World', variable=variable)\n",
    "            .filter(Temperature=temp)\n",
    "            .compute.quantiles((0.25, 0.5, 0.75))\n",
    "            .rename(model={'Quantiles': temp})\n",
    "        ) for temp, variable in itertools.product(temps, variables)\n",
    "    ])\n",
    "    \n",
    "    # data ready for plotting\n",
    "    pdata = (\n",
    "        data\n",
    "        .filter(year=years)\n",
    "        .as_pandas(meta_cols=False)\n",
    "        .drop(columns=['region', 'unit'])\n",
    "        .set_index(['year', 'model', 'scenario', 'variable'])\n",
    "        ['value']\n",
    "        .unstack(['scenario', 'variable'])\n",
    "        / 1e3\n",
    "    )\n",
    "    pdata = pdata.reindex(index=pdata.index[::-1]) # reverse ordering so plots are in correct order\n",
    "    return data, pdata\n",
    "\n"
   ]
  },
  {
   "cell_type": "markdown",
   "id": "d1dd6f42",
   "metadata": {},
   "source": [
    "## Make Plots"
   ]
  },
  {
   "cell_type": "code",
   "execution_count": 81,
   "id": "ba0ae313",
   "metadata": {},
   "outputs": [],
   "source": [
    "order = ['1.5C', '2C', 'Current Policies']\n",
    "\n",
    "color_removals = {\n",
    "    'Direct': '#33701a',\n",
    "    'Indirect': 'indigo',\n",
    "    'Total': '#a3176d',\n",
    "}"
   ]
  },
  {
   "cell_type": "code",
   "execution_count": 175,
   "id": "dd1d0622",
   "metadata": {},
   "outputs": [],
   "source": [
    "\n",
    "from matplotlib.transforms import Affine2D\n",
    "\n",
    "def removal_plot(\n",
    "    pdata, order=None, hlines=True, stacked=True, \n",
    "    climate_error=None,\n",
    "    cmap='PiYG', ax=None, legend=pyam.plotting.OUTSIDE_LEGEND['bottom']\n",
    "):\n",
    "    if ax is None:\n",
    "        fig, ax = plt.subplots(figsize=(7, 5))\n",
    "    \n",
    "    if order:\n",
    "        pdata = pdata.loc[order]    \n",
    "    base, mins, maxs = pdata['0.5'], pdata['0.25'], pdata['0.75']\n",
    "    errors = [[base[c] - mins[c], maxs[c] - base[c]] for c in base.columns]\n",
    "    \n",
    "    trans1 = Affine2D().translate(-0.025, 0.0) + ax.transData\n",
    "    trans2 = Affine2D().translate(+0.025, 0.0) + ax.transData\n",
    "    \n",
    "    if hlines:\n",
    "        for (idx, hline) in base['Total'].items():\n",
    "            ax.axhline(hline, c=pyam.plotting.PYAM_COLORS[color_map[idx]], label=idx, ls='--', alpha=0.75)   \n",
    "    \n",
    "    error_kw = dict(ecolor=\"k\", transform=trans1, alpha=0.75, label='Scenario Uncertainty') if climate_error is not None else {}\n",
    "    base.plot.bar(\n",
    "        yerr=errors, capsize=4, rot=0, stacked=stacked, ax=ax, \n",
    "        color=color_removals, alpha=0.7, legend=False,\n",
    "        error_kw=error_kw,\n",
    "    )\n",
    "\n",
    "\n",
    "    \n",
    "    if climate_error is not None:\n",
    "        if order:\n",
    "            climate_error = climate_error.loc[order]\n",
    "        base, cmins, cmaxs = pdata['0.5'], climate_error[0.25], climate_error[0.75]\n",
    "        cerrors = [[base[c] - cmins[c], cmaxs[c] - base[c]] for c in base.columns]\n",
    "        base.plot.bar(\n",
    "            yerr=cerrors, capsize=4, rot=0, stacked=stacked, ax=ax, \n",
    "            color=color_removals, alpha=0.0, legend=False, \n",
    "            error_kw=dict(ecolor=\"darkgrey\", transform=trans2, label='Climate Model Uncertainty'),\n",
    "        )\n",
    "    \n",
    "    if legend:\n",
    "        ax.legend(**legend)\n",
    "    return ax"
   ]
  },
  {
   "cell_type": "code",
   "execution_count": 176,
   "id": "ffa12469",
   "metadata": {},
   "outputs": [],
   "source": [
    "def make_error(fig_name):\n",
    "    import scipy.stats as sps\n",
    "\n",
    "    error = pd.read_excel(data_path / 'LUC_uncertainty_AR6_reanalysis.xlsx', sheet_name=fig_name)\n",
    "\n",
    "    for pct in [0.25, 0.75]:\n",
    "        error[pct] = error.apply(lambda row: sps.norm(loc=row['mean'], scale=row['std']).ppf(pct), axis=1)\n",
    "\n",
    "    climate_error = error.rename(columns={'Category': 'model'}).set_index(['model', 'Type']).unstack('Type')\n",
    "    \n",
    "    return climate_error"
   ]
  },
  {
   "cell_type": "code",
   "execution_count": 177,
   "id": "1e189322",
   "metadata": {},
   "outputs": [],
   "source": [
    "_data, pdata = make_removal_plot_data(data, variables, list(categories_to_temp.values()), years=[2030, 2050])\n"
   ]
  },
  {
   "cell_type": "code",
   "execution_count": 178,
   "id": "dd661d9d",
   "metadata": {},
   "outputs": [
    {
     "data": {
      "image/png": "[encoded data removed]",
      "text/plain": [
       "<Figure size 288x360 with 1 Axes>"
      ]
     },
     "metadata": {},
     "output_type": "display_data"
    }
   ],
   "source": [
    "year = 2030\n",
    "climate_error = make_error('Fig4C')\n",
    "size = 4\n",
    "fig, ax = plt.subplots(figsize=(1 * size, 1.25 * size))\n",
    "legend = False\n",
    "removal_plot(\n",
    "    pdata.loc[year], stacked=False, hlines=True, \n",
    "    climate_error=climate_error, \n",
    "    ax=ax, order=order, legend=legend\n",
    ")\n",
    "ax.set_title(f'Additional Carbon Removal 2020-{year}')\n",
    "ax.set_ylabel('Gt CO2 per year') \n",
    "ax.set_xlabel('')\n",
    "ax.set_ylim(-2.5, 4.5)\n",
    "\n",
    "fig.savefig('./files/fig4c.pdf', bbox_inches='tight')"
   ]
  },
  {
   "cell_type": "code",
   "execution_count": 183,
   "id": "be2ac721",
   "metadata": {},
   "outputs": [],
   "source": [
    "def construct_wonky_legend(ax, idxs, legend):\n",
    "    h, l = ax.get_legend_handles_labels()\n",
    "    handles = [h[i] for i in idxs]\n",
    "    labels = [l[i] for i in idxs]\n",
    "    ax.legend(handles, labels, **legend)"
   ]
  },
  {
   "cell_type": "code",
   "execution_count": 184,
   "id": "88f708fe",
   "metadata": {},
   "outputs": [
    {
     "data": {
      "image/png": "[encoded data removed]",
      "text/plain": [
       "<Figure size 288x360 with 1 Axes>"
      ]
     },
     "metadata": {},
     "output_type": "display_data"
    }
   ],
   "source": [
    "year = 2050\n",
    "climate_error = make_error('Fig4D')\n",
    "\n",
    "size = 4\n",
    "fig, ax = plt.subplots(figsize=(1 * size, 1.25 * size))\n",
    "legend = pyam.plotting.OUTSIDE_LEGEND['right'].copy()\n",
    "legend.update(ncol=1)\n",
    "removal_plot(\n",
    "    pdata.loc[year], stacked=False, hlines=True, \n",
    "    climate_error=climate_error, \n",
    "    ax=ax, order=order, legend=legend\n",
    ")\n",
    "ax.set_title(f'Additional Carbon Removal 2020-{year}')\n",
    "ax.set_xlabel('')\n",
    "ax.set_ylim(-2.5, 4.5)\n",
    "\n",
    "## This block should be commented/uncommented to get adobe-ready versions\n",
    "idxs = [0, 1, 2, 4, 6, 8, 3, 9]\n",
    "construct_wonky_legend(ax, idxs, legend)\n",
    "\n",
    "fig.savefig('./files/fig4d.pdf', bbox_inches='tight')"
   ]
  },
  {
   "cell_type": "markdown",
   "id": "8e88da7a",
   "metadata": {},
   "source": [
    "# SI Plots\n",
    "\n",
    "## Removal levels by land"
   ]
  },
  {
   "cell_type": "code",
   "execution_count": 24,
   "id": "f7f11de9",
   "metadata": {},
   "outputs": [],
   "source": [
    "variables = {\n",
    "    'AR6 Reanalysis|OSCARv3.2|Carbon Removal|Land|Direct': 'Direct Land CDR',\n",
    "    'AR6 Reanalysis|OSCARv3.2|Carbon Removal|Land|Indirect': 'Indirect Land CDR',\n",
    "}\n",
    "hist = [2015, 2020]\n",
    "hist = [2020]\n",
    "future = [2030, 2050]\n",
    "future = [2030, 2050, 2100]\n",
    "data, pdata = make_sequestration_plot_data(\n",
    "    df.filter(variable=variables.keys(), region='World').rename({'variable': variables}), \n",
    "    variables.values(), \n",
    "    {'C1': '1.5C', 'C3': '2C'}, years=hist + future\n",
    ")\n",
    "for year in hist:\n",
    "    pdata = pdata.drop(f'{year} 1.5C').rename(index={f'{year} 2C': str(year)})"
   ]
  },
  {
   "cell_type": "code",
   "execution_count": 25,
   "id": "73670b43",
   "metadata": {},
   "outputs": [
    {
     "data": {
      "text/plain": [
       "Text(0, 0.5, '')"
      ]
     },
     "execution_count": 25,
     "metadata": {},
     "output_type": "execute_result"
    },
    {
     "data": {
      "image/png": "[encoded data removed]",
      "text/plain": [
       "<Figure size 720x432 with 1 Axes>"
      ]
     },
     "metadata": {
      "needs_background": "light"
     },
     "output_type": "display_data"
    }
   ],
   "source": [
    "size = 4\n",
    "fig, ax = plt.subplots(figsize=(2.5 * size, 1.5 * size))\n",
    "sequestration_plot(\n",
    "    pdata, \n",
    "    medians=False, stacked=False, order=variables.values(), \n",
    "    color={'Direct Land CDR': '#33701a', 'Indirect Land CDR': 'indigo'},\n",
    "    legend={'loc': 'best'}, ax=ax,\n",
    ")\n",
    "ax.set_title('Carbon Removal Levels')\n",
    "ax.set_xlabel('Gt CO2 per year') \n",
    "ax.set_ylabel('')\n",
    "#ax.set_xlim(0, 18)\n",
    "#ax.legend(**pyam.plotting.OUTSIDE_LEGEND['bottom'])"
   ]
  },
  {
   "cell_type": "code",
   "execution_count": 26,
   "id": "9ba55b30",
   "metadata": {},
   "outputs": [
    {
     "data": {
      "text/html": [
       "<div>\n",
       "<style scoped>\n",
       "    .dataframe tbody tr th:only-of-type {\n",
       "        vertical-align: middle;\n",
       "    }\n",
       "\n",
       "    .dataframe tbody tr th {\n",
       "        vertical-align: top;\n",
       "    }\n",
       "\n",
       "    .dataframe thead tr th {\n",
       "        text-align: left;\n",
       "    }\n",
       "\n",
       "    .dataframe thead tr:last-of-type th {\n",
       "        text-align: right;\n",
       "    }\n",
       "</style>\n",
       "<table border=\"1\" class=\"dataframe\">\n",
       "  <thead>\n",
       "    <tr>\n",
       "      <th>scenario</th>\n",
       "      <th colspan=\"2\" halign=\"left\">0.25</th>\n",
       "      <th colspan=\"2\" halign=\"left\">0.5</th>\n",
       "      <th colspan=\"2\" halign=\"left\">0.75</th>\n",
       "    </tr>\n",
       "    <tr>\n",
       "      <th>variable</th>\n",
       "      <th>Direct Land CDR</th>\n",
       "      <th>Indirect Land CDR</th>\n",
       "      <th>Direct Land CDR</th>\n",
       "      <th>Indirect Land CDR</th>\n",
       "      <th>Direct Land CDR</th>\n",
       "      <th>Indirect Land CDR</th>\n",
       "    </tr>\n",
       "    <tr>\n",
       "      <th>index</th>\n",
       "      <th></th>\n",
       "      <th></th>\n",
       "      <th></th>\n",
       "      <th></th>\n",
       "      <th></th>\n",
       "      <th></th>\n",
       "    </tr>\n",
       "  </thead>\n",
       "  <tbody>\n",
       "    <tr>\n",
       "      <th>2100 2C</th>\n",
       "      <td>0.889908</td>\n",
       "      <td>-0.637839</td>\n",
       "      <td>1.386553</td>\n",
       "      <td>-0.314799</td>\n",
       "      <td>1.847507</td>\n",
       "      <td>-0.200401</td>\n",
       "    </tr>\n",
       "    <tr>\n",
       "      <th>2100 1.5C</th>\n",
       "      <td>0.879604</td>\n",
       "      <td>-0.871055</td>\n",
       "      <td>1.465213</td>\n",
       "      <td>-0.483882</td>\n",
       "      <td>1.833274</td>\n",
       "      <td>-0.268217</td>\n",
       "    </tr>\n",
       "    <tr>\n",
       "      <th>2050 2C</th>\n",
       "      <td>1.083839</td>\n",
       "      <td>0.745804</td>\n",
       "      <td>1.554694</td>\n",
       "      <td>0.829782</td>\n",
       "      <td>2.164417</td>\n",
       "      <td>0.930474</td>\n",
       "    </tr>\n",
       "    <tr>\n",
       "      <th>2050 1.5C</th>\n",
       "      <td>1.466897</td>\n",
       "      <td>0.273017</td>\n",
       "      <td>2.188953</td>\n",
       "      <td>0.372934</td>\n",
       "      <td>2.490735</td>\n",
       "      <td>0.502465</td>\n",
       "    </tr>\n",
       "    <tr>\n",
       "      <th>2030 2C</th>\n",
       "      <td>1.026133</td>\n",
       "      <td>1.128086</td>\n",
       "      <td>1.275939</td>\n",
       "      <td>1.229089</td>\n",
       "      <td>1.789481</td>\n",
       "      <td>1.281603</td>\n",
       "    </tr>\n",
       "    <tr>\n",
       "      <th>2030 1.5C</th>\n",
       "      <td>1.367713</td>\n",
       "      <td>0.904038</td>\n",
       "      <td>1.629532</td>\n",
       "      <td>1.049510</td>\n",
       "      <td>2.032962</td>\n",
       "      <td>1.107823</td>\n",
       "    </tr>\n",
       "    <tr>\n",
       "      <th>2020</th>\n",
       "      <td>1.000000</td>\n",
       "      <td>1.000000</td>\n",
       "      <td>1.000000</td>\n",
       "      <td>1.000000</td>\n",
       "      <td>1.000000</td>\n",
       "      <td>1.000000</td>\n",
       "    </tr>\n",
       "  </tbody>\n",
       "</table>\n",
       "</div>"
      ],
      "text/plain": [
       "scenario             0.25                               0.5                    \\\n",
       "variable  Direct Land CDR Indirect Land CDR Direct Land CDR Indirect Land CDR   \n",
       "index                                                                           \n",
       "2100 2C          0.889908         -0.637839        1.386553         -0.314799   \n",
       "2100 1.5C        0.879604         -0.871055        1.465213         -0.483882   \n",
       "2050 2C          1.083839          0.745804        1.554694          0.829782   \n",
       "2050 1.5C        1.466897          0.273017        2.188953          0.372934   \n",
       "2030 2C          1.026133          1.128086        1.275939          1.229089   \n",
       "2030 1.5C        1.367713          0.904038        1.629532          1.049510   \n",
       "2020             1.000000          1.000000        1.000000          1.000000   \n",
       "\n",
       "scenario             0.75                    \n",
       "variable  Direct Land CDR Indirect Land CDR  \n",
       "index                                        \n",
       "2100 2C          1.847507         -0.200401  \n",
       "2100 1.5C        1.833274         -0.268217  \n",
       "2050 2C          2.164417          0.930474  \n",
       "2050 1.5C        2.490735          0.502465  \n",
       "2030 2C          1.789481          1.281603  \n",
       "2030 1.5C        2.032962          1.107823  \n",
       "2020             1.000000          1.000000  "
      ]
     },
     "execution_count": 26,
     "metadata": {},
     "output_type": "execute_result"
    }
   ],
   "source": [
    "pdata/ pdata.loc['2020']"
   ]
  },
  {
   "cell_type": "markdown",
   "id": "62479bad",
   "metadata": {},
   "source": [
    "## Cumulative CDR"
   ]
  },
  {
   "cell_type": "code",
   "execution_count": 28,
   "id": "2c432e2b",
   "metadata": {},
   "outputs": [],
   "source": [
    "variables = ['Cumulative Carbon Sink - Indirect', 'Cumulative Carbon Sink - Direct']\n",
    "data, pdata = make_sequestration_plot_data(df.filter(region='World'), variables, {'C1': '1.5C', 'C3': '2C'}, years=future)"
   ]
  },
  {
   "cell_type": "code",
   "execution_count": 42,
   "id": "58bc4580",
   "metadata": {},
   "outputs": [
    {
     "data": {
      "text/plain": [
       "Text(0, 0.5, '')"
      ]
     },
     "execution_count": 42,
     "metadata": {},
     "output_type": "execute_result"
    },
    {
     "data": {
      "image/png": "[encoded data removed]",
      "text/plain": [
       "<Figure size 576x360 with 1 Axes>"
      ]
     },
     "metadata": {
      "needs_background": "light"
     },
     "output_type": "display_data"
    }
   ],
   "source": [
    "fig, ax = plt.subplots(figsize=(8, 5))\n",
    "ax = sequestration_plot(\n",
    "    pdata, order=variables, medians=False,\n",
    "    color={'Cumulative Carbon Sink - Direct': '#33701a', 'Cumulative Carbon Sink - Indirect': 'indigo'},\n",
    "    legend={'loc': 'best'}, ax=ax\n",
    ")\n",
    "ax.set_title('Cumulative Carbon Sequestered by Land Starting from 2020')\n",
    "ax.set_xlabel('Gt CO2')\n",
    "ax.set_ylabel('')"
   ]
  },
  {
   "cell_type": "code",
   "execution_count": 37,
   "id": "a48fad0e",
   "metadata": {},
   "outputs": [
    {
     "data": {
      "text/html": [
       "<div>\n",
       "<style scoped>\n",
       "    .dataframe tbody tr th:only-of-type {\n",
       "        vertical-align: middle;\n",
       "    }\n",
       "\n",
       "    .dataframe tbody tr th {\n",
       "        vertical-align: top;\n",
       "    }\n",
       "\n",
       "    .dataframe thead th {\n",
       "        text-align: right;\n",
       "    }\n",
       "</style>\n",
       "<table border=\"1\" class=\"dataframe\">\n",
       "  <thead>\n",
       "    <tr style=\"text-align: right;\">\n",
       "      <th>variable</th>\n",
       "      <th>Cumulative Carbon Sink - Direct</th>\n",
       "      <th>Cumulative Carbon Sink - Indirect</th>\n",
       "    </tr>\n",
       "    <tr>\n",
       "      <th>index</th>\n",
       "      <th></th>\n",
       "      <th></th>\n",
       "    </tr>\n",
       "  </thead>\n",
       "  <tbody>\n",
       "    <tr>\n",
       "      <th>2100 2C</th>\n",
       "      <td>308.000642</td>\n",
       "      <td>121.384628</td>\n",
       "    </tr>\n",
       "    <tr>\n",
       "      <th>2100 1.5C</th>\n",
       "      <td>368.369799</td>\n",
       "      <td>50.441567</td>\n",
       "    </tr>\n",
       "    <tr>\n",
       "      <th>2050 2C</th>\n",
       "      <td>113.314394</td>\n",
       "      <td>103.862275</td>\n",
       "    </tr>\n",
       "    <tr>\n",
       "      <th>2050 1.5C</th>\n",
       "      <td>132.976731</td>\n",
       "      <td>81.201525</td>\n",
       "    </tr>\n",
       "    <tr>\n",
       "      <th>2030 2C</th>\n",
       "      <td>31.195124</td>\n",
       "      <td>38.079931</td>\n",
       "    </tr>\n",
       "    <tr>\n",
       "      <th>2030 1.5C</th>\n",
       "      <td>35.941523</td>\n",
       "      <td>35.414730</td>\n",
       "    </tr>\n",
       "  </tbody>\n",
       "</table>\n",
       "</div>"
      ],
      "text/plain": [
       "variable   Cumulative Carbon Sink - Direct  Cumulative Carbon Sink - Indirect\n",
       "index                                                                        \n",
       "2100 2C                         308.000642                         121.384628\n",
       "2100 1.5C                       368.369799                          50.441567\n",
       "2050 2C                         113.314394                         103.862275\n",
       "2050 1.5C                       132.976731                          81.201525\n",
       "2030 2C                          31.195124                          38.079931\n",
       "2030 1.5C                        35.941523                          35.414730"
      ]
     },
     "execution_count": 37,
     "metadata": {},
     "output_type": "execute_result"
    }
   ],
   "source": [
    "pdata['0.5']"
   ]
  },
  {
   "cell_type": "code",
   "execution_count": 40,
   "id": "32119531",
   "metadata": {},
   "outputs": [
    {
     "data": {
      "text/plain": [
       "1.176991150442478"
      ]
     },
     "execution_count": 40,
     "metadata": {},
     "output_type": "execute_result"
    }
   ],
   "source": [
    "133 / 113 # ~20% more"
   ]
  },
  {
   "cell_type": "code",
   "execution_count": 41,
   "id": "46f61e9a",
   "metadata": {},
   "outputs": [
    {
     "data": {
      "text/plain": [
       "0.7864077669902912"
      ]
     },
     "execution_count": 41,
     "metadata": {},
     "output_type": "execute_result"
    }
   ],
   "source": [
    "81 / 103 # ~20% less"
   ]
  }
 ],
 "metadata": {
  "kernelspec": {
   "display_name": "Python 3 (ipykernel)",
   "language": "python",
   "name": "python3"
  },
  "language_info": {
   "codemirror_mode": {
    "name": "ipython",
    "version": 3
   },
   "file_extension": ".py",
   "mimetype": "text/x-python",
   "name": "python",
   "nbconvert_exporter": "python",
   "pygments_lexer": "ipython3",
   "version": "3.8.13"
  }
 },
 "nbformat": 4,
 "nbformat_minor": 5
}
